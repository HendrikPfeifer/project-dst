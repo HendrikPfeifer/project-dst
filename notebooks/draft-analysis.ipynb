{
 "cells": [
  {
   "cell_type": "markdown",
   "metadata": {},
   "source": [
    "# Draft analysis \n",
    "\n",
    "---\n",
    "\n",
    "Group name: B\n",
    "\n",
    "---\n"
   ]
  },
  {
   "cell_type": "markdown",
   "metadata": {},
   "source": [
    "## Introduction\n",
    "\n",
    "*This section includes an introduction to the project motivation, data, and research question. Include a data dictionary* \n",
    "\n",
    "### Motivation\n",
    "\n",
    "In the city of Chicago, many incidents/crimes happen every day, from minor thefts to murders. To reduce the violence in the city, the city wants to open a new crime prevention centre. Now the city is asking our team which crimes occur particularly frequently and where they happen. With this information, the **Crime Prevention Center** can be built in a particularly well-situated location. In addition, the specialised departments of the centre can be trained for the relevant criminal offences. This should make Chicago a safer city and ensure that measures are taken at an early stage to prevent crime.\n",
    "\n",
    "Various studies show that it is possible to prevent crime in cities with the help of specific actions. With the new **Crime Prevention Center**, we want to take a new approach in Chicago to prevent crime from the very beginning.\n",
    "\n",
    "### Question\n",
    "\n",
    "Which kind of crimes happen particularly frequently and where do they happen?\n",
    "\n",
    "### Hypotheses\n",
    "\n",
    "There are places (districts/blocks) in Chicago where the most (dangerous) crimes/incidents happen.\n",
    "\n",
    "### Data dictionary\n",
    "\n",
    "\n",
    "| Name  |   Description\t   \t| Type   \t|  Format \t|\n",
    "|---\t|---\t          \t|---\t    |---\t|\n",
    "|id   \t|Unique identifier for the record.   \t            |numeric   \t    |category   \t|\n",
    "|date   \t|Date when the incident occurred.   \t       \t    |oridnal   \t    |date   \t|\n",
    "|block   \t|The partially redacted address where the incident occurred.   \t            |numeric   \t    |category   \t|\n",
    "|primary_type   \t|The primary description of the IUCR code.   \t       \t    |nominal   \t    |category   \t|\n",
    "|arrest   \t|Indicates whether an arrest was made.   \t            |nominal   \t    |category   \t|\n",
    "|domestic   \t|Indicates whether the incident was domestic-related as defined by the Illinois Domestic Violence Act.   \t       \t    |nominal   \t    |category   \t|\n",
    "|beat   \t|Indicates the beat where the incident occurred.   \t       \t    |numeric, dicsrete   \t    |category   \t|\n",
    "|district   \t|Indicates the police district where the incident occurred.   \t       \t    |numeric, dicsrete   \t    |category   \t|\n",
    "|ward   \t|The ward (City Council district) where the incident occurred.   \t       \t    |numeric, discrete   \t    |category   \t|\n",
    "|community_area   \t|Indicates the community area where the incident occurred.   \t       \t    |numeric, discrete   \t    |category   \t|\n",
    "|year   \t|Year the incident occurred.   \t       \t    |nominal   \t    |category   \t|\n",
    "|month   \t|Month the incident occurred.   \t       \t    |nominal   \t    |category   \t|\n",
    "|day   \t|Day the incident occurred.   \t       \t    |nominal   \t    |category   \t|\n",
    "|hour   \t|Hour the incident occurred.   \t       \t    |nominal   \t    |category   \t|\n",
    "|latitude   \t|The longitude of the location where the incident occurred.   \t       \t    |numeric   \t    |float   \t|\n",
    "|longitude   \t|The longitude of the location where the incident occurred.   \t       \t    |numeric   \t    |float   \t|\n",
    "|arrest__False   \t|Indicates whether an arrest was made. 0 means False   \t            |nominal   \t    |category   \t|\n",
    "|arrest__True   \t|Indicates whether an arrest was made. 1 means True   \t            |nominal   \t    |category   \t|\n",
    "|domestic__False   \t|Indicates whether the incident was domestic-related as defined by the Illinois Domestic Violence Act. 0 means False  \t       \t    |nominal   \t    |category   \t|\n",
    "|domestic__True   \t|Indicates whether the incident was domestic-related as defined by the Illinois Domestic Violence Act. 1 means True   \t       \t    |nominal   \t    |category   \t|\n",
    "\n",
    "<br>"
   ]
  },
  {
   "cell_type": "markdown",
   "metadata": {},
   "source": [
    "## Setup"
   ]
  },
  {
   "cell_type": "code",
   "execution_count": 10,
   "metadata": {},
   "outputs": [],
   "source": [
    "from pathlib import Path\n",
    "\n",
    "#Pandas library\n",
    "import pandas as pd\n",
    "\n",
    "#Altair library for visualisations\n",
    "import altair as alt\n",
    "\n",
    "#Stop showing FutureWarning\n",
    "import warnings\n",
    "warnings.simplefilter(action='ignore', category=FutureWarning)\n",
    "\n",
    "#Geopandas library to work with Chicago map\n",
    "import geopandas as gpd\n",
    "\n",
    "#Numpy library for data corrections\n",
    "import numpy as np"
   ]
  },
  {
   "cell_type": "markdown",
   "metadata": {},
   "source": [
    "## Data"
   ]
  },
  {
   "cell_type": "markdown",
   "metadata": {},
   "source": [
    "## Import data"
   ]
  },
  {
   "cell_type": "code",
   "execution_count": 11,
   "metadata": {},
   "outputs": [],
   "source": [
    "#import Dataset\n",
    "PARENT_PATH = str(Path().resolve().parent) + \"/\"\n",
    "PATH = \"data/\"\n",
    "SUBPATH = \"interim/\"\n",
    "FILE = \"chicago_crimes-20221130-1405\"\n",
    "FORMAT = \".csv\"\n",
    "\n",
    "\n",
    "df = pd.read_csv(PARENT_PATH + PATH + SUBPATH + FILE + FORMAT)\n",
    "\n",
    "\n",
    "#import Geopandas Dataset\n",
    "\n",
    "PARENT_PATH = str(Path().resolve().parent) + \"/\"\n",
    "PATH = \"data/\"\n",
    "SUBPATH = \"external/\"\n",
    "FILE = \"wards\"\n",
    "FORMAT = \".shp\"\n",
    "\n",
    "gdf = gpd.read_file(PARENT_PATH + PATH + SUBPATH + FILE + FORMAT)"
   ]
  },
  {
   "cell_type": "markdown",
   "metadata": {},
   "source": [
    "### Data structure"
   ]
  },
  {
   "cell_type": "code",
   "execution_count": 12,
   "metadata": {},
   "outputs": [
    {
     "data": {
      "text/html": [
       "<div>\n",
       "<style scoped>\n",
       "    .dataframe tbody tr th:only-of-type {\n",
       "        vertical-align: middle;\n",
       "    }\n",
       "\n",
       "    .dataframe tbody tr th {\n",
       "        vertical-align: top;\n",
       "    }\n",
       "\n",
       "    .dataframe thead th {\n",
       "        text-align: right;\n",
       "    }\n",
       "</style>\n",
       "<table border=\"1\" class=\"dataframe\">\n",
       "  <thead>\n",
       "    <tr style=\"text-align: right;\">\n",
       "      <th></th>\n",
       "      <th>id</th>\n",
       "      <th>date</th>\n",
       "      <th>block</th>\n",
       "      <th>primary_type</th>\n",
       "      <th>arrest</th>\n",
       "      <th>domestic</th>\n",
       "      <th>beat</th>\n",
       "      <th>district</th>\n",
       "      <th>ward</th>\n",
       "      <th>community_area</th>\n",
       "      <th>year</th>\n",
       "      <th>latitude</th>\n",
       "      <th>longitude</th>\n",
       "      <th>month</th>\n",
       "      <th>day</th>\n",
       "      <th>hour</th>\n",
       "      <th>arrest__False</th>\n",
       "      <th>arrest__True</th>\n",
       "      <th>domestic__False</th>\n",
       "      <th>domestic__True</th>\n",
       "    </tr>\n",
       "  </thead>\n",
       "  <tbody>\n",
       "    <tr>\n",
       "      <th>0</th>\n",
       "      <td>11452981</td>\n",
       "      <td>2018-09-15 23:00:00</td>\n",
       "      <td>045XX S FAIRFIELD AVE</td>\n",
       "      <td>sexual_crime</td>\n",
       "      <td>False</td>\n",
       "      <td>False</td>\n",
       "      <td>922</td>\n",
       "      <td>9.0</td>\n",
       "      <td>12.0</td>\n",
       "      <td>58.0</td>\n",
       "      <td>2018</td>\n",
       "      <td>41.811058</td>\n",
       "      <td>-87.693066</td>\n",
       "      <td>9</td>\n",
       "      <td>15</td>\n",
       "      <td>23</td>\n",
       "      <td>1</td>\n",
       "      <td>0</td>\n",
       "      <td>1</td>\n",
       "      <td>0</td>\n",
       "    </tr>\n",
       "    <tr>\n",
       "      <th>1</th>\n",
       "      <td>11370943</td>\n",
       "      <td>2018-07-05 22:00:00</td>\n",
       "      <td>022XX S MICHIGAN AVE</td>\n",
       "      <td>theft</td>\n",
       "      <td>False</td>\n",
       "      <td>False</td>\n",
       "      <td>131</td>\n",
       "      <td>1.0</td>\n",
       "      <td>2.0</td>\n",
       "      <td>33.0</td>\n",
       "      <td>2018</td>\n",
       "      <td>41.852410</td>\n",
       "      <td>-87.623792</td>\n",
       "      <td>7</td>\n",
       "      <td>5</td>\n",
       "      <td>22</td>\n",
       "      <td>1</td>\n",
       "      <td>0</td>\n",
       "      <td>1</td>\n",
       "      <td>0</td>\n",
       "    </tr>\n",
       "    <tr>\n",
       "      <th>2</th>\n",
       "      <td>11805144</td>\n",
       "      <td>2019-08-24 01:00:00</td>\n",
       "      <td>084XX S KENNETH AVE</td>\n",
       "      <td>theft</td>\n",
       "      <td>False</td>\n",
       "      <td>False</td>\n",
       "      <td>834</td>\n",
       "      <td>8.0</td>\n",
       "      <td>18.0</td>\n",
       "      <td>70.0</td>\n",
       "      <td>2019</td>\n",
       "      <td>41.739312</td>\n",
       "      <td>-87.732509</td>\n",
       "      <td>8</td>\n",
       "      <td>24</td>\n",
       "      <td>1</td>\n",
       "      <td>1</td>\n",
       "      <td>0</td>\n",
       "      <td>1</td>\n",
       "      <td>0</td>\n",
       "    </tr>\n",
       "    <tr>\n",
       "      <th>3</th>\n",
       "      <td>11208069</td>\n",
       "      <td>2018-01-19 11:44:00</td>\n",
       "      <td>0000X N LATROBE AVE</td>\n",
       "      <td>narcotics</td>\n",
       "      <td>True</td>\n",
       "      <td>False</td>\n",
       "      <td>1522</td>\n",
       "      <td>15.0</td>\n",
       "      <td>28.0</td>\n",
       "      <td>25.0</td>\n",
       "      <td>2018</td>\n",
       "      <td>41.880998</td>\n",
       "      <td>-87.756304</td>\n",
       "      <td>1</td>\n",
       "      <td>19</td>\n",
       "      <td>11</td>\n",
       "      <td>0</td>\n",
       "      <td>1</td>\n",
       "      <td>1</td>\n",
       "      <td>0</td>\n",
       "    </tr>\n",
       "    <tr>\n",
       "      <th>4</th>\n",
       "      <td>11352516</td>\n",
       "      <td>2018-06-18 23:00:00</td>\n",
       "      <td>009XX W BARRY AVE</td>\n",
       "      <td>criminal_damage</td>\n",
       "      <td>False</td>\n",
       "      <td>False</td>\n",
       "      <td>1933</td>\n",
       "      <td>19.0</td>\n",
       "      <td>44.0</td>\n",
       "      <td>6.0</td>\n",
       "      <td>2018</td>\n",
       "      <td>41.938104</td>\n",
       "      <td>-87.653157</td>\n",
       "      <td>6</td>\n",
       "      <td>18</td>\n",
       "      <td>23</td>\n",
       "      <td>1</td>\n",
       "      <td>0</td>\n",
       "      <td>1</td>\n",
       "      <td>0</td>\n",
       "    </tr>\n",
       "  </tbody>\n",
       "</table>\n",
       "</div>"
      ],
      "text/plain": [
       "         id                 date                  block     primary_type  \\\n",
       "0  11452981  2018-09-15 23:00:00  045XX S FAIRFIELD AVE     sexual_crime   \n",
       "1  11370943  2018-07-05 22:00:00   022XX S MICHIGAN AVE            theft   \n",
       "2  11805144  2019-08-24 01:00:00    084XX S KENNETH AVE            theft   \n",
       "3  11208069  2018-01-19 11:44:00    0000X N LATROBE AVE        narcotics   \n",
       "4  11352516  2018-06-18 23:00:00      009XX W BARRY AVE  criminal_damage   \n",
       "\n",
       "   arrest  domestic  beat  district  ward  community_area  year   latitude  \\\n",
       "0   False     False   922       9.0  12.0            58.0  2018  41.811058   \n",
       "1   False     False   131       1.0   2.0            33.0  2018  41.852410   \n",
       "2   False     False   834       8.0  18.0            70.0  2019  41.739312   \n",
       "3    True     False  1522      15.0  28.0            25.0  2018  41.880998   \n",
       "4   False     False  1933      19.0  44.0             6.0  2018  41.938104   \n",
       "\n",
       "   longitude  month  day  hour  arrest__False  arrest__True  domestic__False  \\\n",
       "0 -87.693066      9   15    23              1             0                1   \n",
       "1 -87.623792      7    5    22              1             0                1   \n",
       "2 -87.732509      8   24     1              1             0                1   \n",
       "3 -87.756304      1   19    11              0             1                1   \n",
       "4 -87.653157      6   18    23              1             0                1   \n",
       "\n",
       "   domestic__True  \n",
       "0               0  \n",
       "1               0  \n",
       "2               0  \n",
       "3               0  \n",
       "4               0  "
      ]
     },
     "execution_count": 12,
     "metadata": {},
     "output_type": "execute_result"
    }
   ],
   "source": [
    "df.head()"
   ]
  },
  {
   "cell_type": "code",
   "execution_count": 13,
   "metadata": {},
   "outputs": [
    {
     "name": "stdout",
     "output_type": "stream",
     "text": [
      "<class 'pandas.core.frame.DataFrame'>\n",
      "RangeIndex: 76363 entries, 0 to 76362\n",
      "Data columns (total 20 columns):\n",
      " #   Column           Non-Null Count  Dtype  \n",
      "---  ------           --------------  -----  \n",
      " 0   id               76363 non-null  int64  \n",
      " 1   date             76363 non-null  object \n",
      " 2   block            76363 non-null  object \n",
      " 3   primary_type     76363 non-null  object \n",
      " 4   arrest           76363 non-null  bool   \n",
      " 5   domestic         76363 non-null  bool   \n",
      " 6   beat             76363 non-null  int64  \n",
      " 7   district         76363 non-null  float64\n",
      " 8   ward             76361 non-null  float64\n",
      " 9   community_area   76363 non-null  float64\n",
      " 10  year             76363 non-null  int64  \n",
      " 11  latitude         76363 non-null  float64\n",
      " 12  longitude        76363 non-null  float64\n",
      " 13  month            76363 non-null  int64  \n",
      " 14  day              76363 non-null  int64  \n",
      " 15  hour             76363 non-null  int64  \n",
      " 16  arrest__False    76363 non-null  int64  \n",
      " 17  arrest__True     76363 non-null  int64  \n",
      " 18  domestic__False  76363 non-null  int64  \n",
      " 19  domestic__True   76363 non-null  int64  \n",
      "dtypes: bool(2), float64(5), int64(10), object(3)\n",
      "memory usage: 10.6+ MB\n"
     ]
    }
   ],
   "source": [
    "df.info()"
   ]
  },
  {
   "cell_type": "code",
   "execution_count": null,
   "metadata": {},
   "outputs": [],
   "source": [
    "gdf.head()"
   ]
  },
  {
   "cell_type": "code",
   "execution_count": null,
   "metadata": {},
   "outputs": [],
   "source": [
    "gdf.info()"
   ]
  },
  {
   "cell_type": "markdown",
   "metadata": {},
   "source": [
    "### Data corrections"
   ]
  },
  {
   "cell_type": "code",
   "execution_count": 22,
   "metadata": {},
   "outputs": [],
   "source": [
    "list_categorial = [\"id\", \"block\", \"primary_type\", \"arrest\", \"domestic\", \"beat\", \"district\", \"ward\", \"community_area\", \"year\", \"month\", \"day\", \"hour\", \"arrest__False\", \"arrest__True\", \"domestic__False\", \"domestic__True\"]"
   ]
  },
  {
   "cell_type": "code",
   "execution_count": 23,
   "metadata": {},
   "outputs": [],
   "source": [
    "for i in list_categorial:\n",
    "    df[i] = df[i].astype(\"category\")"
   ]
  },
  {
   "cell_type": "code",
   "execution_count": 20,
   "metadata": {},
   "outputs": [],
   "source": [
    "#date in datetime umwandeln\n",
    "df[\"date\"] = pd.to_datetime(df.date)"
   ]
  },
  {
   "cell_type": "code",
   "execution_count": 24,
   "metadata": {},
   "outputs": [
    {
     "name": "stdout",
     "output_type": "stream",
     "text": [
      "<class 'pandas.core.frame.DataFrame'>\n",
      "RangeIndex: 76363 entries, 0 to 76362\n",
      "Data columns (total 20 columns):\n",
      " #   Column           Non-Null Count  Dtype         \n",
      "---  ------           --------------  -----         \n",
      " 0   id               76363 non-null  category      \n",
      " 1   date             76363 non-null  datetime64[ns]\n",
      " 2   block            76363 non-null  category      \n",
      " 3   primary_type     76363 non-null  category      \n",
      " 4   arrest           76363 non-null  category      \n",
      " 5   domestic         76363 non-null  category      \n",
      " 6   beat             76363 non-null  category      \n",
      " 7   district         76363 non-null  category      \n",
      " 8   ward             76361 non-null  category      \n",
      " 9   community_area   76363 non-null  category      \n",
      " 10  year             76363 non-null  category      \n",
      " 11  latitude         76363 non-null  float64       \n",
      " 12  longitude        76363 non-null  float64       \n",
      " 13  month            76363 non-null  category      \n",
      " 14  day              76363 non-null  category      \n",
      " 15  hour             76363 non-null  category      \n",
      " 16  arrest__False    76363 non-null  category      \n",
      " 17  arrest__True     76363 non-null  category      \n",
      " 18  domestic__False  76363 non-null  category      \n",
      " 19  domestic__True   76363 non-null  category      \n",
      "dtypes: category(17), datetime64[ns](1), float64(2)\n",
      "memory usage: 6.6 MB\n"
     ]
    }
   ],
   "source": [
    "df.info()"
   ]
  },
  {
   "cell_type": "markdown",
   "metadata": {},
   "source": [
    "## Analysis"
   ]
  },
  {
   "cell_type": "markdown",
   "metadata": {},
   "source": [
    "### Descriptive statistics"
   ]
  },
  {
   "cell_type": "code",
   "execution_count": null,
   "metadata": {},
   "outputs": [],
   "source": []
  },
  {
   "cell_type": "markdown",
   "metadata": {},
   "source": [
    "### Exploratory data analysis"
   ]
  },
  {
   "cell_type": "code",
   "execution_count": null,
   "metadata": {},
   "outputs": [],
   "source": []
  },
  {
   "cell_type": "markdown",
   "metadata": {},
   "source": [
    "## Visualizations"
   ]
  },
  {
   "cell_type": "markdown",
   "metadata": {},
   "source": [
    "### Visualization ideas"
   ]
  },
  {
   "cell_type": "code",
   "execution_count": null,
   "metadata": {},
   "outputs": [],
   "source": []
  },
  {
   "cell_type": "markdown",
   "metadata": {},
   "source": [
    "### Save Visualizations\n"
   ]
  },
  {
   "cell_type": "code",
   "execution_count": null,
   "metadata": {},
   "outputs": [],
   "source": []
  },
  {
   "cell_type": "markdown",
   "metadata": {},
   "source": [
    "\n",
    "Save your draft visualizations in the folder `reports/visualizations/`. Use a meaningful name (always include the word `draft` and a `timestamp`in your filename)."
   ]
  },
  {
   "cell_type": "code",
   "execution_count": null,
   "metadata": {},
   "outputs": [],
   "source": []
  },
  {
   "cell_type": "markdown",
   "metadata": {},
   "source": [
    "## Conclusion and recommended action"
   ]
  },
  {
   "cell_type": "markdown",
   "metadata": {},
   "source": []
  }
 ],
 "metadata": {
  "kernelspec": {
   "display_name": "Python 3.9.13 ('dst')",
   "language": "python",
   "name": "python3"
  },
  "language_info": {
   "codemirror_mode": {
    "name": "ipython",
    "version": 3
   },
   "file_extension": ".py",
   "mimetype": "text/x-python",
   "name": "python",
   "nbconvert_exporter": "python",
   "pygments_lexer": "ipython3",
   "version": "3.9.13"
  },
  "orig_nbformat": 4,
  "vscode": {
   "interpreter": {
    "hash": "afb2be5e0fa59e7cc779d156738954d1f1d32fb360bdb57d692d068a241e7d01"
   }
  }
 },
 "nbformat": 4,
 "nbformat_minor": 2
}
