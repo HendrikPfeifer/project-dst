{
 "cells": [
  {
   "cell_type": "markdown",
   "metadata": {},
   "source": [
    "# Draft analysis \n",
    "\n",
    "---\n",
    "\n",
    "Group name: B\n",
    "\n",
    "---\n"
   ]
  },
  {
   "cell_type": "markdown",
   "metadata": {},
   "source": [
    "## Introduction\n",
    "\n",
    "*This section includes an introduction to the project motivation, data, and research question. Include a data dictionary* \n",
    "\n",
    "### Motivation\n",
    "\n",
    "In the city of Chicago, many incidents/crimes happen every day, from minor thefts to murders. To reduce the violence in the city, the city wants to open a new crime prevention centre. Now the city is asking our team which crimes occur particularly frequently and where they happen. With this information, the **Crime Prevention Center** can be built in a particularly well-situated location. In addition, the specialised departments of the centre can be trained for the relevant criminal offences. This should make Chicago a safer city and ensure that measures are taken at an early stage to prevent crime.\n",
    "\n",
    "Various studies show that it is possible to prevent crime in cities with the help of specific actions. With the new **Crime Prevention Center**, we want to take a new approach in Chicago to prevent crime from the very beginning.\n",
    "\n",
    "### Question\n",
    "\n",
    "Which kind of crimes happen particularly frequently and where do they happen?\n",
    "\n",
    "### Hypotheses\n",
    "\n",
    "There are places (districts/blocks) in Chicago where the most (dangerous) crimes/incidents happen.\n",
    "\n",
    "### Data dictionary\n",
    "\n",
    "\n",
    "| Name  |   Description\t   \t| Type   \t|  Format \t|\n",
    "|---\t|---\t          \t|---\t    |---\t|\n",
    "|id   \t|Unique identifier for the record.   \t            |numeric   \t    |category   \t|\n",
    "|date   \t|Date when the incident occurred.   \t       \t    |oridnal   \t    |date   \t|\n",
    "|block   \t|The partially redacted address where the incident occurred.   \t            |numeric   \t    |category   \t|\n",
    "|primary_type   \t|The primary description of the IUCR code.   \t       \t    |nominal   \t    |category   \t|\n",
    "|arrest   \t|Indicates whether an arrest was made.   \t            |nominal   \t    |category   \t|\n",
    "|domestic   \t|Indicates whether the incident was domestic-related as defined by the Illinois Domestic Violence Act.   \t       \t    |nominal   \t    |category   \t|\n",
    "|beat   \t|Indicates the beat where the incident occurred.   \t       \t    |numeric, dicsrete   \t    |category   \t|\n",
    "|district   \t|Indicates the police district where the incident occurred.   \t       \t    |numeric, dicsrete   \t    |category   \t|\n",
    "|ward   \t|The ward (City Council district) where the incident occurred.   \t       \t    |numeric, discrete   \t    |category   \t|\n",
    "|community_area   \t|Indicates the community area where the incident occurred.   \t       \t    |numeric, discrete   \t    |category   \t|\n",
    "|year   \t|Year the incident occurred.   \t       \t    |nominal   \t    |category   \t|\n",
    "|month   \t|Month the incident occurred.   \t       \t    |nominal   \t    |category   \t|\n",
    "|day   \t|Day the incident occurred.   \t       \t    |nominal   \t    |category   \t|\n",
    "|hour   \t|Hour the incident occurred.   \t       \t    |nominal   \t    |category   \t|\n",
    "|latitude   \t|The longitude of the location where the incident occurred.   \t       \t    |numeric   \t    |float   \t|\n",
    "|longitude   \t|The longitude of the location where the incident occurred.   \t       \t    |numeric   \t    |float   \t|\n",
    "|arrest__False   \t|Indicates whether an arrest was made. 0 means False   \t            |nominal   \t    |category   \t|\n",
    "|arrest__True   \t|Indicates whether an arrest was made. 1 means True   \t            |nominal   \t    |category   \t|\n",
    "|domestic__False   \t|Indicates whether the incident was domestic-related as defined by the Illinois Domestic Violence Act. 0 means False  \t       \t    |nominal   \t    |category   \t|\n",
    "|domestic__True   \t|Indicates whether the incident was domestic-related as defined by the Illinois Domestic Violence Act. 1 means True   \t       \t    |nominal   \t    |category   \t|\n",
    "\n",
    "<br>"
   ]
  },
  {
   "cell_type": "markdown",
   "metadata": {},
   "source": [
    "## Setup"
   ]
  },
  {
   "cell_type": "code",
   "execution_count": null,
   "metadata": {},
   "outputs": [],
   "source": [
    "from pathlib import Path\n",
    "\n",
    "#Pandas library\n",
    "import pandas as pd\n",
    "\n",
    "#Altair library for visualisations\n",
    "import altair as alt\n",
    "\n",
    "#Stop showing FutureWarning\n",
    "import warnings\n",
    "warnings.simplefilter(action='ignore', category=FutureWarning)\n",
    "\n",
    "#Geopandas library to work with Chicago map\n",
    "import geopandas as gpd\n",
    "\n",
    "#Numpy library for data corrections\n",
    "import numpy as np"
   ]
  },
  {
   "cell_type": "markdown",
   "metadata": {},
   "source": [
    "## Data"
   ]
  },
  {
   "cell_type": "markdown",
   "metadata": {},
   "source": [
    "## Import data"
   ]
  },
  {
   "cell_type": "code",
   "execution_count": null,
   "metadata": {},
   "outputs": [],
   "source": [
    "#import Dataset\n",
    "PARENT_PATH = str(Path().resolve().parent) + \"/\"\n",
    "PATH = \"data/\"\n",
    "SUBPATH = \"interim/\"\n",
    "FILE = \"chicago_crimes-20221130-1405\"\n",
    "FORMAT = \".csv\"\n",
    "\n",
    "\n",
    "df = pd.read_csv(PARENT_PATH + PATH + SUBPATH + FILE + FORMAT)\n",
    "\n",
    "\n",
    "#import Geopandas Dataset\n",
    "\n",
    "PARENT_PATH = str(Path().resolve().parent) + \"/\"\n",
    "PATH = \"data/\"\n",
    "SUBPATH = \"external/\"\n",
    "FILE = \"wards\"\n",
    "FORMAT = \".shp\"\n",
    "\n",
    "gdf = gpd.read_file(PARENT_PATH + PATH + SUBPATH + FILE + FORMAT)"
   ]
  },
  {
   "cell_type": "markdown",
   "metadata": {},
   "source": [
    "### Data structure"
   ]
  },
  {
   "cell_type": "code",
   "execution_count": null,
   "metadata": {},
   "outputs": [],
   "source": [
    "df.head()"
   ]
  },
  {
   "cell_type": "code",
   "execution_count": null,
   "metadata": {},
   "outputs": [],
   "source": [
    "df.info()"
   ]
  },
  {
   "cell_type": "code",
   "execution_count": null,
   "metadata": {},
   "outputs": [],
   "source": [
    "gdf.head()"
   ]
  },
  {
   "cell_type": "code",
   "execution_count": null,
   "metadata": {},
   "outputs": [],
   "source": [
    "gdf.info()"
   ]
  },
  {
   "cell_type": "markdown",
   "metadata": {},
   "source": [
    "### Data corrections"
   ]
  },
  {
   "cell_type": "code",
   "execution_count": null,
   "metadata": {},
   "outputs": [],
   "source": []
  },
  {
   "cell_type": "markdown",
   "metadata": {},
   "source": [
    "## Analysis"
   ]
  },
  {
   "cell_type": "markdown",
   "metadata": {},
   "source": [
    "### Descriptive statistics"
   ]
  },
  {
   "cell_type": "code",
   "execution_count": null,
   "metadata": {},
   "outputs": [],
   "source": []
  },
  {
   "cell_type": "markdown",
   "metadata": {},
   "source": [
    "### Exploratory data analysis"
   ]
  },
  {
   "cell_type": "code",
   "execution_count": null,
   "metadata": {},
   "outputs": [],
   "source": []
  },
  {
   "cell_type": "markdown",
   "metadata": {},
   "source": [
    "## Visualizations"
   ]
  },
  {
   "cell_type": "markdown",
   "metadata": {},
   "source": [
    "### Visualization ideas"
   ]
  },
  {
   "cell_type": "code",
   "execution_count": null,
   "metadata": {},
   "outputs": [],
   "source": []
  },
  {
   "cell_type": "markdown",
   "metadata": {},
   "source": [
    "### Save Visualizations\n"
   ]
  },
  {
   "cell_type": "code",
   "execution_count": null,
   "metadata": {},
   "outputs": [],
   "source": []
  },
  {
   "cell_type": "markdown",
   "metadata": {},
   "source": [
    "\n",
    "Save your draft visualizations in the folder `reports/visualizations/`. Use a meaningful name (always include the word `draft` and a `timestamp`in your filename)."
   ]
  },
  {
   "cell_type": "code",
   "execution_count": null,
   "metadata": {},
   "outputs": [],
   "source": []
  },
  {
   "cell_type": "markdown",
   "metadata": {},
   "source": [
    "## Conclusion and recommended action"
   ]
  },
  {
   "cell_type": "markdown",
   "metadata": {},
   "source": []
  }
 ],
 "metadata": {
  "kernelspec": {
   "display_name": "Python 3.9.13 ('dst')",
   "language": "python",
   "name": "python3"
  },
  "language_info": {
   "codemirror_mode": {
    "name": "ipython",
    "version": 3
   },
   "file_extension": ".py",
   "mimetype": "text/x-python",
   "name": "python",
   "nbconvert_exporter": "python",
   "pygments_lexer": "ipython3",
   "version": "3.9.13"
  },
  "orig_nbformat": 4,
  "vscode": {
   "interpreter": {
    "hash": "afb2be5e0fa59e7cc779d156738954d1f1d32fb360bdb57d692d068a241e7d01"
   }
  }
 },
 "nbformat": 4,
 "nbformat_minor": 2
}
