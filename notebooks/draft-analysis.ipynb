{
 "cells": [
  {
   "cell_type": "markdown",
   "metadata": {},
   "source": [
    "# Draft analysis \n",
    "\n",
    "---\n",
    "\n",
    "Group name: B\n",
    "\n",
    "---\n"
   ]
  },
  {
   "cell_type": "markdown",
   "metadata": {},
   "source": [
    "## Introduction\n",
    "\n",
    "*This section includes an introduction to the project motivation, data, and research question. Include a data dictionary* \n",
    "\n",
    "### Motivation\n",
    "\n",
    "In the city of Chicago, many incidents/crimes happen every day, from minor thefts to murders. To reduce the violence in the city, the city wants to open a new crime prevention centre. Now the city is asking our team which crimes occur particularly frequently and where they happen. With this information, the **Crime Prevention Center** can be built in a particularly well-situated location. In addition, the specialised departments of the centre can be trained for the relevant criminal offences. This should make Chicago a safer city and ensure that measures are taken at an early stage to prevent crime.\n",
    "\n",
    "Various studies show that it is possible to prevent crime in cities with the help of specific actions. With the new **Crime Prevention Center**, we want to take a new approach in Chicago to prevent crime from the very beginning.\n",
    "\n",
    "### Question\n",
    "\n",
    "Which kind of crimes happen particularly frequently and where do they happen?\n",
    "\n",
    "### Hypotheses\n",
    "\n",
    "There are places (districts/blocks) in Chicago where the most (dangerous) crimes/incidents happen.\n",
    "\n",
    "### Data dictionary\n",
    "\n",
    "\n",
    "| Name  |   Description\t   \t| Type   \t|  Format \t|\n",
    "|---\t|---\t          \t|---\t    |---\t|\n",
    "|id   \t|Unique identifier for the record.   \t            |numeric   \t    |category   \t|\n",
    "|date   \t|Date when the incident occurred.   \t       \t    |oridnal   \t    |date   \t|\n",
    "|block   \t|The partially redacted address where the incident occurred.   \t            |numeric   \t    |category   \t|\n",
    "|primary_type   \t|The primary description of the IUCR code.   \t       \t    |nominal   \t    |category   \t|\n",
    "|arrest   \t|Indicates whether an arrest was made.   \t            |nominal   \t    |category   \t|\n",
    "|domestic   \t|Indicates whether the incident was domestic-related as defined by the Illinois Domestic Violence Act.   \t       \t    |nominal   \t    |category   \t|\n",
    "|beat   \t|Indicates the beat where the incident occurred.   \t       \t    |numeric, dicsrete   \t    |category   \t|\n",
    "|district   \t|Indicates the police district where the incident occurred.   \t       \t    |numeric, dicsrete   \t    |category   \t|\n",
    "|ward   \t|The ward (City Council district) where the incident occurred.   \t       \t    |numeric, discrete   \t    |category   \t|\n",
    "|community_area   \t|Indicates the community area where the incident occurred.   \t       \t    |numeric, discrete   \t    |category   \t|\n",
    "|year   \t|Year the incident occurred.   \t       \t    |nominal   \t    |category   \t|\n",
    "|month   \t|Month the incident occurred.   \t       \t    |nominal   \t    |category   \t|\n",
    "|day   \t|Day the incident occurred.   \t       \t    |nominal   \t    |category   \t|\n",
    "|hour   \t|Hour the incident occurred.   \t       \t    |nominal   \t    |category   \t|\n",
    "|latitude   \t|The longitude of the location where the incident occurred.   \t       \t    |numeric   \t    |float   \t|\n",
    "|longitude   \t|The longitude of the location where the incident occurred.   \t       \t    |numeric   \t    |float   \t|\n",
    "|arrest__False   \t|Indicates whether an arrest was made. 0 means False   \t            |nominal   \t    |category   \t|\n",
    "|arrest__True   \t|Indicates whether an arrest was made. 1 means True   \t            |nominal   \t    |category   \t|\n",
    "|domestic__False   \t|Indicates whether the incident was domestic-related as defined by the Illinois Domestic Violence Act. 0 means False  \t       \t    |nominal   \t    |category   \t|\n",
    "|domestic__True   \t|Indicates whether the incident was domestic-related as defined by the Illinois Domestic Violence Act. 1 means True   \t       \t    |nominal   \t    |category   \t|\n",
    "\n",
    "<br>"
   ]
  },
  {
   "cell_type": "markdown",
   "metadata": {},
   "source": [
    "## Setup"
   ]
  },
  {
   "cell_type": "code",
   "execution_count": null,
   "metadata": {},
   "outputs": [],
   "source": [
    "from pathlib import Path\n",
    "\n",
    "#Pandas library\n",
    "import pandas as pd\n",
    "\n",
    "#Altair library for visualisations\n",
    "import altair as alt\n",
    "\n",
    "#disable max rows\n",
    "alt.data_transformers.disable_max_rows()\n",
    "\n",
    "#Stop showing FutureWarning\n",
    "import warnings\n",
    "warnings.simplefilter(action='ignore', category=FutureWarning)\n",
    "\n",
    "#Geopandas library to work with Chicago map // OPTIMAL\n",
    "import geopandas as gpd\n",
    "\n"
   ]
  },
  {
   "cell_type": "markdown",
   "metadata": {},
   "source": [
    "## Data"
   ]
  },
  {
   "cell_type": "markdown",
   "metadata": {},
   "source": [
    "## Import data"
   ]
  },
  {
   "cell_type": "code",
   "execution_count": null,
   "metadata": {},
   "outputs": [],
   "source": [
    "#import Dataset\n",
    "PARENT_PATH = str(Path().resolve().parent) + \"/\"\n",
    "PATH = \"data/\"\n",
    "SUBPATH = \"interim/\"\n",
    "FILE = \"chicago_crimes-20221130-1405\"\n",
    "FORMAT = \".csv\"\n",
    "\n",
    "\n",
    "df = pd.read_csv(PARENT_PATH + PATH + SUBPATH + FILE + FORMAT)\n",
    "\n",
    "\n",
    "#import Geopandas Dataset\n",
    "\n",
    "PARENT_PATH = str(Path().resolve().parent) + \"/\"\n",
    "PATH = \"data/\"\n",
    "SUBPATH = \"external/\"\n",
    "FILE = \"wards\"\n",
    "FORMAT = \".shp\"\n",
    "\n",
    "gdf = gpd.read_file(PARENT_PATH + PATH + SUBPATH + FILE + FORMAT)"
   ]
  },
  {
   "cell_type": "markdown",
   "metadata": {},
   "source": [
    "### Data structure"
   ]
  },
  {
   "cell_type": "code",
   "execution_count": null,
   "metadata": {},
   "outputs": [],
   "source": [
    "df.head()"
   ]
  },
  {
   "cell_type": "code",
   "execution_count": null,
   "metadata": {},
   "outputs": [],
   "source": [
    "df.info()"
   ]
  },
  {
   "cell_type": "code",
   "execution_count": null,
   "metadata": {},
   "outputs": [],
   "source": [
    "#drop missing values\n",
    "df = df.dropna()"
   ]
  },
  {
   "cell_type": "code",
   "execution_count": null,
   "metadata": {},
   "outputs": [],
   "source": [
    "#rename column ward to wards\n",
    "gdf = gdf.rename(columns={'ward': 'wards'})"
   ]
  },
  {
   "cell_type": "code",
   "execution_count": null,
   "metadata": {},
   "outputs": [],
   "source": [
    "gdf.head()"
   ]
  },
  {
   "cell_type": "code",
   "execution_count": null,
   "metadata": {},
   "outputs": [],
   "source": [
    "gdf.info()"
   ]
  },
  {
   "cell_type": "markdown",
   "metadata": {},
   "source": [
    "### Data corrections"
   ]
  },
  {
   "cell_type": "code",
   "execution_count": null,
   "metadata": {},
   "outputs": [],
   "source": [
    "list_categorial = [\"id\", \"block\", \"primary_type\", \"arrest\", \"domestic\", \"beat\", \"year\", \"month\", \"day\", \"hour\", \"arrest__False\", \"arrest__True\", \"domestic__False\", \"domestic__True\"]"
   ]
  },
  {
   "cell_type": "code",
   "execution_count": null,
   "metadata": {},
   "outputs": [],
   "source": [
    "for i in list_categorial:\n",
    "    df[i] = df[i].astype(\"category\")"
   ]
  },
  {
   "cell_type": "code",
   "execution_count": null,
   "metadata": {},
   "outputs": [],
   "source": [
    "list_cat = [\"district\", \"ward\", \"community_area\"]"
   ]
  },
  {
   "cell_type": "code",
   "execution_count": null,
   "metadata": {},
   "outputs": [],
   "source": [
    "for x in list_cat:\n",
    "    df[x] = df[x].astype(str).apply(lambda x: x.replace('.0',''))"
   ]
  },
  {
   "cell_type": "code",
   "execution_count": null,
   "metadata": {},
   "outputs": [],
   "source": [
    "#for x in list_cat:\n",
    "#    df[x] = df[x].astype(str)"
   ]
  },
  {
   "cell_type": "code",
   "execution_count": null,
   "metadata": {},
   "outputs": [],
   "source": [
    "#for x in list_categorial:\n",
    "#    df[x] = df[x].astype(\"category\")"
   ]
  },
  {
   "cell_type": "code",
   "execution_count": null,
   "metadata": {},
   "outputs": [],
   "source": [
    "df[\"district\"] = df[\"district\"].astype(\"category\")\n",
    "df[\"ward\"] = df[\"ward\"].astype(\"category\")\n",
    "df[\"community_area\"] = df[\"community_area\"].astype(\"category\")"
   ]
  },
  {
   "cell_type": "code",
   "execution_count": null,
   "metadata": {},
   "outputs": [],
   "source": [
    "#date in datetime umwandeln\n",
    "df[\"date\"] = pd.to_datetime(df.date)"
   ]
  },
  {
   "cell_type": "code",
   "execution_count": null,
   "metadata": {},
   "outputs": [],
   "source": [
    "df.info()"
   ]
  },
  {
   "cell_type": "code",
   "execution_count": null,
   "metadata": {},
   "outputs": [],
   "source": [
    "df.head(3)"
   ]
  },
  {
   "cell_type": "markdown",
   "metadata": {},
   "source": [
    "## Analysis"
   ]
  },
  {
   "cell_type": "markdown",
   "metadata": {},
   "source": [
    "### Descriptive statistics"
   ]
  },
  {
   "cell_type": "code",
   "execution_count": null,
   "metadata": {},
   "outputs": [],
   "source": [
    "#number of crime types\n",
    "df[\"primary_type\"].value_counts()"
   ]
  },
  {
   "cell_type": "code",
   "execution_count": null,
   "metadata": {},
   "outputs": [],
   "source": [
    "#crime distribution in district\n",
    "df[\"district\"].value_counts()"
   ]
  },
  {
   "cell_type": "code",
   "execution_count": null,
   "metadata": {},
   "outputs": [],
   "source": [
    "#crime distribution in ward\n",
    "df[\"ward\"].value_counts()"
   ]
  },
  {
   "cell_type": "code",
   "execution_count": null,
   "metadata": {},
   "outputs": [],
   "source": [
    "#crime distribution in community_area\n",
    "df[\"community_area\"].value_counts()"
   ]
  },
  {
   "cell_type": "markdown",
   "metadata": {},
   "source": [
    "### Exploratory data analysis"
   ]
  },
  {
   "cell_type": "code",
   "execution_count": null,
   "metadata": {},
   "outputs": [],
   "source": [
    "# contingency table for arrest and primary_type.\n",
    "pd.crosstab(df['arrest'],    # rows: arrest\n",
    "            df['primary_type'],    # columns: primary_type\n",
    "            margins=True)          # with total count"
   ]
  },
  {
   "cell_type": "code",
   "execution_count": null,
   "metadata": {},
   "outputs": [],
   "source": [
    "# contingency table for domestic and primary_type.\n",
    "pd.crosstab(df['domestic'],    # rows: domestic\n",
    "            df['primary_type'],    # columns: primary_type\n",
    "            margins=True)          # with total count"
   ]
  },
  {
   "cell_type": "markdown",
   "metadata": {},
   "source": [
    "## Visualizations"
   ]
  },
  {
   "cell_type": "markdown",
   "metadata": {},
   "source": [
    "### Visualization ideas"
   ]
  },
  {
   "cell_type": "code",
   "execution_count": null,
   "metadata": {},
   "outputs": [],
   "source": [
    "#Barchart with with count of different types of crime\n",
    "\n",
    "chart_1 = alt.Chart(df).mark_bar().encode(\n",
    "    x=alt.X(\"primary_type\", sort=\"-y\",\n",
    "            axis=alt.Axis(title=\"district\",\n",
    "\n",
    "                          titleAnchor=\"start\", \n",
    "                          labelAngle=0)),\n",
    "    y=alt.Y('count(primary_type)', \n",
    "            axis=alt.Axis(title = \"Count\", \n",
    "                        titleAnchor=\"end\")),\n",
    ").properties(\n",
    "    title='Count of commited crimes per type',\n",
    "    width=1000,\n",
    "    height=400\n",
    ")\n",
    "\n",
    "txt_1 = chart_1.mark_text(\n",
    "    baseline = 'middle',\n",
    "    dy= - 15\n",
    ").encode(\n",
    "    text='count(primary_type)'\n",
    ")\n",
    "\n",
    "chart_1+txt_1"
   ]
  },
  {
   "cell_type": "code",
   "execution_count": null,
   "metadata": {},
   "outputs": [],
   "source": [
    "#Barchart that counts types of crime and shows if an arrest was made\n",
    "\n",
    "chart = alt.Chart(df).mark_bar().encode(\n",
    "    x=alt.X(\"primary_type\", sort=\"-y\",\n",
    "            axis=alt.Axis(title=\"district\",\n",
    "\n",
    "                          titleAnchor=\"start\", \n",
    "                          labelAngle=0)),\n",
    "    y=alt.Y('count(primary_type)', \n",
    "            axis=alt.Axis(title = \"Count\", \n",
    "                        titleAnchor=\"end\")),\n",
    "    color=alt.Color(\"arrest\",legend=alt.Legend(title=\"Arrest\"))\n",
    ").properties(\n",
    "    title='Count of commited crimes per type and arrest',\n",
    "    width=1000,\n",
    "    height=400\n",
    ")\n",
    "\n",
    "text = chart.mark_text(\n",
    "    baseline = 'middle',\n",
    "    dy= - 15\n",
    ").encode(\n",
    "    text='count(primary_type)'\n",
    ")\n",
    "\n",
    "chart+text"
   ]
  },
  {
   "cell_type": "code",
   "execution_count": null,
   "metadata": {},
   "outputs": [],
   "source": [
    "#Barchart that counts types of crime and shows if an criminal was domestic\n",
    "\n",
    "chart_10 = alt.Chart(df).mark_bar().encode(\n",
    "    x=alt.X(\"primary_type\", sort=\"-y\",\n",
    "            axis=alt.Axis(title=\"district\",\n",
    "\n",
    "                          titleAnchor=\"start\", \n",
    "                          labelAngle=0)),\n",
    "    y=alt.Y('count(primary_type)', \n",
    "            axis=alt.Axis(title = \"Count\", \n",
    "                        titleAnchor=\"end\")),\n",
    "    color=alt.Color(\"domestic\",legend=alt.Legend(title=\"Domestic\"))\n",
    ").properties(\n",
    "    title='Count of commited crimes per type and domestic',\n",
    "    width=1000,\n",
    "    height=400\n",
    ")\n",
    "\n",
    "text_10 = chart.mark_text(\n",
    "    baseline = 'middle',\n",
    "    dy= - 15\n",
    ").encode(\n",
    "    text='count(primary_type)'\n",
    ")\n",
    "\n",
    "chart_10+text_10"
   ]
  },
  {
   "cell_type": "code",
   "execution_count": null,
   "metadata": {},
   "outputs": [],
   "source": [
    "ch = alt.Chart(df).mark_bar().encode(\n",
    "    x=alt.X('district',\n",
    "            bin=alt.BinParams(maxbins=50),\n",
    "            axis=alt.Axis(title=\"district\",  \n",
    "                          titleAnchor=\"start\", \n",
    "                          labelAngle=0)),\n",
    "    y=alt.Y('count(primary_type)',\n",
    "            axis=alt.Axis(title = \"Count\", \n",
    "                          titleAnchor=\"end\")),\n",
    ").properties(\n",
    "    title='Count of commited crime in the districts',\n",
    "    width=1000,\n",
    "    height=400\n",
    ")\n",
    "\n",
    "txt = ch.mark_text(\n",
    "    baseline='middle',\n",
    "    dy=30\n",
    ").encode(\n",
    "    text='count(primary_type)'\n",
    ")\n",
    "\n",
    "ch + txt"
   ]
  },
  {
   "cell_type": "code",
   "execution_count": null,
   "metadata": {},
   "outputs": [],
   "source": [
    "#Barchart wit commited crimes in wards\n",
    "\n",
    "chart_2 = alt.Chart(df).mark_bar(size=20).encode(\n",
    "    x=alt.X('ward',\n",
    "            sort=\"-y\",\n",
    "            axis=alt.Axis(title=\"Ward\",\n",
    "                          titleAnchor=\"start\", \n",
    "                          labelAngle=0)),\n",
    "    y=alt.Y('count(primary_type)',\n",
    "            axis=alt.Axis(title = \"Count\", \n",
    "                          titleAnchor=\"end\")),\n",
    ").properties(\n",
    "    title='Count of commited crime in the wards',\n",
    "    width=1500,\n",
    "    height=400\n",
    ")\n",
    "\n",
    "\n",
    "chart_2.configure_title(\n",
    "    fontSize=16,\n",
    "    font='Arial',\n",
    "    color='black',\n",
    "    anchor='start'\n",
    ")"
   ]
  },
  {
   "cell_type": "code",
   "execution_count": null,
   "metadata": {},
   "outputs": [],
   "source": [
    "#count of commited crime per year\n",
    "\n",
    "chart_3 = alt.Chart(df).mark_bar().encode(\n",
    "    x=alt.X('year',\n",
    "            axis=alt.Axis(title=\"Year\",\n",
    "                          titleAnchor=\"start\", \n",
    "                          labelAngle=0)),\n",
    "    y=alt.Y('count(primary_type)',\n",
    "            axis=alt.Axis(title = \"Count\", \n",
    "                          titleAnchor=\"end\")),\n",
    ").properties(\n",
    "    title='Count of commited crime per year',\n",
    "    width=200,\n",
    "    height=400\n",
    ")\n",
    "\n",
    "\n",
    "chart_3.configure_title(\n",
    "    fontSize=16,\n",
    "    font='Arial',\n",
    "    color='black',\n",
    "    anchor='start'\n",
    ")"
   ]
  },
  {
   "cell_type": "code",
   "execution_count": null,
   "metadata": {},
   "outputs": [],
   "source": [
    "#count of commited crime per month\n",
    "\n",
    "chart_4 = alt.Chart(df).mark_bar(size=30).encode(\n",
    "    x=alt.X('month',\n",
    "            axis=alt.Axis(title=\"Month\",\n",
    "                          titleAnchor=\"start\", \n",
    "                          labelAngle=0)),\n",
    "    y=alt.Y('count(primary_type)',\n",
    "            axis=alt.Axis(title = \"Count\", \n",
    "                          titleAnchor=\"end\")),\n",
    ").properties(\n",
    "    title='Count of commited crime per month',\n",
    "    width=500,\n",
    "    height=400\n",
    ")\n",
    "\n",
    "\n",
    "chart_4.configure_title(\n",
    "    fontSize=16,\n",
    "    font='Arial',\n",
    "    color='black',\n",
    "    anchor='start'\n",
    ")"
   ]
  },
  {
   "cell_type": "code",
   "execution_count": null,
   "metadata": {},
   "outputs": [],
   "source": [
    "#count of commited crime per hour\n",
    "\n",
    "chart_5 = alt.Chart(df).mark_bar(size=15).encode(\n",
    "    x=alt.X('hour',\n",
    "            axis=alt.Axis(title=\"Hour\",\n",
    "                          titleAnchor=\"start\",\n",
    "                          labelAngle=0)),\n",
    "    y=alt.Y('count(primary_type)',\n",
    "            axis=alt.Axis(title = \"Count\", \n",
    "                          titleAnchor=\"end\")),\n",
    ").properties(\n",
    "    title='Count of commited crime per hour',\n",
    "    width=600,\n",
    "    height=400\n",
    ")\n",
    "\n",
    "\n",
    "chart_5.configure_title(\n",
    "    fontSize=16,\n",
    "    font='Arial',\n",
    "    color='black',\n",
    "    anchor='start'\n",
    ")"
   ]
  },
  {
   "cell_type": "code",
   "execution_count": null,
   "metadata": {},
   "outputs": [],
   "source": [
    "#Map of Chicago with Crimes as Dots on the Map\n",
    "\n",
    "choro = alt.Chart(gdf).mark_geoshape(\n",
    "    fill=\"lightgrey\", stroke='grey'\n",
    ").encode()\n",
    "\n",
    "\n",
    "p = alt.Chart(df).mark_circle().encode(\n",
    "    longitude='longitude',\n",
    "    latitude='latitude',\n",
    "    size=alt.value(10),\n",
    ").properties(\n",
    "    title=\"Location of crimes in Chicago City\",\n",
    "    width=1000,\n",
    "    height=1000\n",
    ")\n",
    "\n",
    "choro + p"
   ]
  },
  {
   "cell_type": "markdown",
   "metadata": {},
   "source": [
    "### Save Visualizations\n"
   ]
  },
  {
   "cell_type": "code",
   "execution_count": null,
   "metadata": {},
   "outputs": [],
   "source": []
  },
  {
   "cell_type": "markdown",
   "metadata": {},
   "source": [
    "\n",
    "Save your draft visualizations in the folder `reports/visualizations/`. Use a meaningful name (always include the word `draft` and a `timestamp`in your filename)."
   ]
  },
  {
   "cell_type": "code",
   "execution_count": null,
   "metadata": {},
   "outputs": [],
   "source": []
  },
  {
   "cell_type": "markdown",
   "metadata": {},
   "source": [
    "## Conclusion and recommended action"
   ]
  },
  {
   "cell_type": "markdown",
   "metadata": {},
   "source": [
    "At this point we do not have an final conclusion or recommended action.\n",
    "We we need to look more closely at the individual wards and if there are dependencies regarding the type of crime, time and location.\n",
    "After these steps we can give a recommendation."
   ]
  }
 ],
 "metadata": {
  "kernelspec": {
   "display_name": "Python 3.9.13 ('dst')",
   "language": "python",
   "name": "python3"
  },
  "language_info": {
   "codemirror_mode": {
    "name": "ipython",
    "version": 3
   },
   "file_extension": ".py",
   "mimetype": "text/x-python",
   "name": "python",
   "nbconvert_exporter": "python",
   "pygments_lexer": "ipython3",
   "version": "3.9.13"
  },
  "orig_nbformat": 4,
  "vscode": {
   "interpreter": {
    "hash": "afb2be5e0fa59e7cc779d156738954d1f1d32fb360bdb57d692d068a241e7d01"
   }
  }
 },
 "nbformat": 4,
 "nbformat_minor": 2
}
