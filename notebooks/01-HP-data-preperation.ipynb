{
 "cells": [
  {
   "cell_type": "markdown",
   "metadata": {},
   "source": [
    "# Chicago Crime"
   ]
  },
  {
   "cell_type": "markdown",
   "metadata": {},
   "source": [
    "## Daten importieren"
   ]
  },
  {
   "cell_type": "code",
   "execution_count": null,
   "metadata": {},
   "outputs": [],
   "source": [
    "from pathlib import Path\n",
    "\n",
    "PARENT_PATH = str(Path().resolve().parent) + \"/\"\n",
    "PATH = \"data/\"\n",
    "SUBPATH = \"raw/\"\n",
    "FILE = \"chicago_crimes\"\n",
    "FORMAT = \".csv\""
   ]
  },
  {
   "cell_type": "code",
   "execution_count": null,
   "metadata": {},
   "outputs": [],
   "source": [
    "PARENT_PATH"
   ]
  },
  {
   "cell_type": "code",
   "execution_count": null,
   "metadata": {},
   "outputs": [],
   "source": [
    "import pandas as pd\n",
    "\n",
    "df = pd.read_csv(PARENT_PATH + PATH + SUBPATH + FILE + FORMAT)"
   ]
  },
  {
   "cell_type": "markdown",
   "metadata": {},
   "source": [
    "## Datenüberblick"
   ]
  },
  {
   "cell_type": "code",
   "execution_count": null,
   "metadata": {},
   "outputs": [],
   "source": [
    "df"
   ]
  },
  {
   "cell_type": "code",
   "execution_count": null,
   "metadata": {},
   "outputs": [],
   "source": [
    "df.info()"
   ]
  },
  {
   "cell_type": "code",
   "execution_count": null,
   "metadata": {},
   "outputs": [],
   "source": [
    "df.dtypes"
   ]
  },
  {
   "cell_type": "code",
   "execution_count": null,
   "metadata": {},
   "outputs": [],
   "source": [
    "df.info()"
   ]
  },
  {
   "cell_type": "markdown",
   "metadata": {},
   "source": [
    "## Daten anpassen"
   ]
  },
  {
   "cell_type": "markdown",
   "metadata": {},
   "source": [
    "### Spaltennamen"
   ]
  },
  {
   "cell_type": "code",
   "execution_count": null,
   "metadata": {},
   "outputs": [],
   "source": [
    "# Spaltennamen umbenennen\n",
    "df = df.rename(columns={ \n",
    "            \"ID\": \"id\",\n",
    "            \"Case Number\": \"case_number\",\n",
    "            \"Date\": \"date\",\n",
    "            \"Block\": \"block\",\n",
    "            \"IUCR\": \"iucr\",\n",
    "            \"Primary Type\": \"primary_type\",\n",
    "            \"Description\": \"description\",\n",
    "            \"Location Description\": \"location_description\",\n",
    "            \"Arrest\": \"arrest\",\n",
    "            \"Domestic\": \"domestic\",\n",
    "            \"Beat\": \"beat\",\n",
    "            \"District\": \"district\",\n",
    "            \"Ward\": \"ward\",\n",
    "            \"Community Area\": \"community_area\",\n",
    "            \"Year\": \"year\",\n",
    "            \"Latitude\": \"latitude\",\n",
    "            \"Longitude\": \"longitude\"\n",
    "}, errors=\"raise\")"
   ]
  },
  {
   "cell_type": "code",
   "execution_count": null,
   "metadata": {},
   "outputs": [],
   "source": [
    "df.info()"
   ]
  },
  {
   "cell_type": "markdown",
   "metadata": {},
   "source": [
    "## Variablen anpassen"
   ]
  },
  {
   "cell_type": "markdown",
   "metadata": {},
   "source": [
    "### Nicht benötigte Variablen löschen"
   ]
  },
  {
   "cell_type": "markdown",
   "metadata": {},
   "source": [
    "\"case_number\" und \"iucr\" helfen nicht weiter, da es schon eine \"id\" gibt "
   ]
  },
  {
   "cell_type": "code",
   "execution_count": null,
   "metadata": {},
   "outputs": [],
   "source": [
    "df = df.drop(\"case_number\", axis=1)\n",
    "df = df.drop(\"iucr\", axis=1)"
   ]
  },
  {
   "cell_type": "markdown",
   "metadata": {},
   "source": [
    "### Datum und Zeit anpassen / hinzufügen"
   ]
  },
  {
   "cell_type": "code",
   "execution_count": null,
   "metadata": {},
   "outputs": [],
   "source": [
    "#date in datetime umwandeln\n",
    "\n",
    "df[\"date\"] = pd.to_datetime(df.date)"
   ]
  },
  {
   "cell_type": "code",
   "execution_count": null,
   "metadata": {},
   "outputs": [],
   "source": [
    "df[\"month\"] = df[\"date\"].dt.month"
   ]
  },
  {
   "cell_type": "code",
   "execution_count": null,
   "metadata": {},
   "outputs": [],
   "source": [
    "df[\"day\"] = df[\"date\"].dt.day"
   ]
  },
  {
   "cell_type": "code",
   "execution_count": null,
   "metadata": {},
   "outputs": [],
   "source": [
    "df[\"hour\"] = df[\"date\"].dt.hour"
   ]
  },
  {
   "cell_type": "code",
   "execution_count": null,
   "metadata": {},
   "outputs": [],
   "source": [
    "df.head()"
   ]
  },
  {
   "cell_type": "code",
   "execution_count": null,
   "metadata": {},
   "outputs": [],
   "source": [
    "df.dtypes"
   ]
  },
  {
   "cell_type": "code",
   "execution_count": null,
   "metadata": {},
   "outputs": [],
   "source": []
  },
  {
   "cell_type": "markdown",
   "metadata": {},
   "source": [
    "### Nominale Variablen"
   ]
  },
  {
   "cell_type": "code",
   "execution_count": null,
   "metadata": {},
   "outputs": [],
   "source": [
    "# Liste mit nominalen Variablen erstellen\n",
    "\n",
    "list_nominal = [\"arrest\", \"domestic\"]\n"
   ]
  },
  {
   "cell_type": "code",
   "execution_count": null,
   "metadata": {},
   "outputs": [],
   "source": [
    "# Nominale Variablen als kategorial formatieren (category)\n",
    "for i in list_nominal:\n",
    "    df[i] = df[i].astype(\"category\")"
   ]
  },
  {
   "cell_type": "code",
   "execution_count": null,
   "metadata": {},
   "outputs": [],
   "source": [
    "# Nominale Variablen anzeigen lassen\n",
    "df[list_nominal].info()"
   ]
  },
  {
   "cell_type": "code",
   "execution_count": null,
   "metadata": {},
   "outputs": [],
   "source": [
    "df[list_nominal].head()"
   ]
  },
  {
   "cell_type": "code",
   "execution_count": null,
   "metadata": {},
   "outputs": [],
   "source": [
    "dummy_nominal = pd.get_dummies(df[list_nominal],  prefix_sep='__').astype('category')\n",
    "dummy_nominal"
   ]
  },
  {
   "cell_type": "code",
   "execution_count": null,
   "metadata": {},
   "outputs": [],
   "source": [
    "# Dummy-Variablen hinzufügen\n",
    "df = df.join(dummy_nominal)"
   ]
  },
  {
   "cell_type": "code",
   "execution_count": null,
   "metadata": {},
   "outputs": [],
   "source": [
    "df.head()"
   ]
  },
  {
   "cell_type": "code",
   "execution_count": null,
   "metadata": {},
   "outputs": [],
   "source": [
    "df.info()"
   ]
  },
  {
   "cell_type": "markdown",
   "metadata": {},
   "source": [
    "### Categoriale Variablen (Allgemein)"
   ]
  },
  {
   "cell_type": "code",
   "execution_count": null,
   "metadata": {},
   "outputs": [],
   "source": [
    "#primary_type und descripton noch einmal gesondert ansehen\n",
    "cat_list = [\"id\",\"block\",\"primary_type\", \"description\", \"location_description\", \"beat\", \"district\", \"ward\", \"community_area\", \"year\", \"month\", \"day\", \"hour\"]"
   ]
  },
  {
   "cell_type": "code",
   "execution_count": null,
   "metadata": {},
   "outputs": [],
   "source": [
    "# Variablen als kategorial formatieren (category)\n",
    "for i in cat_list:\n",
    "    df[i] = df[i].astype(\"category\")"
   ]
  },
  {
   "cell_type": "code",
   "execution_count": null,
   "metadata": {},
   "outputs": [],
   "source": [
    "df.info()"
   ]
  },
  {
   "cell_type": "code",
   "execution_count": null,
   "metadata": {},
   "outputs": [],
   "source": [
    "print(df[\"primary_type\"].unique())"
   ]
  },
  {
   "cell_type": "code",
   "execution_count": null,
   "metadata": {},
   "outputs": [],
   "source": [
    "print(df[\"primary_type\"].value_counts())"
   ]
  },
  {
   "cell_type": "code",
   "execution_count": null,
   "metadata": {},
   "outputs": [],
   "source": [
    "#häufige Straftaten\n",
    "\n",
    "df_primary_type = df[~(df['primary_type'] == \"THEFT\") \n",
    "    & ~(df['primary_type'] == \"BATTERY\") \n",
    "    & ~(df['primary_type'] == \"CRIMINAL DAMAGE\") \n",
    "    & ~(df['primary_type'] == \"ASSAULT\") \n",
    "    & ~(df['primary_type'] == \"DECEPTIVE PRACTICE\")\n",
    "    & ~(df['primary_type'] == \"OTHER OFFENSE\")\n",
    "    & ~(df['primary_type'] == \"NARCOTICS\")\n",
    "    & ~(df['primary_type'] == \"BURGLARY\")\n",
    "    & ~(df['primary_type'] == \"MOTOR VEHICLE THEFT\")\n",
    "    & ~(df['primary_type'] == \"ROBBERY\")\n",
    "    & ~(df['primary_type'] == \"CRIMINAL TRESPASS\")\n",
    "    & ~(df['primary_type'] == \"WEAPONS VIOLATION\")\n",
    "    & ~(df['primary_type'] == \"SEX OFFENSE\")\n",
    "    & ~(df['primary_type'] == \"CRIM SEXUAL ASSAULT\")\n",
    "    & ~(df['primary_type'] == \"PROSTITUTION\")\n",
    "    & ~(df['primary_type'] == \"CRIMINAL SEXUAL ASSAULT\")\n",
    "    & ~(df['primary_type'] == \"HOMICIDE\")\n",
    "\n",
    "].index"
   ]
  },
  {
   "cell_type": "code",
   "execution_count": null,
   "metadata": {},
   "outputs": [],
   "source": [
    "df = df.drop(df_primary_type)"
   ]
  },
  {
   "cell_type": "code",
   "execution_count": null,
   "metadata": {},
   "outputs": [],
   "source": [
    "df = df[df.primary_type.notnull()]"
   ]
  },
  {
   "cell_type": "code",
   "execution_count": null,
   "metadata": {},
   "outputs": [],
   "source": [
    "df.info()"
   ]
  },
  {
   "cell_type": "code",
   "execution_count": null,
   "metadata": {},
   "outputs": [],
   "source": [
    "print(df[\"primary_type\"].value_counts())"
   ]
  },
  {
   "cell_type": "code",
   "execution_count": null,
   "metadata": {},
   "outputs": [],
   "source": [
    "#df.drop(df[\"primary_type\"].value_counts() <= 0)\n",
    "\n"
   ]
  },
  {
   "cell_type": "code",
   "execution_count": null,
   "metadata": {},
   "outputs": [],
   "source": [
    "\n",
    "#value_counts = df[\"primary_type\"].value_counts()\n",
    "#to_remove = value_counts[value_counts <= 0].index\n",
    "#df = df[~df[\"primary_type\"].isin(to_remove)]\n",
    "#df = df[~df.primary_type.isin(to_remove)]"
   ]
  },
  {
   "cell_type": "code",
   "execution_count": null,
   "metadata": {},
   "outputs": [],
   "source": [
    "#df = df[~df['primary_type'].isin(counts[counts < 0].index)]"
   ]
  },
  {
   "cell_type": "code",
   "execution_count": null,
   "metadata": {},
   "outputs": [],
   "source": [
    "#counts = df['primary_type'].value_counts()\n",
    "\n",
    "#new_df = df.loc[df['primary_type'].isin(counts.index[counts >= 300])]"
   ]
  },
  {
   "cell_type": "code",
   "execution_count": null,
   "metadata": {},
   "outputs": [],
   "source": [
    "#print(new_df[\"primary_type\"].value_counts())"
   ]
  },
  {
   "cell_type": "code",
   "execution_count": null,
   "metadata": {},
   "outputs": [],
   "source": [
    "#new_df.head(2)"
   ]
  },
  {
   "cell_type": "code",
   "execution_count": null,
   "metadata": {},
   "outputs": [],
   "source": [
    "# rename and summarise \"primary_type\"\n",
    "\n",
    "df['primary_type'] = df['primary_type'].replace(\n",
    "    [\"THEFT\", \"MOTOR VEHICLE THEFT\", \"BATTERY\", \"ASSAULT\", \"DECEPTIVE PRACTICE\", \"NARCOTICS\", \"ROBBERY\", \"WEAPONS VIOLATION\", \"CRIMINAL DAMAGE\", \"SEX OFFENSE\", \"CRIM SEXUAL ASSAULT\", \"CRIMINAL SEXUAL ASSAULT\", \"PROSTITUTION\", \"BURGLARY\", \"CRIMINAL TRESPASS\", \"OTHER OFFENSE\", \"HOMICIDE\"], \n",
    "[\"theft\", \"theft\", \"assault_and_battery\", \"assault_and_battery\",\"deceptive_practice\", \"narcotics\", \"robbery_and_weapons\", \"robbery_and_weapons\", \"criminal_damage\", \"sexual_crime\", \"sexual_crime\", \"sexual_crime\", \"sexual_crime\", \"burglary\", \"burglary\", \"other_offense\", \"homicide\"]\n",
    ")"
   ]
  },
  {
   "cell_type": "code",
   "execution_count": null,
   "metadata": {},
   "outputs": [],
   "source": [
    "# rename and summarise \"primary_type\"\n",
    "\"\"\"\n",
    "df_1 = df[\"primary_type\"].rename({\n",
    "    \"THEFT\" : \"theft\",\n",
    "    \"MOTOR VEHICLE THEFT\" : \"theft\",\n",
    "    \"BATTERY\" : \"assault_and_battery\",\n",
    "    \"ASSAULT\" : \"assault_and_battery\",\n",
    "    \"DECEPTIVE PRACTICE\" : \"deceptive_practice\",\n",
    "    \"NARCOTICS\" : \"narcotics\",\n",
    "    \"ROBBERY\" : \"robbery_and_weapons\",\n",
    "    \"WEAPONS VIOLATION\" : \"robbery_and_weapons\",\n",
    "    \"CRIMINAL DAMAGE\" : \"criminal_damage\",\n",
    "    \"SEX OFFENSE\" : \"sexual_crime\",\n",
    "    \"CRIM SEXUAL ASSAULT\" : \"sexual_crime\",\n",
    "    \"PROSTITUTION\" : \"sexual_crime\",\n",
    "    \"CRIMINAL SEXUAL ASSAULT\" : \"sexual_crime\",\n",
    "    \"BURGLARY\" : \"burglary\",\n",
    "    \"CRIMINAL TRESPASS\" : \"burglary\",\n",
    "    \"OTHER OFFENSE\" : \"other_offense\"\n",
    "})\n",
    "\"\"\""
   ]
  },
  {
   "cell_type": "code",
   "execution_count": null,
   "metadata": {},
   "outputs": [],
   "source": [
    "print(df[\"primary_type\"].value_counts())"
   ]
  },
  {
   "cell_type": "code",
   "execution_count": null,
   "metadata": {},
   "outputs": [],
   "source": [
    "\"\"\"\n",
    "df = df[\"primary_type\"].replace(\n",
    "    \"THEFT\" , \"theft\",\n",
    "    \"MOTOR VEHICLE THEFT\" , \"theft\",\n",
    "    \"BATTERY\" , \"assault_and_battery\",\n",
    "    \"ASSAULT\" , \"assault_and_battery\",\n",
    "    \"DECEPTIVE PRACTICE \" , \"deceptive_practice\",\n",
    "    \"NARCOTIVS\" , \"narcotics\",\n",
    "    \"ROBBERY\" , \"robbery_and_weapons\",\n",
    "    \"WEAPONS VIOLATION\" , \"robbery_and_weapons\",\n",
    "    \"CRIMINAL DAMAGE\" , \"criminal_damage\",\n",
    "    \"SEX OFFENSE\" , \"sexual_crime\",\n",
    "    \"CRIM SEXUAL ASSAULT\" , \"sexual_crime\",\n",
    "    \"PROSTITUTION\" , \"sexual_crime\",\n",
    "    \"CRIMINAL SEXUAL ASSAULT\" , \"sexual_crime\",\n",
    "    \"BURGLARY\" , \"burglary\",\n",
    "    \"CRIMINAL TRESPASS\" , \"burglary\",\n",
    "    \"OTHER OFFENSE\" , \"other_offense\"\n",
    ")\n",
    "\"\"\""
   ]
  },
  {
   "cell_type": "code",
   "execution_count": null,
   "metadata": {},
   "outputs": [],
   "source": [
    "#df.drop(df[\"primary_type\"].value_counts() >= 1000, inplace=True)"
   ]
  },
  {
   "cell_type": "code",
   "execution_count": null,
   "metadata": {},
   "outputs": [],
   "source": [
    "#df.drop(df[df.primary_type.value_counts() <= 100].index, inplace=True)"
   ]
  },
  {
   "cell_type": "code",
   "execution_count": null,
   "metadata": {},
   "outputs": [],
   "source": [
    "print(df[\"description\"].unique())"
   ]
  },
  {
   "cell_type": "code",
   "execution_count": null,
   "metadata": {},
   "outputs": [],
   "source": [
    "print(df[\"description\"].value_counts())"
   ]
  },
  {
   "cell_type": "code",
   "execution_count": null,
   "metadata": {},
   "outputs": [],
   "source": [
    "print(df[\"location_description\"].unique())"
   ]
  },
  {
   "cell_type": "code",
   "execution_count": null,
   "metadata": {},
   "outputs": [],
   "source": [
    "print(df[\"location_description\"].value_counts())"
   ]
  },
  {
   "cell_type": "markdown",
   "metadata": {},
   "source": [
    "### \"Description\" und \"Location Description\" entfernen\n",
    "\n",
    "Da die ausführliche Beschreibung der Tat und der Location nicht notwendig für die Beantwortung unserer Fragestellung ist werden wir sie aus dem Datensatz entfernen."
   ]
  },
  {
   "cell_type": "code",
   "execution_count": null,
   "metadata": {},
   "outputs": [],
   "source": [
    "df = df.drop(\"description\", axis=1)\n",
    "df = df.drop(\"location_description\", axis=1)"
   ]
  },
  {
   "cell_type": "code",
   "execution_count": null,
   "metadata": {},
   "outputs": [],
   "source": [
    "df.info()"
   ]
  },
  {
   "cell_type": "markdown",
   "metadata": {},
   "source": [
    "# Datensatz temporär speichern"
   ]
  },
  {
   "cell_type": "code",
   "execution_count": null,
   "metadata": {},
   "outputs": [],
   "source": [
    "import time\n",
    "\n",
    "TIME = \"-\" + time.strftime(\"%Y%m%d-%H%M\")"
   ]
  },
  {
   "cell_type": "code",
   "execution_count": null,
   "metadata": {},
   "outputs": [],
   "source": [
    "SUBPATH = \"interim/\""
   ]
  },
  {
   "cell_type": "code",
   "execution_count": null,
   "metadata": {},
   "outputs": [],
   "source": [
    "#df.to_csv(PARENT_PATH + PATH + SUBPATH + FILE + TIME + FORMAT, index=False)"
   ]
  }
 ],
 "metadata": {
  "kernelspec": {
   "display_name": "Python 3.9.13 ('dst')",
   "language": "python",
   "name": "python3"
  },
  "language_info": {
   "codemirror_mode": {
    "name": "ipython",
    "version": 3
   },
   "file_extension": ".py",
   "mimetype": "text/x-python",
   "name": "python",
   "nbconvert_exporter": "python",
   "pygments_lexer": "ipython3",
   "version": "3.9.13 | packaged by conda-forge | (main, May 27 2022, 17:01:00) \n[Clang 13.0.1 ]"
  },
  "orig_nbformat": 4,
  "vscode": {
   "interpreter": {
    "hash": "afb2be5e0fa59e7cc779d156738954d1f1d32fb360bdb57d692d068a241e7d01"
   }
  }
 },
 "nbformat": 4,
 "nbformat_minor": 2
}
