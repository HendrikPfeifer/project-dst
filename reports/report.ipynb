{
 "cells": [
  {
   "cell_type": "markdown",
   "metadata": {},
   "source": [
    "# Report"
   ]
  },
  {
   "cell_type": "markdown",
   "metadata": {},
   "source": [
    "## Introduction and data"
   ]
  },
  {
   "attachments": {},
   "cell_type": "markdown",
   "metadata": {},
   "source": [
    "\n",
    "*All of the EDA won't fit in the paper, so focus on the EDA for the response variable and a few other interesting variables and relationships.*\n",
    "\n",
    "////\n",
    "### Subject Matter:\n",
    "\n",
    "In the city of Chicago, many incidents/crimes happen every day, from minor thefts to murders. To reduce the violence in the city, the city wants to open a new crime prevention centre. Now the city is asking our team which crimes occur particularly frequently and where they happen. With this information, the **Crime Prevention Center** can be built in a particularly well-situated location. In addition, the specialised departments of the centre can be trained for the relevant criminal offences. This should make Chicago a safer city and ensure that measures are taken at an early stage to prevent crime. Therefore we would like to analyse where and when it makes the most sense to open the Crime Prevention Center to gain the most success.\n",
    "\n",
    "### Motivation:\n",
    "Parts of Chicago are one of the most violent and dangerous neighborhoods in the United States. We would like to help the city to prevent some crimes in the future and let Chicago live up to its potential!\n",
    "\n",
    "Various studies show that it is possible to prevent crime in cities with the help of specific actions. With the new **Crime Prevention Center**, we want to take a new approach in Chicago to prevent crime from the very beginning.\n",
    "\n",
    "* Crime Prevention and the Safer Cities Story\n",
    "https://onlinelibrary.wiley.com/doi/10.1111/j.1468-2311.1993.tb00758.x\n",
    "\n",
    "* Social Crime Prevention in South Africa's Major Cities \n",
    "http://csvr.org.za/docs/urbansafety/socialcrimeprevention.pdf\n",
    "\n",
    "\n",
    "\n",
    "\n",
    "### General Question:\n",
    "\n",
    "Which kind of crimes happen particularly frequently and where do they happen?\n",
    "\n",
    "### Hypotheses:\n",
    "\n",
    "There are neighborhoods in Chicago where the most (dangerous) crimes/incidents occur.\n",
    "There is a certain time of a day when the most crime occur.\n"
   ]
  },
  {
   "cell_type": "code",
   "execution_count": null,
   "metadata": {},
   "outputs": [],
   "source": [
    "from pathlib import Path\n",
    "\n",
    "PARENT_PATH = str(Path().resolve().parent) + \"/\"\n",
    "PATH = \"data/\"\n",
    "SUBPATH = \"processed/\"\n",
    "FILE = \"chicago_crimes-20230130-1108\"\n",
    "FORMAT = \".csv\""
   ]
  },
  {
   "cell_type": "code",
   "execution_count": null,
   "metadata": {},
   "outputs": [],
   "source": [
    "import altair as alt\n",
    "from vega_datasets import data\n",
    "alt.data_transformers.disable_max_rows()\n",
    "\n",
    "import warnings\n",
    "warnings.simplefilter(action='ignore', category=FutureWarning)"
   ]
  },
  {
   "cell_type": "code",
   "execution_count": null,
   "metadata": {},
   "outputs": [],
   "source": [
    "import pandas as pd\n",
    "\n",
    "df = pd.read_csv(PARENT_PATH + PATH + SUBPATH + FILE + FORMAT)"
   ]
  },
  {
   "cell_type": "code",
   "execution_count": null,
   "metadata": {},
   "outputs": [],
   "source": [
    "df.head()"
   ]
  },
  {
   "cell_type": "code",
   "execution_count": null,
   "metadata": {},
   "outputs": [],
   "source": [
    "df.info()"
   ]
  },
  {
   "attachments": {},
   "cell_type": "markdown",
   "metadata": {},
   "source": [
    "### Description of the crimes\n",
    "There were 76362 registered crimes in 2018 and 2019. \"theft\" was the most common with 21637 cases committed."
   ]
  },
  {
   "cell_type": "code",
   "execution_count": null,
   "metadata": {},
   "outputs": [],
   "source": [
    "df[\"primary_type\"].describe()"
   ]
  },
  {
   "attachments": {},
   "cell_type": "markdown",
   "metadata": {},
   "source": [
    "### Distribution of crimes over the two years (2018 + 2019)\n",
    "The distribution of crimes are almost equal, there were slightly more crimes in 2018. "
   ]
  },
  {
   "cell_type": "code",
   "execution_count": null,
   "metadata": {},
   "outputs": [],
   "source": [
    "chart_3 = alt.Chart(df).mark_bar().encode(\n",
    "    y=alt.Y('year:N',\n",
    "            axis=alt.Axis(title=\"YEAR\",\n",
    "                          titleY=15)),\n",
    "    x=alt.X('count(primary_type)',\n",
    "            axis=alt.Axis(title = \"COUNT\", \n",
    "                          titleAnchor=\"start\")),\n",
    ").properties(\n",
    "    title='Count of commited crime per year',\n",
    "    width=400,\n",
    "    height=200\n",
    ")\n",
    "\n",
    "\n",
    "chart_3.configure_title(\n",
    "    fontSize=16,\n",
    "    font='Arial',\n",
    "    color='black',\n",
    "    anchor='start'\n",
    ").configure_axis(grid=False\n",
    ").configure_view(strokeOpacity=0)"
   ]
  },
  {
   "attachments": {},
   "cell_type": "markdown",
   "metadata": {},
   "source": [
    "### Distribution of crimes per year in months\n",
    "Most crimes occour in spring/summer from May to August."
   ]
  },
  {
   "cell_type": "code",
   "execution_count": null,
   "metadata": {},
   "outputs": [],
   "source": [
    "chart_4 = alt.Chart(df).mark_line().encode(\n",
    "    x=alt.X('month:N',\n",
    "            axis=alt.Axis(title=\"MONTH\",\n",
    "                          titleAnchor=\"start\", \n",
    "                          labelAngle=0)),\n",
    "    y=alt.Y('count(primary_type)',\n",
    "            axis=alt.Axis(title = \"COUNT\", \n",
    "                          titleAnchor=\"end\")),\n",
    "    color=alt.Color(\"year:N\", legend=alt.Legend(title=\"YEAR\"))                  \n",
    ").properties(\n",
    "    title='Count of commited crime per month',\n",
    "    width=600,\n",
    "    height=400\n",
    ").configure_axis(grid=False\n",
    ").configure_view(strokeOpacity=0)\n",
    "\n",
    "chart_4.configure_title(\n",
    "    fontSize=16,\n",
    "    font='Arial',\n",
    "    color='black',\n",
    "    anchor='start'\n",
    ")"
   ]
  },
  {
   "attachments": {},
   "cell_type": "markdown",
   "metadata": {},
   "source": [
    "### Distribution of crimes per day in hours\n",
    "- Most crimes occour during the day.\n",
    "- Constant increase from 8 am to 7 pm.\n",
    "- Peak at 12pm\n",
    "- Constant decrease from 7pm to 1 am.\n",
    "- Lowest at 5 am"
   ]
  },
  {
   "cell_type": "code",
   "execution_count": null,
   "metadata": {},
   "outputs": [],
   "source": [
    "chart_5 = alt.Chart(df).mark_line().encode(\n",
    "    x=alt.X('hour:N',\n",
    "            axis=alt.Axis(title=\"HOUR\",\n",
    "                          titleAnchor=\"start\",\n",
    "                          labelAngle=0)),\n",
    "    y=alt.Y('count(primary_type)',\n",
    "            axis=alt.Axis(title = \"COUNT\", \n",
    "                          titleAnchor=\"end\")),\n",
    "    color=alt.Color(\"year:N\", legend=alt.Legend(title=\"YEAR\"))\n",
    ").properties(\n",
    "    title='Count of commited crime per hour',\n",
    "    width=600,\n",
    "    height=400\n",
    ").configure_axis(grid=False\n",
    ").configure_view(strokeOpacity=0)\n",
    "\n",
    "\n",
    "chart_5.configure_title(\n",
    "    fontSize=16,\n",
    "    font='Arial',\n",
    "    color='black',\n",
    "    anchor='start'\n",
    ")"
   ]
  },
  {
   "cell_type": "code",
   "execution_count": null,
   "metadata": {},
   "outputs": [],
   "source": [
    "df[\"hour\"].value_counts()"
   ]
  },
  {
   "attachments": {},
   "cell_type": "markdown",
   "metadata": {},
   "source": [
    "### Distribution of the crimes by type\n",
    "\n",
    "- most: \"theft\" and \"assault_and_battery\"\n",
    "- least: \"sexual_crime\" and \"homicide\""
   ]
  },
  {
   "cell_type": "code",
   "execution_count": null,
   "metadata": {},
   "outputs": [],
   "source": [
    "df.primary_type.value_counts()"
   ]
  },
  {
   "cell_type": "code",
   "execution_count": null,
   "metadata": {},
   "outputs": [],
   "source": [
    "ch = alt.Chart(df).mark_bar().encode(\n",
    "    x=alt.X(\"primary_type\", sort=\"-y\",\n",
    "            axis=alt.Axis(title=\"DISTRICT\",\n",
    "                          titleAnchor=\"start\", \n",
    "                          labelAngle=0)),\n",
    "    y=alt.Y('count(primary_type)', \n",
    "            axis=alt.Axis(title = \"TYPE\", \n",
    "                        titleAnchor=\"end\"),\n",
    "                        scale=alt.Scale(domain=[0, 24000])),\n",
    ").properties(\n",
    "    title='Count of commited crimes per type',\n",
    "    width=1000,\n",
    "    height=400\n",
    ")\n",
    "\n",
    "txt = ch.mark_text(\n",
    "    baseline = 'middle',\n",
    "    dy= - 15\n",
    ").encode(\n",
    "    text='count(primary_type)'\n",
    ")\n",
    "\n",
    "layer = alt.layer(ch + txt\n",
    ").configure_title(\n",
    "    fontSize=16,\n",
    "    font='Arial',\n",
    "    color='black',\n",
    "    anchor='start'\n",
    ").configure_axis(grid=False\n",
    ").configure_view(strokeOpacity=0)\n",
    "\n",
    "layer"
   ]
  },
  {
   "attachments": {},
   "cell_type": "markdown",
   "metadata": {},
   "source": [
    "### Distribution of crimes per block/street\n",
    "\n",
    "The 5 streets with the most reported crimes are:\n",
    "1. State Street (1575)\n",
    "2. Michigan Avenue (1520)\n",
    "3. Halsted Street (1049)\n",
    "4. Ashland Avenue (925)\n",
    "5. Clark Street (845)"
   ]
  },
  {
   "cell_type": "code",
   "execution_count": null,
   "metadata": {},
   "outputs": [],
   "source": [
    "df[\"block\"].value_counts().nlargest(10)"
   ]
  },
  {
   "cell_type": "code",
   "execution_count": null,
   "metadata": {},
   "outputs": [],
   "source": [
    "display(df[(df['district']==1) & (df['block'] == \"state_st\") & (df['primary_group'] == \"group_1\")]) #951 Fälle für state street in district 1"
   ]
  },
  {
   "cell_type": "code",
   "execution_count": null,
   "metadata": {},
   "outputs": [],
   "source": [
    "display(df[(df['block'] == \"ashland_ave\")]) # kedzie_ave 92, pulaski_rd 213, western_ave 27, madison_st 274"
   ]
  },
  {
   "attachments": {},
   "cell_type": "markdown",
   "metadata": {},
   "source": [
    "### Distribution of crime type per disctrict in percent\n",
    "\n",
    "In this crosstable we can see how many crimes (in %) happen in each district.\n",
    "\n",
    "For example: 2,97% of crimes are theft in the District 1"
   ]
  },
  {
   "cell_type": "code",
   "execution_count": null,
   "metadata": {},
   "outputs": [],
   "source": [
    "#primary_type and district crosstab\n",
    "\n",
    "cross_table = pd.crosstab(df[\"primary_type\"], df[\"district\"],\n",
    "    margins=True,\n",
    "    normalize=True,\n",
    "    rownames=[\"Type\"],\n",
    "    colnames=[\"District\"]\n",
    "    )* 100\n",
    "\n",
    "\n",
    "cross_table"
   ]
  },
  {
   "attachments": {},
   "cell_type": "markdown",
   "metadata": {},
   "source": [
    "Here we can see in which districts most crime happen (in %).\n",
    "The most violent districts are:\n",
    "1. District 11 (7,1 % of all crime)\n",
    "2. District 6 (6,2 %)\n",
    "3. District 8 (6,0 %)\n",
    "4. District 1 (6,0 %)\n",
    "5. District 18 (5,9%)"
   ]
  },
  {
   "cell_type": "code",
   "execution_count": null,
   "metadata": {},
   "outputs": [],
   "source": [
    "df[\"district\"].value_counts(normalize=True) * 100"
   ]
  },
  {
   "attachments": {},
   "cell_type": "markdown",
   "metadata": {},
   "source": [
    "### Distribution of crime per disctrict in total\n",
    "\n",
    "Top 5 Districts:"
   ]
  },
  {
   "cell_type": "code",
   "execution_count": null,
   "metadata": {},
   "outputs": [],
   "source": [
    "df[\"district\"].value_counts().nlargest(5)"
   ]
  },
  {
   "cell_type": "code",
   "execution_count": null,
   "metadata": {},
   "outputs": [],
   "source": [
    "district = alt.Chart(df).mark_bar().encode(\n",
    "    x=alt.X(\"district:N\",\n",
    "    sort=\"-y\",\n",
    "    axis=alt.Axis(title=\"DISTRICT\",  \n",
    "                          titleAnchor=\"start\", \n",
    "                          labelAngle=0, grid=False)),\n",
    "    y=alt.Y(\"count(primary_type)\",\n",
    "    axis=alt.Axis(title = \"COUNT\", \n",
    "                        titleAnchor=\"end\")),\n",
    "    tooltip=['district', alt.Tooltip('count(primary_type)', title='count')]\n",
    ").properties(\n",
    "    title='Count of commited crimes per district',\n",
    "    width=1000,\n",
    "    height=400\n",
    ").configure_axis(grid=False\n",
    ").configure_view(strokeOpacity=0)\n",
    "\n",
    "\n",
    "\n",
    "district.configure_title(\n",
    "    fontSize=16,\n",
    "    font='Arial',\n",
    "    color='black',\n",
    "    anchor='start'\n",
    ").configure_axis(grid=False\n",
    ").configure_view(strokeOpacity=0)"
   ]
  },
  {
   "attachments": {},
   "cell_type": "markdown",
   "metadata": {},
   "source": [
    "### Distribution of crime groups in total\n",
    "\n",
    "Since 10 single crime types were too many for some purposes (map, etc.), we decided to combine the types into groups.\n",
    "\n",
    "- Group_1: light to medium crimes\n",
    "- Group_2: medium to serious crimes\n",
    "- Group_3: homicide/murder\n"
   ]
  },
  {
   "cell_type": "code",
   "execution_count": null,
   "metadata": {},
   "outputs": [],
   "source": [
    "#Barchart with different groups of crime\n",
    "# we bulit these groups sorted according to gravity\n",
    "\n",
    "ch = alt.Chart(df).mark_bar().encode(\n",
    "    y=alt.Y('count(primary_group)', \n",
    "            axis=alt.Axis(title = \"COUNT\", \n",
    "                        titleAnchor=\"end\")),\n",
    "    x=alt.X(\"primary_group\", sort=\"-y\",\n",
    "            axis=alt.Axis(title=\"GROUP\",\n",
    "                            labelAngle=0,\n",
    "                          titleAnchor=\"start\")),\n",
    "\n",
    ").properties(\n",
    "    title='Count of commited crimes per group',\n",
    "    width=800,\n",
    "    height=400\n",
    ")\n",
    "\n",
    "txt = ch.mark_text(\n",
    "    baseline = 'middle',\n",
    "    dy = -15\n",
    ").encode(\n",
    "    text='count(primary_type)'\n",
    ")\n",
    "\n",
    "layer = alt.layer(ch + txt\n",
    ").configure_title(\n",
    "    fontSize=16,\n",
    "    font='Arial',\n",
    "    color='black',\n",
    "    anchor='start'\n",
    ").configure_axis(grid=False\n",
    ").configure_view(strokeOpacity=0)\n",
    "\n",
    "layer\n"
   ]
  },
  {
   "attachments": {},
   "cell_type": "markdown",
   "metadata": {},
   "source": [
    "### Arrest\n",
    "\n",
    "Here we can see how many of the different crimes let to an arrest. Only 62 out of 159 homocides let to an arrest."
   ]
  },
  {
   "cell_type": "code",
   "execution_count": null,
   "metadata": {},
   "outputs": [],
   "source": [
    "#arrest crime crosstab in total\n",
    "\n",
    "cross_table = pd.crosstab(df[\"primary_type\"], df[\"arrest\"],\n",
    "    margins=True,\n",
    "    normalize=False,\n",
    "    rownames=[\"Crime\"],\n",
    "    colnames=[\"Arrest\"]\n",
    "    )\n",
    "\n",
    "\n",
    "cross_table"
   ]
  },
  {
   "cell_type": "markdown",
   "metadata": {},
   "source": [
    "## Visualizations"
   ]
  },
  {
   "cell_type": "code",
   "execution_count": null,
   "metadata": {},
   "outputs": [],
   "source": [
    "#Geopandas library to work with Chicago map\n",
    "import geopandas as gpd"
   ]
  },
  {
   "cell_type": "code",
   "execution_count": null,
   "metadata": {},
   "outputs": [],
   "source": [
    "PARENT_PATH = str(Path().resolve().parent) + \"/\"\n",
    "PATH = \"data/\"\n",
    "SUBPATH = \"external/\"\n",
    "FILE = \"wards\"\n",
    "FORMAT = \".shp\"\n",
    "\n",
    "gdf = gpd.read_file(PARENT_PATH + PATH + SUBPATH + FILE + FORMAT)"
   ]
  },
  {
   "attachments": {},
   "cell_type": "markdown",
   "metadata": {},
   "source": [
    "In this Map you can see the location of the crimes that were occured in Chicago. The more intense the point on the map is, the more crimes were made there. You can find out the exact location with your mouse."
   ]
  },
  {
   "cell_type": "code",
   "execution_count": null,
   "metadata": {},
   "outputs": [],
   "source": [
    "#Map of Chicago with Crimes as Dots on the Map\n",
    "\n",
    "\n",
    "choro = alt.Chart(gdf).mark_geoshape(\n",
    "    fill=\"white\", stroke='grey'\n",
    ").encode()\n",
    "\n",
    "input_radio = alt.binding_radio(options=['group_1','group_2','group_3'], name='Select_Group: ')\n",
    "selection = alt.selection_single(fields=['primary_group'], bind=input_radio)\n",
    "\n",
    "p = alt.Chart(df).mark_square(opacity=0.3).encode(\n",
    "    longitude='longitude',\n",
    "    latitude='latitude',\n",
    "    size=alt.value(10),\n",
    "    color=\"primary_group:N\",\n",
    "    tooltip=[\"district\", \"block\", \"primary_type\"]\n",
    ").add_selection(\n",
    "    selection\n",
    ").transform_filter(\n",
    "    selection\n",
    ").properties(\n",
    "    title=\"Location of crimes in Chicago City\",\n",
    "    width=1000,\n",
    "    height=1000\n",
    ")\n",
    "\n",
    "\n",
    "layer = alt.layer(choro + p\n",
    ").configure_title(\n",
    "    fontSize=16,\n",
    "    font='Arial',\n",
    "    color='black',\n",
    "    anchor='start'\n",
    ").configure_axis(grid=False)\n",
    "\n",
    "layer\n"
   ]
  },
  {
   "cell_type": "code",
   "execution_count": null,
   "metadata": {},
   "outputs": [],
   "source": [
    "\n",
    "# select a point for which to provide details-on-demand\n",
    "label = alt.selection_single(\n",
    "    encodings=['x'], # limit selection to x-axis value\n",
    "    on='mouseover',  # select on mouseover events\n",
    "    nearest=True,    # select data point nearest the cursor\n",
    "    empty='none'     # empty selection includes no data points\n",
    ")\n",
    "\n",
    "chart_5 = alt.Chart().mark_line().encode(\n",
    "    x=alt.X('hour:N',\n",
    "            axis=alt.Axis(title=\"HOUR\",\n",
    "                          titleAnchor=\"start\",\n",
    "                          labelAngle=0)),\n",
    "    y=alt.Y('count(primary_type)',\n",
    "            axis=alt.Axis(title = \"COUNT\", \n",
    "                          titleAnchor=\"end\")),\n",
    "    color=alt.Color(\"year:N\", legend=alt.Legend(title=\"YEAR\"))\n",
    ")\n",
    "\n",
    "\n",
    "alt.layer(\n",
    "    chart_5,\n",
    "    alt.Chart().mark_rule(color='lightgrey').encode(\n",
    "        x='hour:N'\n",
    "    ).transform_filter(label),\n",
    "\n",
    "chart_5.mark_circle().encode(\n",
    "        opacity=alt.condition(label, alt.value(1), alt.value(0))\n",
    "    ).add_selection(label),\n",
    "\n",
    "chart_5.mark_text(align='left', dx=5, dy=-5, stroke='white', strokeWidth=2).encode(\n",
    "        text='count(primary_type)'\n",
    "    ).transform_filter(label),\n",
    "\n",
    "chart_5.mark_text(align='left', dx=5, dy=-5).encode(\n",
    "        text='count(primary_type)'\n",
    "    ).transform_filter(label),\n",
    "    data=df\n",
    ").properties(\n",
    "    title=\"Distribution of crimes per day in hours\",\n",
    "    width=800,\n",
    "    height=600\n",
    ").configure_title(\n",
    "    fontSize=16,\n",
    "    font='Arial',\n",
    "    color='black',\n",
    "    anchor='start'\n",
    ").configure_axis(grid=False\n",
    ").configure_view(strokeOpacity=0)"
   ]
  },
  {
   "attachments": {},
   "cell_type": "markdown",
   "metadata": {},
   "source": [
    "Here we can see the difference between the year 2018 and the year 2019. This Graph shows at what time the crime was commited. We can see that the most crimes were commited at 12pm and at 7pm. "
   ]
  },
  {
   "cell_type": "code",
   "execution_count": null,
   "metadata": {},
   "outputs": [],
   "source": [
    "district_5 = alt.Chart(df).mark_bar().encode(\n",
    "    x=alt.X(\"district:N\",\n",
    "    sort=\"-y\",\n",
    "    axis=alt.Axis(title=\"DISTRICT\",  \n",
    "                          titleAnchor=\"start\", \n",
    "                          labelAngle=0)),\n",
    "    y=alt.Y(\"count(primary_type):Q\",\n",
    "    axis=alt.Axis(title=\"COUNT\",  \n",
    "                          titleAnchor=\"end\")),\n",
    "    color=alt.condition(\n",
    "        alt.FieldOneOfPredicate('district', [11, 6, 8, 1, 18]),  # If the district is 11 this test returns True,\n",
    "        alt.value('orange'),     # which sets the bar orange.\n",
    "        alt.value('steelblue')   # And if it's not true it sets the bar steelblue.\n",
    "    ),\n",
    "    tooltip=[\"count(primary_type)\"]\n",
    ").properties(\n",
    "    title='Count of commited crime in the districts',\n",
    "    width=1000,\n",
    "    height=400\n",
    ").configure_title(\n",
    "    fontSize=16,\n",
    "    font='Arial',\n",
    "    color='black',\n",
    "    anchor='start'\n",
    ").configure_axis(grid=False\n",
    ").configure_view(strokeOpacity=0)\n",
    "\n",
    "district_5"
   ]
  },
  {
   "cell_type": "code",
   "execution_count": null,
   "metadata": {},
   "outputs": [],
   "source": [
    "df.primary_type.value_counts()"
   ]
  },
  {
   "attachments": {},
   "cell_type": "markdown",
   "metadata": {},
   "source": [
    "Here we can see again in which districts the most crimes were commited. The most violent districts are: 11, 6, 8, 1, 18 and the least violent are: 20, 17 and 24."
   ]
  },
  {
   "cell_type": "code",
   "execution_count": null,
   "metadata": {},
   "outputs": [],
   "source": [
    "#primary_type per district\n",
    "\n",
    "order_crime = [\"theft\", \"assault_and_battery\",\"criminal_damage\", \"deceptive_practice\", \"burglary\", \"other_offense\", \"robbery_and_weapons\", \"narcotics\", \"homicide\", \"sexual_crime\"]\n",
    "\n",
    "alt.Chart(df).mark_bar().encode(\n",
    "    x=alt.X('count(primary_type)', stack=\"normalize\",\n",
    "    axis=alt.Axis(format=\"%\",title = \"PERCENT\", \n",
    "                          titleAnchor=\"start\")),\n",
    "    y=alt.Y('district:N',\n",
    "    axis=alt.Axis(title = \"DISTRICT\", \n",
    "                          titleY=25)),\n",
    "    color=alt.Color('primary_type', sort=order_crime),\n",
    "    tooltip=[\"primary_type\", alt.Tooltip('count(primary_type)', title='count')]\n",
    ").properties(\n",
    "    title='Distribution of crime types per district',\n",
    "    width=1000,\n",
    "    height=800\n",
    ").configure_title(\n",
    "    fontSize=16,\n",
    "    font='Arial',\n",
    "    color='black',\n",
    "    anchor='start'\n",
    ").configure_axis(grid=False\n",
    ").configure_view(strokeOpacity=0)"
   ]
  },
  {
   "cell_type": "code",
   "execution_count": null,
   "metadata": {},
   "outputs": [],
   "source": [
    "brush = alt.selection(type='interval')\n",
    "\n",
    "bar = alt.Chart(df).mark_bar().encode(\n",
    "    x=alt.X(\"district:N\",\n",
    "    sort=\"-y\",\n",
    "    axis=alt.Axis(title=\"DISTRICT\",  \n",
    "                          titleAnchor=\"start\", \n",
    "                          labelAngle=0)),\n",
    "    y=alt.Y(\"count(primary_type):Q\",\n",
    "    axis=alt.Axis(title=\"COUNT\",  \n",
    "                          titleAnchor=\"end\")),\n",
    "    tooltip=[alt.Tooltip('count(primary_type)', title='count')]\n",
    ").add_selection(\n",
    "    brush\n",
    ").properties(\n",
    "    title='Count of commited crime in the districts',\n",
    "    width=1000,\n",
    "    height=400\n",
    ")\n",
    "\n",
    "\n",
    "\n",
    "bars = alt.Chart(df).mark_bar().encode(\n",
    "    x=alt.X('count(primary_type)', stack=\"normalize\",\n",
    "    axis=alt.Axis(format=\"%\",title = \"PERCENT\", \n",
    "                          titleAnchor=\"start\")),\n",
    "    y=alt.Y('district:N',\n",
    "    axis=alt.Axis(title=\"DISTRICT\",  \n",
    "                          titleY=25)),\n",
    "    color=alt.Color('primary_type', sort=order_crime, \n",
    "    legend=alt.Legend(orient='none', legendX=1100, legendY=480)),\n",
    "    tooltip=[\"primary_type\", alt.Tooltip('count(primary_type)', title='count')]\n",
    ").transform_filter(\n",
    "    brush\n",
    ").properties(\n",
    "    title='Distribution of crime types per district',\n",
    "    width=1000,\n",
    "    height=600)\n",
    "\n",
    "alt.vconcat(bar & bars).configure_title(\n",
    "    fontSize=16,\n",
    "    font='Arial',\n",
    "    color='black',\n",
    "    anchor='start'\n",
    ").configure_axis(grid=False\n",
    ").configure_view(strokeOpacity=0)\n"
   ]
  },
  {
   "attachments": {},
   "cell_type": "markdown",
   "metadata": {},
   "source": [
    "In this graph we can see how the different types of crime are distributet in the districts. For example there were 2271 thefts in District 1."
   ]
  },
  {
   "cell_type": "markdown",
   "metadata": {},
   "source": [
    "## Conclusion + recommended action\n"
   ]
  },
  {
   "attachments": {},
   "cell_type": "markdown",
   "metadata": {},
   "source": [
    "> REMOVE THE FOLLOWING TEXT\n",
    "\n",
    "In this section you'll include a summary of what you have learned about your (research) question along with (statistical) arguments supporting your conclusions.\n",
    "\n",
    "In addition, discuss the limitations of your analysis and provide suggestions on ways the analysis could be improved. (Hendrik)\n",
    "\n",
    "Any potential issues pertaining to the reliability and validity of your data and appropriateness of the statistical analysis should also be discussed here. (Hendrik)\n",
    "\n",
    "Lastly, this section will include your recommended action. (Esad)"
   ]
  },
  {
   "attachments": {},
   "cell_type": "markdown",
   "metadata": {},
   "source": [
    "We can clearly see that Chicago is a very violent city and that the city council needs to react or prevent. \n",
    "\n",
    "Therefore we still suggest Crime Prevention Center in the districts. We understand that it is to expensive to open them in every district. If we think about our analysis and our graphs we would open at least 5 Center in the most violent districts:\n",
    "1. District 11 (5432 incidents)\n",
    "2. District 6 (4712)\n",
    "3. District 8 (4591)\n",
    "4. District 1 (4560)\n",
    "5. District 18 (4485)\n",
    "\n",
    "We also understand that the Prevention Center can't be open 24 hours a day, so we would adapt their opening hours to the time when the most crime happen statisticly. We would suggest opening times at least from 11am to 8 pm because this are the most violent hours, especially at 12pm and 7 pm. The 5 most violent hours are:\n",
    "1. 12pm   (4663 incidents)\n",
    "2. 7pm    (4413)\n",
    "3. 6pm    (4383)\n",
    "4. 3pm    (4226)\n",
    "5. 5pm    (4225)\n",
    "\n",
    "If we think about the different months over the year, we would still recommend too keep the Prevention Center open the whole year, because there are no months with a significant decrease of crime.\n",
    "\n"
   ]
  },
  {
   "cell_type": "markdown",
   "metadata": {},
   "source": []
  }
 ],
 "metadata": {
  "kernelspec": {
   "display_name": "dst",
   "language": "python",
   "name": "python3"
  },
  "language_info": {
   "codemirror_mode": {
    "name": "ipython",
    "version": 3
   },
   "file_extension": ".py",
   "mimetype": "text/x-python",
   "name": "python",
   "nbconvert_exporter": "python",
   "pygments_lexer": "ipython3",
   "version": "3.9.13"
  },
  "orig_nbformat": 4,
  "vscode": {
   "interpreter": {
    "hash": "afb2be5e0fa59e7cc779d156738954d1f1d32fb360bdb57d692d068a241e7d01"
   }
  }
 },
 "nbformat": 4,
 "nbformat_minor": 2
}
