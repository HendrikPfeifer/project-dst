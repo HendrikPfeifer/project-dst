{
 "cells": [
  {
   "cell_type": "markdown",
   "metadata": {},
   "source": [
    "# Report"
   ]
  },
  {
   "cell_type": "markdown",
   "metadata": {},
   "source": [
    "## Introduction and data"
   ]
  },
  {
   "attachments": {},
   "cell_type": "markdown",
   "metadata": {},
   "source": [
    "> REMOVE THE FOLLOWING TEXT\n",
    "\n",
    "This section includes an introduction to the project motivation, data, and (research) question.\n",
    "\n",
    "> Use content from the [BIG IDEA worksheet](https://docs.google.com/document/d/1-GZvhdbhLYLB_Bo1arj1rgTqbJ5SUoU21vtgbYEhVqk/edit?usp=sharing)   \n",
    "\n",
    "Describe the data and definitions of key variables.\n",
    "\n",
    "It should also include some exploratory data analysis.\n",
    "\n",
    "*All of the EDA won't fit in the paper, so focus on the EDA for the response variable and a few other interesting variables and relationships.*\n",
    "\n",
    "\n",
    "////\n",
    "### Subject Matter:\n",
    "\n",
    "In the city of Chicago, many incidents/crimes happen every day, from minor thefts to murders. To reduce the violence in the city, the city wants to open a new crime prevention centre. Now the city is asking our team which crimes occur particularly frequently and where they happen. With this information, the **Crime Prevention Center** can be built in a particularly well-situated location. In addition, the specialised departments of the centre can be trained for the relevant criminal offences. This should make Chicago a safer city and ensure that measures are taken at an early stage to prevent crime.\n",
    "\n",
    "### Motivation:\n",
    "\n",
    "Various studies show that it is possible to prevent crime in cities with the help of specific actions. With the new **Crime Prevention Center**, we want to take a new approach in Chicago to prevent crime from the very beginning.\n",
    "\n",
    "* Crime Prevention and the Safer Cities Story\n",
    "https://onlinelibrary.wiley.com/doi/10.1111/j.1468-2311.1993.tb00758.x\n",
    "\n",
    "* Social Crime Prevention in South Africa's Major Cities \n",
    "http://csvr.org.za/docs/urbansafety/socialcrimeprevention.pdf\n",
    "\n",
    "\n",
    "\n",
    "\n",
    "### General Question:\n",
    "\n",
    "Which kind of crimes happen particularly frequently and where do they happen?\n",
    "\n",
    "### Hypotheses:\n",
    "\n",
    "There are places (districts/blocks) in Chicago where the most (dangerous) crimes/incidents happen.\n"
   ]
  },
  {
   "cell_type": "code",
   "execution_count": null,
   "metadata": {},
   "outputs": [],
   "source": [
    "from pathlib import Path\n",
    "\n",
    "PARENT_PATH = str(Path().resolve().parent) + \"/\"\n",
    "PATH = \"data/\"\n",
    "SUBPATH = \"processed/\"\n",
    "FILE = \"chicago_crimes-20230130-1108\"\n",
    "FORMAT = \".csv\""
   ]
  },
  {
   "cell_type": "code",
   "execution_count": null,
   "metadata": {},
   "outputs": [],
   "source": [
    "import altair as alt\n",
    "from vega_datasets import data\n",
    "alt.data_transformers.disable_max_rows()\n",
    "\n",
    "import warnings\n",
    "warnings.simplefilter(action='ignore', category=FutureWarning)"
   ]
  },
  {
   "cell_type": "code",
   "execution_count": null,
   "metadata": {},
   "outputs": [],
   "source": [
    "import pandas as pd\n",
    "\n",
    "df = pd.read_csv(PARENT_PATH + PATH + SUBPATH + FILE + FORMAT)"
   ]
  },
  {
   "cell_type": "code",
   "execution_count": null,
   "metadata": {},
   "outputs": [],
   "source": [
    "df.head()"
   ]
  },
  {
   "cell_type": "code",
   "execution_count": null,
   "metadata": {},
   "outputs": [],
   "source": [
    "df.info()"
   ]
  },
  {
   "attachments": {},
   "cell_type": "markdown",
   "metadata": {},
   "source": [
    "### Description of the crimes\n",
    "There were 76362 registered crimes in 2018 and 2019. \"theft\" was the most common with 21637 cases committed."
   ]
  },
  {
   "cell_type": "code",
   "execution_count": null,
   "metadata": {},
   "outputs": [],
   "source": [
    "df[\"primary_type\"].describe()"
   ]
  },
  {
   "attachments": {},
   "cell_type": "markdown",
   "metadata": {},
   "source": [
    "### Distribution of crimes over the two years (2018 + 2019)\n",
    "The distribution of crimes are almost equal, there were slightly more crimes in 2018. "
   ]
  },
  {
   "cell_type": "code",
   "execution_count": null,
   "metadata": {},
   "outputs": [],
   "source": [
    "chart_3 = alt.Chart(df).mark_bar().encode(\n",
    "    y=alt.Y('year:N',\n",
    "            axis=alt.Axis(title=\"YEAR\",\n",
    "                          titleAnchor=\"start\")),\n",
    "    x=alt.X('count(primary_type)',\n",
    "            axis=alt.Axis(title = \"COUNT\", \n",
    "                          titleAnchor=\"start\")),\n",
    ").properties(\n",
    "    title='Count of commited crime per year',\n",
    "    width=400,\n",
    "    height=200\n",
    ")\n",
    "\n",
    "\n",
    "chart_3.configure_title(\n",
    "    fontSize=16,\n",
    "    font='Arial',\n",
    "    color='black',\n",
    "    anchor='start'\n",
    ").configure_axis(grid=False\n",
    ").configure_view(strokeOpacity=0)"
   ]
  },
  {
   "attachments": {},
   "cell_type": "markdown",
   "metadata": {},
   "source": [
    "### Distribution of crimes per year in months\n",
    "Most crimes occour in spring/summer from May to August."
   ]
  },
  {
   "cell_type": "code",
   "execution_count": null,
   "metadata": {},
   "outputs": [],
   "source": [
    "chart_4 = alt.Chart(df).mark_line().encode(\n",
    "    x=alt.X('month:N',\n",
    "            axis=alt.Axis(title=\"MONTH\",\n",
    "                          titleAnchor=\"start\", \n",
    "                          labelAngle=0)),\n",
    "    y=alt.Y('count(primary_type)',\n",
    "            axis=alt.Axis(title = \"COUNT\", \n",
    "                          titleAnchor=\"end\")),\n",
    "    color=alt.Color(\"year:N\", legend=alt.Legend(title=\"YEAR\"))                  \n",
    ").properties(\n",
    "    title='Count of commited crime per month',\n",
    "    width=600,\n",
    "    height=400\n",
    ").configure_axis(grid=False\n",
    ").configure_view(strokeOpacity=0)\n",
    "\n",
    "chart_4.configure_title(\n",
    "    fontSize=16,\n",
    "    font='Arial',\n",
    "    color='black',\n",
    "    anchor='start'\n",
    ")"
   ]
  },
  {
   "attachments": {},
   "cell_type": "markdown",
   "metadata": {},
   "source": [
    "### Distribution of crimes per day in hours\n",
    "- Most crimes occour during the day.\n",
    "- Constant increase from 8 am to 7 pm.\n",
    "- Peak at 12pm\n",
    "- Constant decrease from 7pm to 1 am.\n",
    "- Lowest at 5 am"
   ]
  },
  {
   "cell_type": "code",
   "execution_count": null,
   "metadata": {},
   "outputs": [],
   "source": [
    "chart_5 = alt.Chart(df).mark_line().encode(\n",
    "    x=alt.X('hour:N',\n",
    "            axis=alt.Axis(title=\"HOUR\",\n",
    "                          titleAnchor=\"start\",\n",
    "                          labelAngle=0)),\n",
    "    y=alt.Y('count(primary_type)',\n",
    "            axis=alt.Axis(title = \"COUNTHO\", \n",
    "                          titleAnchor=\"end\")),\n",
    "    color=alt.Color(\"year:N\", legend=alt.Legend(title=\"YEAR\"))\n",
    ").properties(\n",
    "    title='Count of commited crime per hour',\n",
    "    width=600,\n",
    "    height=400\n",
    ").configure_axis(grid=False\n",
    ").configure_view(strokeOpacity=0)\n",
    "\n",
    "\n",
    "chart_5.configure_title(\n",
    "    fontSize=16,\n",
    "    font='Arial',\n",
    "    color='black',\n",
    "    anchor='start'\n",
    ")"
   ]
  },
  {
   "attachments": {},
   "cell_type": "markdown",
   "metadata": {},
   "source": [
    "### Distribution of the crimes by type\n",
    "\n",
    "- most: \"theft\" and \"assault_and_battery\"\n",
    "- least: \"sexual_crime\" and \"homicide\""
   ]
  },
  {
   "cell_type": "code",
   "execution_count": null,
   "metadata": {},
   "outputs": [],
   "source": [
    "df.primary_type.value_counts()"
   ]
  },
  {
   "cell_type": "code",
   "execution_count": null,
   "metadata": {},
   "outputs": [],
   "source": [
    "ch = alt.Chart(df).mark_bar().encode(\n",
    "    x=alt.X(\"primary_type\", sort=\"-y\",\n",
    "            axis=alt.Axis(title=\"DISTRICT\",\n",
    "                          titleAnchor=\"start\", \n",
    "                          labelAngle=0)),\n",
    "    y=alt.Y('count(primary_type)', \n",
    "            axis=alt.Axis(title = \"TYPE\", \n",
    "                        titleAnchor=\"end\"),\n",
    "                        scale=alt.Scale(domain=[0, 24000])),\n",
    ").properties(\n",
    "    title='Count of commited crimes per type',\n",
    "    width=1000,\n",
    "    height=400\n",
    ")\n",
    "\n",
    "txt = ch.mark_text(\n",
    "    baseline = 'middle',\n",
    "    dy= - 15\n",
    ").encode(\n",
    "    text='count(primary_type)'\n",
    ")\n",
    "\n",
    "layer = alt.layer(ch + txt\n",
    ").configure_title(\n",
    "    fontSize=16,\n",
    "    font='Arial',\n",
    "    color='black',\n",
    "    anchor='start'\n",
    ").configure_axis(grid=False\n",
    ").configure_view(strokeOpacity=0)\n",
    "\n",
    "layer"
   ]
  },
  {
   "attachments": {},
   "cell_type": "markdown",
   "metadata": {},
   "source": [
    "### Distribution of crimes per block/street"
   ]
  },
  {
   "cell_type": "code",
   "execution_count": null,
   "metadata": {},
   "outputs": [],
   "source": [
    "df[\"block\"].value_counts().nlargest(10)"
   ]
  },
  {
   "attachments": {},
   "cell_type": "markdown",
   "metadata": {},
   "source": [
    "### Distribution of crime type per disctrict in percent"
   ]
  },
  {
   "cell_type": "code",
   "execution_count": null,
   "metadata": {},
   "outputs": [],
   "source": [
    "#primary_type and district crosstab\n",
    "\n",
    "cross_table = pd.crosstab(df[\"primary_type\"], df[\"district\"],\n",
    "    margins=True,\n",
    "    normalize=True,\n",
    "    rownames=[\"Type\"],\n",
    "    colnames=[\"District\"]\n",
    "    )* 100\n",
    "\n",
    "\n",
    "cross_table"
   ]
  },
  {
   "cell_type": "code",
   "execution_count": null,
   "metadata": {},
   "outputs": [],
   "source": [
    "df[\"district\"].value_counts(normalize=True) * 100"
   ]
  },
  {
   "attachments": {},
   "cell_type": "markdown",
   "metadata": {},
   "source": [
    "### Distribution of crime type per disctrict in total\n",
    "\n",
    "Top 5 Districts:"
   ]
  },
  {
   "cell_type": "code",
   "execution_count": null,
   "metadata": {},
   "outputs": [],
   "source": [
    "df[\"district\"].value_counts().nlargest(5)"
   ]
  },
  {
   "cell_type": "code",
   "execution_count": null,
   "metadata": {},
   "outputs": [],
   "source": [
    "district = alt.Chart(df).mark_bar().encode(\n",
    "    x=alt.X(\"district:N\",\n",
    "    sort=\"-y\",\n",
    "    axis=alt.Axis(title=\"DISTRICT\",  \n",
    "                          titleAnchor=\"start\", \n",
    "                          labelAngle=0, grid=False)),\n",
    "    y=alt.Y(\"count(primary_type)\",\n",
    "    axis=alt.Axis(title = \"COUNT\", \n",
    "                        titleAnchor=\"end\")),\n",
    "    tooltip=['district', alt.Tooltip('count(primary_type)', title='count')]\n",
    ").properties(\n",
    "    title='Count of commited crimes per district',\n",
    "    width=1000,\n",
    "    height=400\n",
    ").configure_axis(grid=False\n",
    ").configure_view(strokeOpacity=0)\n",
    "\n",
    "\n",
    "\n",
    "district.configure_title(\n",
    "    fontSize=16,\n",
    "    font='Arial',\n",
    "    color='black',\n",
    "    anchor='start'\n",
    ").configure_axis(grid=False\n",
    ").configure_view(strokeOpacity=0)"
   ]
  },
  {
   "attachments": {},
   "cell_type": "markdown",
   "metadata": {},
   "source": [
    "### Distribution of crime groups in total\n",
    "\n",
    "Since 10 single crime types were too many for some purposes (map, etc.), we decided to combine the types into groups.\n",
    "\n",
    "- Group_1: light to medium crimes\n",
    "- Group_2: medium to serious crimes\n",
    "- Group_3: homicide/murder\n"
   ]
  },
  {
   "cell_type": "code",
   "execution_count": null,
   "metadata": {},
   "outputs": [],
   "source": [
    "#Barchart with different groups of crime\n",
    "# we bulit these groups sorted according to gravity\n",
    "\n",
    "ch = alt.Chart(df).mark_bar().encode(\n",
    "    y=alt.Y('count(primary_group)', \n",
    "            axis=alt.Axis(title = \"COUNT\", \n",
    "                        titleAnchor=\"end\")),\n",
    "    x=alt.X(\"primary_group\", sort=\"-y\",\n",
    "            axis=alt.Axis(title=\"GROUP\",\n",
    "                            labelAngle=0,\n",
    "                          titleAnchor=\"start\")),\n",
    "\n",
    ").properties(\n",
    "    title='Count of commited crimes per group',\n",
    "    width=800,\n",
    "    height=400\n",
    ")\n",
    "\n",
    "txt = ch.mark_text(\n",
    "    baseline = 'middle',\n",
    "    dy = -15\n",
    ").encode(\n",
    "    text='count(primary_type)'\n",
    ")\n",
    "\n",
    "layer = alt.layer(ch + txt\n",
    ").configure_title(\n",
    "    fontSize=16,\n",
    "    font='Arial',\n",
    "    color='black',\n",
    "    anchor='start'\n",
    ").configure_axis(grid=False\n",
    ").configure_view(strokeOpacity=0)\n",
    "\n",
    "layer\n"
   ]
  },
  {
   "attachments": {},
   "cell_type": "markdown",
   "metadata": {},
   "source": [
    "### Arrest"
   ]
  },
  {
   "cell_type": "code",
   "execution_count": null,
   "metadata": {},
   "outputs": [],
   "source": [
    "#arrest crime crosstab in total\n",
    "\n",
    "cross_table = pd.crosstab(df[\"primary_type\"], df[\"arrest\"],\n",
    "    margins=True,\n",
    "    normalize=False,\n",
    "    rownames=[\"Crime\"],\n",
    "    colnames=[\"Arrest\"]\n",
    "    )\n",
    "\n",
    "\n",
    "cross_table"
   ]
  },
  {
   "cell_type": "code",
   "execution_count": null,
   "metadata": {},
   "outputs": [],
   "source": [
    "#arrest crime crosstab in percent\n",
    "\n",
    "cross_table = pd.crosstab(df[\"primary_type\"], df[\"arrest\"],\n",
    "    margins=True,\n",
    "    normalize=True,\n",
    "    rownames=[\"Crime\"],\n",
    "    colnames=[\"Arrest\"]\n",
    "    )* 100\n",
    "\n",
    "\n",
    "cross_table"
   ]
  },
  {
   "cell_type": "code",
   "execution_count": null,
   "metadata": {},
   "outputs": [],
   "source": [
    "#arrest homocide crosstab\n",
    "\n",
    "cross_table = pd.crosstab(df[\"primary_type\"] ==\"homicide\" , df[\"arrest\"],\n",
    "    margins=True,\n",
    "    normalize=True,\n",
    "    rownames=[\"Crime\"],\n",
    "    colnames=[\"Arrest\"]\n",
    "    )* 100\n",
    "\n",
    "\n",
    "cross_table"
   ]
  },
  {
   "cell_type": "code",
   "execution_count": null,
   "metadata": {},
   "outputs": [],
   "source": [
    "#arrest group crosstab\n",
    "\n",
    "cross_table = pd.crosstab(df[\"primary_group\"], df[\"arrest\"],\n",
    "    margins=True,\n",
    "    normalize=True,\n",
    "    rownames=[\"Group\"],\n",
    "    colnames=[\"Arrest\"]\n",
    "    )* 100\n",
    "\n",
    "\n",
    "cross_table"
   ]
  },
  {
   "cell_type": "code",
   "execution_count": null,
   "metadata": {},
   "outputs": [],
   "source": [
    "homicide = alt.Chart(df).mark_bar().encode(\n",
    "    x=alt.X(\"count(primary_type)\"),\n",
    "    y=alt.Y(\"arrest\")\n",
    ").transform_filter(\n",
    "alt.FieldEqualPredicate(field='primary_type', equal=\"homicide\")\n",
    ").configure_axis(grid=False\n",
    ").configure_view(strokeOpacity=0)\n",
    "\n",
    "\n",
    "\n",
    "homicide"
   ]
  },
  {
   "cell_type": "markdown",
   "metadata": {},
   "source": [
    "## Visualizations"
   ]
  },
  {
   "cell_type": "markdown",
   "metadata": {},
   "source": [
    "> REMOVE THE FOLLOWING TEXT\n",
    "\n",
    "This section includes a brief description of your visualization creation process.\n",
    "\n",
    "Explain the reasoning for the type of visualization you're using and what other types you considered. \n",
    "\n",
    "Additionally, show how you arrived at the final visualization by describing the plot selection process, variable transformations (if needed), and any other relevant considerations that were part of the visualization creation process."
   ]
  },
  {
   "cell_type": "code",
   "execution_count": null,
   "metadata": {},
   "outputs": [],
   "source": [
    "#Geopandas library to work with Chicago map\n",
    "import geopandas as gpd"
   ]
  },
  {
   "cell_type": "code",
   "execution_count": null,
   "metadata": {},
   "outputs": [],
   "source": [
    "PARENT_PATH = str(Path().resolve().parent) + \"/\"\n",
    "PATH = \"data/\"\n",
    "SUBPATH = \"external/\"\n",
    "FILE = \"wards\"\n",
    "FORMAT = \".shp\"\n",
    "\n",
    "gdf = gpd.read_file(PARENT_PATH + PATH + SUBPATH + FILE + FORMAT)"
   ]
  },
  {
   "cell_type": "code",
   "execution_count": null,
   "metadata": {},
   "outputs": [],
   "source": [
    "#Map of Chicago with Crimes as Dots on the Map\n",
    "\n",
    "choro = alt.Chart(gdf).mark_geoshape(\n",
    "    fill=\"black\", stroke='white'\n",
    ").encode()\n",
    "\n",
    "\n",
    "p = alt.Chart(df).mark_square(opacity=0.3).encode(\n",
    "    longitude='longitude',\n",
    "    latitude='latitude',\n",
    "    size=alt.value(10),\n",
    "    color=\"count(primary_type)\",\n",
    "    tooltip=['ward', \"district\", \"block\"]\n",
    ").properties(\n",
    "    title=\"Location of crimes in Chicago City\",\n",
    "    width=1000,\n",
    "    height=1000\n",
    ")\n",
    "\n",
    "choro + p"
   ]
  },
  {
   "cell_type": "code",
   "execution_count": null,
   "metadata": {},
   "outputs": [],
   "source": [
    "\n",
    "# select a point for which to provide details-on-demand\n",
    "label = alt.selection_single(\n",
    "    encodings=['x'], # limit selection to x-axis value\n",
    "    on='mouseover',  # select on mouseover events\n",
    "    nearest=True,    # select data point nearest the cursor\n",
    "    empty='none'     # empty selection includes no data points\n",
    ")\n",
    "\n",
    "chart_5 = alt.Chart().mark_line().encode(\n",
    "    x=alt.X('hour:N',\n",
    "            axis=alt.Axis(title=\"Hour\",\n",
    "                          titleAnchor=\"start\",\n",
    "                          labelAngle=0)),\n",
    "    y=alt.Y('count(primary_type)',\n",
    "            axis=alt.Axis(title = \"Count\", \n",
    "                          titleAnchor=\"end\")),\n",
    "    color=alt.Color(\"year:N\", legend=alt.Legend(title=\"YEAR\"))\n",
    ")\n",
    "\n",
    "\n",
    "alt.layer(\n",
    "    chart_5,\n",
    "    alt.Chart().mark_rule(color='lightgrey').encode(\n",
    "        x='hour:N'\n",
    "    ).transform_filter(label),\n",
    "\n",
    "chart_5.mark_circle().encode(\n",
    "        opacity=alt.condition(label, alt.value(1), alt.value(0))\n",
    "    ).add_selection(label),\n",
    "\n",
    "chart_5.mark_text(align='left', dx=5, dy=-5, stroke='white', strokeWidth=2).encode(\n",
    "        text='count(primary_type)'\n",
    "    ).transform_filter(label),\n",
    "\n",
    "chart_5.mark_text(align='left', dx=5, dy=-5).encode(\n",
    "        text='count(primary_type)'\n",
    "    ).transform_filter(label),\n",
    "    data=df\n",
    ").properties(\n",
    "    width=800,\n",
    "    height=600\n",
    ").configure_axis(grid=False\n",
    ").configure_view(strokeOpacity=0)"
   ]
  },
  {
   "cell_type": "code",
   "execution_count": null,
   "metadata": {},
   "outputs": [],
   "source": [
    "district_5 = alt.Chart(df).mark_bar().encode(\n",
    "    x=alt.X(\"district:N\",\n",
    "    sort=\"-y\",\n",
    "    axis=alt.Axis(title=\"DISTRICT\",  \n",
    "                          titleAnchor=\"start\", \n",
    "                          labelAngle=0)),\n",
    "    y=alt.Y(\"count(primary_type):Q\"),\n",
    "    color=alt.condition(\n",
    "        alt.FieldOneOfPredicate('district', [11, 6, 8, 1, 18]),  # If the district is 11 this test returns True,\n",
    "        alt.value('orange'),     # which sets the bar orange.\n",
    "        alt.value('steelblue')   # And if it's not true it sets the bar steelblue.\n",
    "    )\n",
    ").properties(\n",
    "    title='Count of commited crime in the districts',\n",
    "    width=1000,\n",
    "    height=400\n",
    ").configure_axis(grid=False\n",
    ").configure_view(strokeOpacity=0)\n",
    "\n",
    "\n",
    "\n",
    "district_5"
   ]
  },
  {
   "cell_type": "code",
   "execution_count": null,
   "metadata": {},
   "outputs": [],
   "source": [
    "#primary_type per district\n",
    "\n",
    "\n",
    "alt.Chart(df).mark_bar().encode(\n",
    "    x=alt.X('count(primary_type)', stack=\"normalize\"),\n",
    "    y='district:N',\n",
    "    color='primary_type',\n",
    "    tooltip=[\"primary_type\"]\n",
    ").properties(\n",
    "    title='Distribution of primary_type per district',\n",
    "    width=1000,\n",
    "    height=800\n",
    ").configure_axis(grid=False\n",
    ").configure_view(strokeOpacity=0)"
   ]
  },
  {
   "cell_type": "code",
   "execution_count": null,
   "metadata": {},
   "outputs": [],
   "source": [
    "# filter per district\n",
    "districts = df['district'].unique() # get unique field values\n",
    "districts = list(filter(lambda d: d is not None, districts)) # filter out None values\n",
    "districts.sort() # sort alphabetically\n",
    "\n",
    "selectDistrict = alt.selection_single(\n",
    "    name='Select', # name the selection 'Select'\n",
    "    fields=['district'], # limit selection to the Major_Genre field\n",
    "    init={'district': districts[0]}, # use first genre entry as initial value\n",
    "    bind=alt.binding_select(options=districts) # bind to a menu of unique genre values\n",
    ")\n",
    "\n",
    "\n",
    "chart = alt.Chart(df).mark_bar().add_selection(\n",
    "    selectDistrict\n",
    ").encode(\n",
    "    x=alt.X(\"district:N\",\n",
    "    axis=alt.Axis(title=\"DISTRICT\",  \n",
    "                          titleAnchor=\"start\", \n",
    "                          labelAngle=0, grid=False)),\n",
    "    y=alt.Y(\"count(primary_type)\"),\n",
    "    opacity=alt.condition(selectDistrict, alt.value(1.0), alt.value(0.50)),\n",
    "    tooltip=[\"district\", \"count(primary_type)\"]\n",
    ").properties(\n",
    "    title='Count of commited crime in the districts',\n",
    "    width=1000,\n",
    "    height=400\n",
    ").configure_axis(grid=False\n",
    ").configure_view(strokeOpacity=0)\n",
    "\n",
    "\n",
    "\n",
    "chart"
   ]
  },
  {
   "cell_type": "code",
   "execution_count": null,
   "metadata": {},
   "outputs": [],
   "source": []
  },
  {
   "cell_type": "markdown",
   "metadata": {},
   "source": [
    "## Conclusion + recommended action\n"
   ]
  },
  {
   "cell_type": "markdown",
   "metadata": {},
   "source": [
    "> REMOVE THE FOLLOWING TEXT\n",
    "\n",
    "In this section you'll include a summary of what you have learned about your (research) question along with (statistical) arguments supporting your conclusions.\n",
    "\n",
    "In addition, discuss the limitations of your analysis and provide suggestions on ways the analysis could be improved.\n",
    "\n",
    "Any potential issues pertaining to the reliability and validity of your data and appropriateness of the statistical analysis should also be discussed here.\n",
    "\n",
    "Lastly, this section will include your recommended action."
   ]
  },
  {
   "cell_type": "markdown",
   "metadata": {},
   "source": []
  }
 ],
 "metadata": {
  "kernelspec": {
   "display_name": "dst",
   "language": "python",
   "name": "python3"
  },
  "language_info": {
   "codemirror_mode": {
    "name": "ipython",
    "version": 3
   },
   "file_extension": ".py",
   "mimetype": "text/x-python",
   "name": "python",
   "nbconvert_exporter": "python",
   "pygments_lexer": "ipython3",
   "version": "3.9.13 | packaged by conda-forge | (main, May 27 2022, 17:01:00) \n[Clang 13.0.1 ]"
  },
  "orig_nbformat": 4,
  "vscode": {
   "interpreter": {
    "hash": "afb2be5e0fa59e7cc779d156738954d1f1d32fb360bdb57d692d068a241e7d01"
   }
  }
 },
 "nbformat": 4,
 "nbformat_minor": 2
}
