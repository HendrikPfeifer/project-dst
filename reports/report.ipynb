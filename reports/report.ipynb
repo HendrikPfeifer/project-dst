{
 "cells": [
  {
   "cell_type": "markdown",
   "metadata": {},
   "source": [
    "# Report"
   ]
  },
  {
   "cell_type": "markdown",
   "metadata": {},
   "source": [
    "## Introduction and data"
   ]
  },
  {
   "cell_type": "markdown",
   "metadata": {},
   "source": [
    "> REMOVE THE FOLLOWING TEXT\n",
    "\n",
    "This section includes an introduction to the project motivation, data, and (research) question.\n",
    "\n",
    "> Use content from the [BIG IDEA worksheet](https://docs.google.com/document/d/1-GZvhdbhLYLB_Bo1arj1rgTqbJ5SUoU21vtgbYEhVqk/edit?usp=sharing)   \n",
    "\n",
    "Describe the data and definitions of key variables.\n",
    "\n",
    "It should also include some exploratory data analysis.\n",
    "\n",
    "*All of the EDA won't fit in the paper, so focus on the EDA for the response variable and a few other interesting variables and relationships.*"
   ]
  },
  {
   "cell_type": "code",
   "execution_count": null,
   "metadata": {},
   "outputs": [],
   "source": [
    "from pathlib import Path\n",
    "\n",
    "PARENT_PATH = str(Path().resolve().parent) + \"/\"\n",
    "PATH = \"data/\"\n",
    "SUBPATH = \"processed/\"\n",
    "FILE = \"chicago_crimes-20230125-1544\"\n",
    "FORMAT = \".csv\""
   ]
  },
  {
   "cell_type": "code",
   "execution_count": null,
   "metadata": {},
   "outputs": [],
   "source": [
    "import altair as alt\n",
    "from vega_datasets import data\n",
    "alt.data_transformers.disable_max_rows()\n",
    "\n",
    "import warnings\n",
    "warnings.simplefilter(action='ignore', category=FutureWarning)"
   ]
  },
  {
   "cell_type": "code",
   "execution_count": null,
   "metadata": {},
   "outputs": [],
   "source": [
    "import pandas as pd\n",
    "\n",
    "df = pd.read_csv(PARENT_PATH + PATH + SUBPATH + FILE + FORMAT)"
   ]
  },
  {
   "cell_type": "code",
   "execution_count": null,
   "metadata": {},
   "outputs": [],
   "source": [
    "df.head()"
   ]
  },
  {
   "cell_type": "code",
   "execution_count": null,
   "metadata": {},
   "outputs": [],
   "source": [
    "df.info()"
   ]
  },
  {
   "cell_type": "code",
   "execution_count": null,
   "metadata": {},
   "outputs": [],
   "source": [
    "#Welches Verbrechen wie oft vorkam\n",
    "df.primary_type.value_counts()"
   ]
  },
  {
   "cell_type": "code",
   "execution_count": null,
   "metadata": {},
   "outputs": [],
   "source": [
    "df[\"primary_type\"].describe()"
   ]
  },
  {
   "cell_type": "code",
   "execution_count": null,
   "metadata": {},
   "outputs": [],
   "source": [
    "var_list = ['primary_type']\n",
    "\n",
    "source = df[var_list]"
   ]
  },
  {
   "cell_type": "code",
   "execution_count": null,
   "metadata": {},
   "outputs": [],
   "source": [
    "#Barchart with different types of crime\n",
    "\n",
    "ch = alt.Chart(source).mark_bar().encode(\n",
    "    x=alt.X(\"primary_type\", sort=\"-y\",\n",
    "            axis=alt.Axis(title=\"district\",\n",
    "\n",
    "                          titleAnchor=\"start\", \n",
    "                          labelAngle=0)),\n",
    "    y=alt.Y('count(primary_type)', \n",
    "            axis=alt.Axis(title = \"Count\", \n",
    "                        titleAnchor=\"end\")),\n",
    ").properties(\n",
    "    title='Count of commited crimes per type',\n",
    "    width=1000,\n",
    "    height=400\n",
    ")\n",
    "\n",
    "txt = ch.mark_text(\n",
    "    baseline = 'middle',\n",
    "    dy= - 15\n",
    ").encode(\n",
    "    text='count(primary_type)'\n",
    ")\n",
    "\n",
    "ch+txt"
   ]
  },
  {
   "cell_type": "code",
   "execution_count": null,
   "metadata": {},
   "outputs": [],
   "source": [
    "#Barchart with different types of crime\n",
    "\n",
    "ch = alt.Chart(df).mark_bar().encode(\n",
    "    x=alt.X('count(primary_group)', \n",
    "            axis=alt.Axis(title = \"COUNT\", \n",
    "                        titleAnchor=\"end\")),\n",
    "    y=alt.Y(\"primary_group\", sort=\"y\",\n",
    "            axis=alt.Axis(title=\"PRIMARY GROUP\",\n",
    "                          titleAnchor=\"start\")),\n",
    "\n",
    ").properties(\n",
    "    title='Count of commited crimes per type',\n",
    "    width=1000,\n",
    "    height=400\n",
    ")\n",
    "\n",
    "ch"
   ]
  },
  {
   "cell_type": "code",
   "execution_count": null,
   "metadata": {},
   "outputs": [],
   "source": [
    "#districts crosstab // nicht übersichtlich\n",
    "\n",
    "cross_table = pd.crosstab(df[\"district\"], df[\"district\"],\n",
    "    margins=True,\n",
    "    normalize=True,\n",
    "    rownames=[\"District\"],\n",
    "    colnames=[\"Ergebnis\"]\n",
    "    )* 100\n",
    "\n",
    "\n",
    "cross_table"
   ]
  },
  {
   "cell_type": "code",
   "execution_count": null,
   "metadata": {},
   "outputs": [],
   "source": [
    "df[\"district\"].value_counts(normalize=True) * 100"
   ]
  },
  {
   "cell_type": "code",
   "execution_count": null,
   "metadata": {},
   "outputs": [],
   "source": []
  },
  {
   "cell_type": "code",
   "execution_count": null,
   "metadata": {},
   "outputs": [],
   "source": [
    "#arrest crime crosstab in percent\n",
    "\n",
    "cross_table = pd.crosstab(df[\"primary_type\"], df[\"arrest\"],\n",
    "    margins=True,\n",
    "    normalize=True,\n",
    "    rownames=[\"Crime\"],\n",
    "    colnames=[\"Arrest\"]\n",
    "    )* 100\n",
    "\n",
    "\n",
    "cross_table"
   ]
  },
  {
   "cell_type": "code",
   "execution_count": null,
   "metadata": {},
   "outputs": [],
   "source": [
    "#arrest crime crosstab in total\n",
    "\n",
    "cross_table = pd.crosstab(df[\"primary_type\"], df[\"arrest\"],\n",
    "    margins=True,\n",
    "    normalize=False,\n",
    "    rownames=[\"Crime\"],\n",
    "    colnames=[\"Arrest\"]\n",
    "    )\n",
    "\n",
    "\n",
    "cross_table"
   ]
  },
  {
   "cell_type": "code",
   "execution_count": null,
   "metadata": {},
   "outputs": [],
   "source": [
    "#arrest homocide crosstab\n",
    "\n",
    "cross_table = pd.crosstab(df[\"primary_type\"] ==\"homicide\" , df[\"arrest\"],\n",
    "    margins=True,\n",
    "    normalize=True,\n",
    "    rownames=[\"Crime\"],\n",
    "    colnames=[\"Arrest\"]\n",
    "    )* 100\n",
    "\n",
    "\n",
    "cross_table"
   ]
  },
  {
   "cell_type": "code",
   "execution_count": null,
   "metadata": {},
   "outputs": [],
   "source": [
    "#arrest group crosstab\n",
    "\n",
    "cross_table = pd.crosstab(df[\"primary_group\"], df[\"arrest\"],\n",
    "    margins=True,\n",
    "    normalize=True,\n",
    "    rownames=[\"Group\"],\n",
    "    colnames=[\"Arrest\"]\n",
    "    )* 100\n",
    "\n",
    "\n",
    "cross_table"
   ]
  },
  {
   "cell_type": "code",
   "execution_count": null,
   "metadata": {},
   "outputs": [],
   "source": [
    "homicide = alt.Chart(df).mark_bar().encode(\n",
    "    x=alt.X(\"count(primary_type)\"),\n",
    "    y=alt.Y(\"arrest\")\n",
    ").transform_filter(\n",
    "alt.FieldEqualPredicate(field='primary_type', equal=\"homicide\")\n",
    ")\n",
    "\n",
    "\n",
    "\n",
    "homicide"
   ]
  },
  {
   "cell_type": "code",
   "execution_count": null,
   "metadata": {},
   "outputs": [],
   "source": [
    "#primary_type and district crosstab\n",
    "\n",
    "cross_table = pd.crosstab(df[\"primary_type\"], df[\"district\"],\n",
    "    margins=True,\n",
    "    normalize=True,\n",
    "    rownames=[\"Type\"],\n",
    "    colnames=[\"District\"]\n",
    "    )* 100\n",
    "\n",
    "\n",
    "cross_table"
   ]
  },
  {
   "cell_type": "code",
   "execution_count": null,
   "metadata": {},
   "outputs": [],
   "source": [
    "district = alt.Chart(df).mark_bar().encode(\n",
    "    x=alt.X(\"district:N\",\n",
    "    sort=\"-y\",\n",
    "    axis=alt.Axis(title=\"DISTRICT\",  \n",
    "                          titleAnchor=\"start\", \n",
    "                          labelAngle=0)),\n",
    "    y=alt.Y(\"count(primary_type)\")\n",
    ").properties(\n",
    "    title='Count of commited crime in the districts',\n",
    "    width=1000,\n",
    "    height=400\n",
    ")\n",
    "\n",
    "\n",
    "\n",
    "district"
   ]
  },
  {
   "cell_type": "code",
   "execution_count": null,
   "metadata": {},
   "outputs": [],
   "source": [
    "#districts with most crime\n",
    "\n",
    "df[\"district\"].value_counts().nlargest(5)"
   ]
  },
  {
   "cell_type": "code",
   "execution_count": null,
   "metadata": {},
   "outputs": [],
   "source": [
    "district_5 = alt.Chart(df).mark_bar().encode(\n",
    "    x=alt.X(\"district:N\",\n",
    "    sort=\"-y\",\n",
    "    axis=alt.Axis(title=\"DISTRICT\",  \n",
    "                          titleAnchor=\"start\", \n",
    "                          labelAngle=0)),\n",
    "    y=alt.Y(\"count(primary_type):Q\"),\n",
    "    color=alt.condition(\n",
    "        alt.FieldOneOfPredicate('district', [11, 6, 8, 1, 18]),  # If the district is 11 this test returns True,\n",
    "        alt.value('orange'),     # which sets the bar orange.\n",
    "        alt.value('steelblue')   # And if it's not true it sets the bar steelblue.\n",
    "    )\n",
    ").properties(\n",
    "    title='Count of commited crime in the districts',\n",
    "    width=1000,\n",
    "    height=400\n",
    ")\n",
    "\n",
    "\n",
    "\n",
    "district_5"
   ]
  },
  {
   "cell_type": "code",
   "execution_count": null,
   "metadata": {},
   "outputs": [],
   "source": [
    "#wards with most crime\n",
    "\n",
    "df[\"ward\"].value_counts().nlargest(5)"
   ]
  },
  {
   "cell_type": "code",
   "execution_count": null,
   "metadata": {},
   "outputs": [],
   "source": [
    "selection = alt.selection_multi(fields=['ward'])\n",
    "\n",
    "chart_2 = alt.Chart(df[~df['ward'].isna()]).mark_bar(size=20).encode(\n",
    "    x=alt.X('ward:N',\n",
    "            sort=\"-y\",\n",
    "            axis=alt.Axis(title=\"Ward\",\n",
    "                          titleAnchor=\"start\", \n",
    "                          labelAngle=0)),\n",
    "    y=alt.Y('count(primary_type)',\n",
    "            axis=alt.Axis(title = \"Count\", \n",
    "                          titleAnchor=\"end\")),\n",
    "    tooltip=\"ward\"\n",
    ").properties(\n",
    "    title='Count of commited crime in the wards',\n",
    "    width=1500,\n",
    "    height=400\n",
    ").add_selection(\n",
    "    selection\n",
    ")\n",
    "\n",
    "\n",
    "chart_2.configure_title(\n",
    "    fontSize=16,\n",
    "    font='Arial',\n",
    "    color='black',\n",
    "    anchor='start'\n",
    ")"
   ]
  },
  {
   "cell_type": "code",
   "execution_count": null,
   "metadata": {},
   "outputs": [],
   "source": [
    "ward_5 = alt.Chart(df[~df['ward'].isna()]).mark_bar(size=20).encode(\n",
    "    x=alt.X('ward:N',\n",
    "            sort=\"-y\",\n",
    "            axis=alt.Axis(title=\"Ward\",\n",
    "                          titleAnchor=\"start\", \n",
    "                          labelAngle=0)),\n",
    "    y=alt.Y('count(primary_type)',\n",
    "            axis=alt.Axis(title = \"Count\", \n",
    "                          titleAnchor=\"end\")),\n",
    "            color=alt.condition(\n",
    "        alt.FieldOneOfPredicate('ward', [42.0, 28.0, 24.0, 27.0, 6.0]),  # If the district is 11 this test returns True,\n",
    "        alt.value('orange'),     # which sets the bar orange.\n",
    "        alt.value('steelblue')   # And if it's not true it sets the bar steelblue.\n",
    "    )              \n",
    ").properties(\n",
    "    title='Count of commited crime in the wards',\n",
    "    width=1500,\n",
    "    height=400\n",
    ")\n",
    "\n",
    "\n",
    "ward_5.configure_title(\n",
    "    fontSize=16,\n",
    "    font='Arial',\n",
    "    color='black',\n",
    "    anchor='start'\n",
    ")"
   ]
  },
  {
   "cell_type": "code",
   "execution_count": null,
   "metadata": {},
   "outputs": [],
   "source": [
    "#block/streets with most crimes\n",
    "df[\"block\"].value_counts().nlargest(10)"
   ]
  },
  {
   "cell_type": "code",
   "execution_count": null,
   "metadata": {},
   "outputs": [],
   "source": [
    "chart_3 = alt.Chart(df).mark_bar().encode(\n",
    "    y=alt.Y('year:N',\n",
    "            axis=alt.Axis(title=\"Year\",\n",
    "                          titleAnchor=\"start\")),\n",
    "    x=alt.X('count(primary_type)',\n",
    "            axis=alt.Axis(title = \"Count\", \n",
    "                          titleAnchor=\"end\")),\n",
    ").properties(\n",
    "    title='Count of commited crime per year',\n",
    "    width=400,\n",
    "    height=200\n",
    ")\n",
    "\n",
    "\n",
    "chart_3.configure_title(\n",
    "    fontSize=16,\n",
    "    font='Arial',\n",
    "    color='black',\n",
    "    anchor='start'\n",
    ")"
   ]
  },
  {
   "cell_type": "code",
   "execution_count": null,
   "metadata": {},
   "outputs": [],
   "source": [
    "chart_4 = alt.Chart(df).mark_line().encode(\n",
    "    x=alt.X('month:N',\n",
    "            axis=alt.Axis(title=\"Month\",\n",
    "                          titleAnchor=\"start\", \n",
    "                          labelAngle=0)),\n",
    "    y=alt.Y('count(primary_type)',\n",
    "            axis=alt.Axis(title = \"Count\", \n",
    "                          titleAnchor=\"end\")),\n",
    "    color=alt.Color(\"year:N\", legend=alt.Legend(title=\"YEAR\"))                  \n",
    ").properties(\n",
    "    title='Count of commited crime per month',\n",
    "    width=500,\n",
    "    height=400\n",
    ")\n",
    "\n",
    "chart_4.configure_title(\n",
    "    fontSize=16,\n",
    "    font='Arial',\n",
    "    color='black',\n",
    "    anchor='start'\n",
    ")"
   ]
  },
  {
   "cell_type": "code",
   "execution_count": null,
   "metadata": {},
   "outputs": [],
   "source": [
    "chart_5 = alt.Chart(df).mark_line().encode(\n",
    "    x=alt.X('hour:N',\n",
    "            axis=alt.Axis(title=\"Hour\",\n",
    "                          titleAnchor=\"start\",\n",
    "                          labelAngle=0)),\n",
    "    y=alt.Y('count(primary_type)',\n",
    "            axis=alt.Axis(title = \"Count\", \n",
    "                          titleAnchor=\"end\")),\n",
    "    color=alt.Color(\"year:N\", legend=alt.Legend(title=\"YEAR\"))\n",
    ").properties(\n",
    "    title='Count of commited crime per hour',\n",
    "    width=600,\n",
    "    height=400\n",
    ")\n",
    "\n",
    "\n",
    "chart_5.configure_title(\n",
    "    fontSize=16,\n",
    "    font='Arial',\n",
    "    color='black',\n",
    "    anchor='start'\n",
    ")"
   ]
  },
  {
   "cell_type": "code",
   "execution_count": null,
   "metadata": {},
   "outputs": [],
   "source": [
    "# select a point for which to provide details-on-demand\n",
    "label = alt.selection_single(\n",
    "    encodings=['x'], # limit selection to x-axis value\n",
    "    on='mouseover',  # select on mouseover events\n",
    "    nearest=True,    # select data point nearest the cursor\n",
    "    empty='none'     # empty selection includes no data points\n",
    ")\n",
    "\n",
    "chart_5 = alt.Chart().mark_line().encode(\n",
    "    x=alt.X('hour:N',\n",
    "            axis=alt.Axis(title=\"Hour\",\n",
    "                          titleAnchor=\"start\",\n",
    "                          labelAngle=0)),\n",
    "    y=alt.Y('count(primary_type)',\n",
    "            axis=alt.Axis(title = \"Count\", \n",
    "                          titleAnchor=\"end\")),\n",
    "    color=alt.Color(\"year:N\", legend=alt.Legend(title=\"YEAR\"))\n",
    ")\n",
    "\n",
    "\n",
    "alt.layer(\n",
    "    chart_5,\n",
    "    alt.Chart().mark_rule(color='lightgrey').encode(\n",
    "        x='hour:N'\n",
    "    ).transform_filter(label),\n",
    "\n",
    "chart_5.mark_circle().encode(\n",
    "        opacity=alt.condition(label, alt.value(1), alt.value(0))\n",
    "    ).add_selection(label),\n",
    "\n",
    "chart_5.mark_text(align='left', dx=5, dy=-5, stroke='white', strokeWidth=2).encode(\n",
    "        text='count(primary_type)'\n",
    "    ).transform_filter(label),\n",
    "\n",
    "chart_5.mark_text(align='left', dx=5, dy=-5).encode(\n",
    "        text='count(primary_type)'\n",
    "    ).transform_filter(label),\n",
    "    data=df\n",
    ").properties(\n",
    "    width=800,\n",
    "    height=600\n",
    ")"
   ]
  },
  {
   "cell_type": "code",
   "execution_count": null,
   "metadata": {},
   "outputs": [],
   "source": [
    "# nicht brauchbar wegen group_3\n",
    "alt.Chart(df).mark_area().encode(\n",
    "    x=\"hour:N\",\n",
    "    y=alt.Y(\"count(primary_group)\", stack=\"normalize\"),\n",
    "    color=\"primary_group:N\"\n",
    ")"
   ]
  },
  {
   "cell_type": "markdown",
   "metadata": {},
   "source": [
    "## Visualizations"
   ]
  },
  {
   "cell_type": "code",
   "execution_count": null,
   "metadata": {},
   "outputs": [],
   "source": [
    "#Geopandas library to work with Chicago map\n",
    "import geopandas as gpd"
   ]
  },
  {
   "cell_type": "code",
   "execution_count": null,
   "metadata": {},
   "outputs": [],
   "source": [
    "PARENT_PATH = str(Path().resolve().parent) + \"/\"\n",
    "PATH = \"data/\"\n",
    "SUBPATH = \"external/\"\n",
    "FILE = \"wards\"\n",
    "FORMAT = \".shp\"\n",
    "\n",
    "gdf = gpd.read_file(PARENT_PATH + PATH + SUBPATH + FILE + FORMAT)"
   ]
  },
  {
   "cell_type": "code",
   "execution_count": null,
   "metadata": {},
   "outputs": [],
   "source": [
    "#Map of Chicago with Crimes as Dots on the Map\n",
    "\n",
    "choro = alt.Chart(gdf).mark_geoshape(\n",
    "    fill=\"lightgrey\", stroke='grey'\n",
    ").encode()\n",
    "\n",
    "\n",
    "p = alt.Chart(df).mark_circle(opacity=0.2).encode(\n",
    "    longitude='longitude',\n",
    "    latitude='latitude',\n",
    "    size=alt.value(10)\n",
    ").properties(\n",
    "    title=\"Location of crimes in Chicago City\",\n",
    "    width=1000,\n",
    "    height=1000\n",
    ")\n",
    "\n",
    "choro + p"
   ]
  },
  {
   "cell_type": "markdown",
   "metadata": {},
   "source": [
    "> REMOVE THE FOLLOWING TEXT\n",
    "\n",
    "This section includes a brief description of your visualization creation process.\n",
    "\n",
    "Explain the reasoning for the type of visualization you're using and what other types you considered. \n",
    "\n",
    "Additionally, show how you arrived at the final visualization by describing the plot selection process, variable transformations (if needed), and any other relevant considerations that were part of the visualization creation process."
   ]
  },
  {
   "cell_type": "code",
   "execution_count": null,
   "metadata": {},
   "outputs": [],
   "source": []
  },
  {
   "cell_type": "markdown",
   "metadata": {},
   "source": [
    "## Conclusion + recommended action\n"
   ]
  },
  {
   "cell_type": "markdown",
   "metadata": {},
   "source": [
    "> REMOVE THE FOLLOWING TEXT\n",
    "\n",
    "In this section you'll include a summary of what you have learned about your (research) question along with (statistical) arguments supporting your conclusions.\n",
    "\n",
    "In addition, discuss the limitations of your analysis and provide suggestions on ways the analysis could be improved.\n",
    "\n",
    "Any potential issues pertaining to the reliability and validity of your data and appropriateness of the statistical analysis should also be discussed here.\n",
    "\n",
    "Lastly, this section will include your recommended action."
   ]
  },
  {
   "cell_type": "markdown",
   "metadata": {},
   "source": []
  }
 ],
 "metadata": {
  "kernelspec": {
   "display_name": "dst",
   "language": "python",
   "name": "python3"
  },
  "language_info": {
   "codemirror_mode": {
    "name": "ipython",
    "version": 3
   },
   "file_extension": ".py",
   "mimetype": "text/x-python",
   "name": "python",
   "nbconvert_exporter": "python",
   "pygments_lexer": "ipython3",
   "version": "3.9.13"
  },
  "orig_nbformat": 4,
  "vscode": {
   "interpreter": {
    "hash": "afb2be5e0fa59e7cc779d156738954d1f1d32fb360bdb57d692d068a241e7d01"
   }
  }
 },
 "nbformat": 4,
 "nbformat_minor": 2
}
