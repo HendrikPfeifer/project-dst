{
 "cells": [
  {
   "attachments": {},
   "cell_type": "markdown",
   "metadata": {},
   "source": [
    "# Contains all graphs/data that could not fit into the report"
   ]
  },
  {
   "cell_type": "code",
   "execution_count": null,
   "metadata": {},
   "outputs": [],
   "source": [
    "from pathlib import Path\n",
    "\n",
    "PARENT_PATH = str(Path().resolve().parent) + \"/\"\n",
    "PATH = \"data/\"\n",
    "SUBPATH = \"processed/\"\n",
    "FILE = \"chicago_crimes-20230130-1108\"\n",
    "FORMAT = \".csv\""
   ]
  },
  {
   "cell_type": "code",
   "execution_count": null,
   "metadata": {},
   "outputs": [],
   "source": [
    "import altair as alt\n",
    "from vega_datasets import data\n",
    "alt.data_transformers.disable_max_rows()\n",
    "\n",
    "import warnings\n",
    "warnings.simplefilter(action='ignore', category=FutureWarning)"
   ]
  },
  {
   "cell_type": "code",
   "execution_count": null,
   "metadata": {},
   "outputs": [],
   "source": [
    "import pandas as pd\n",
    "\n",
    "df = pd.read_csv(PARENT_PATH + PATH + SUBPATH + FILE + FORMAT)"
   ]
  },
  {
   "cell_type": "code",
   "execution_count": null,
   "metadata": {},
   "outputs": [],
   "source": [
    "#Geopandas library to work with Chicago map\n",
    "import geopandas as gpd"
   ]
  },
  {
   "cell_type": "code",
   "execution_count": null,
   "metadata": {},
   "outputs": [],
   "source": [
    "PARENT_PATH = str(Path().resolve().parent) + \"/\"\n",
    "PATH = \"data/\"\n",
    "SUBPATH = \"external/\"\n",
    "FILE = \"wards\"\n",
    "FORMAT = \".shp\"\n",
    "\n",
    "gdf = gpd.read_file(PARENT_PATH + PATH + SUBPATH + FILE + FORMAT)"
   ]
  },
  {
   "cell_type": "code",
   "execution_count": null,
   "metadata": {},
   "outputs": [],
   "source": [
    "df.head()"
   ]
  },
  {
   "cell_type": "code",
   "execution_count": null,
   "metadata": {},
   "outputs": [],
   "source": [
    "#districts crosstab // nicht übersichtlich\n",
    "\n",
    "cross_table = pd.crosstab(df[\"district\"], df[\"district\"],\n",
    "    margins=True,\n",
    "    normalize=True,\n",
    "    rownames=[\"District\"],\n",
    "    colnames=[\"Ergebnis\"]\n",
    "    )* 100\n",
    "\n",
    "\n",
    "cross_table"
   ]
  },
  {
   "cell_type": "code",
   "execution_count": null,
   "metadata": {},
   "outputs": [],
   "source": [
    "#arrest crime crosstab in percent\n",
    "\n",
    "cross_table = pd.crosstab(df[\"primary_type\"], df[\"arrest\"],\n",
    "    margins=True,\n",
    "    normalize=True,\n",
    "    rownames=[\"Crime\"],\n",
    "    colnames=[\"Arrest\"]\n",
    "    )* 100\n",
    "\n",
    "\n",
    "cross_table"
   ]
  },
  {
   "cell_type": "code",
   "execution_count": null,
   "metadata": {},
   "outputs": [],
   "source": [
    "#arrest homocide crosstab\n",
    "\n",
    "cross_table = pd.crosstab(df[\"primary_type\"] ==\"homicide\" , df[\"arrest\"],\n",
    "    margins=True,\n",
    "    normalize=True,\n",
    "    rownames=[\"Crime\"],\n",
    "    colnames=[\"Arrest\"]\n",
    "    )* 100\n",
    "\n",
    "\n",
    "cross_table"
   ]
  },
  {
   "cell_type": "code",
   "execution_count": null,
   "metadata": {},
   "outputs": [],
   "source": [
    "#arrest group crosstab\n",
    "\n",
    "cross_table = pd.crosstab(df[\"primary_group\"], df[\"arrest\"],\n",
    "    margins=True,\n",
    "    normalize=True,\n",
    "    rownames=[\"Group\"],\n",
    "    colnames=[\"Arrest\"]\n",
    "    )* 100\n",
    "\n",
    "\n",
    "cross_table"
   ]
  },
  {
   "cell_type": "code",
   "execution_count": null,
   "metadata": {},
   "outputs": [],
   "source": [
    "homicide = alt.Chart(df).mark_bar().encode(\n",
    "    x=alt.X(\"count(primary_type)\"),\n",
    "    y=alt.Y(\"arrest\")\n",
    ").transform_filter(\n",
    "alt.FieldEqualPredicate(field='primary_type', equal=\"homicide\")\n",
    ").configure_axis(grid=False\n",
    ").configure_view(strokeOpacity=0)\n",
    "\n",
    "\n",
    "\n",
    "homicide"
   ]
  },
  {
   "cell_type": "code",
   "execution_count": null,
   "metadata": {},
   "outputs": [],
   "source": [
    "#wards with most crime\n",
    "\n",
    "df[\"ward\"].value_counts().nlargest(5)"
   ]
  },
  {
   "cell_type": "code",
   "execution_count": null,
   "metadata": {},
   "outputs": [],
   "source": [
    "selection = alt.selection_multi(fields=['ward'])\n",
    "\n",
    "chart_2 = alt.Chart(df[~df['ward'].isna()]).mark_bar(size=20).encode(\n",
    "    x=alt.X('ward:N',\n",
    "            sort=\"-y\",\n",
    "            axis=alt.Axis(title=\"Ward\",\n",
    "                          titleAnchor=\"start\", \n",
    "                          labelAngle=0)),\n",
    "    y=alt.Y('count(primary_type)',\n",
    "            axis=alt.Axis(title = \"Count\", \n",
    "                          titleAnchor=\"end\")),\n",
    "    tooltip=\"ward\"\n",
    ").properties(\n",
    "    title='Count of commited crime in the wards',\n",
    "    width=1500,\n",
    "    height=400\n",
    ").add_selection(\n",
    "    selection\n",
    ")\n",
    "\n",
    "\n",
    "chart_2.configure_title(\n",
    "    fontSize=16,\n",
    "    font='Arial',\n",
    "    color='black',\n",
    "    anchor='start'\n",
    ").configure_axis(grid=False\n",
    ").configure_view(strokeOpacity=0)"
   ]
  },
  {
   "cell_type": "code",
   "execution_count": null,
   "metadata": {},
   "outputs": [],
   "source": [
    "ward_5 = alt.Chart(df[~df['ward'].isna()]).mark_bar(size=20).encode(\n",
    "    x=alt.X('ward:N',\n",
    "            sort=\"-y\",\n",
    "            axis=alt.Axis(title=\"Ward\",\n",
    "                          titleAnchor=\"start\", \n",
    "                          labelAngle=0)),\n",
    "    y=alt.Y('count(primary_type)',\n",
    "            axis=alt.Axis(title = \"Count\", \n",
    "                          titleAnchor=\"end\")),\n",
    "            color=alt.condition(\n",
    "        alt.FieldOneOfPredicate('ward', [42.0, 28.0, 24.0, 27.0, 6.0]),  # If the district is 11 this test returns True,\n",
    "        alt.value('orange'),     # which sets the bar orange.\n",
    "        alt.value('steelblue')   # And if it's not true it sets the bar steelblue.\n",
    "    )              \n",
    ").properties(\n",
    "    title='Count of commited crime in the wards',\n",
    "    width=1500,\n",
    "    height=400\n",
    ")\n",
    "\n",
    "\n",
    "ward_5.configure_title(\n",
    "    fontSize=16,\n",
    "    font='Arial',\n",
    "    color='black',\n",
    "    anchor='start'\n",
    ")"
   ]
  },
  {
   "cell_type": "code",
   "execution_count": null,
   "metadata": {},
   "outputs": [],
   "source": [
    "# nicht brauchbar wegen group_3\n",
    "alt.Chart(df).mark_area().encode(\n",
    "    x=\"hour:N\",\n",
    "    y=alt.Y(\"count(primary_group)\", stack=\"normalize\"),\n",
    "    color=\"primary_group:N\"\n",
    ").properties(\n",
    "    width=800,\n",
    "    height=600\n",
    ").configure_axis(grid=False\n",
    ").configure_view(strokeOpacity=0)"
   ]
  },
  {
   "cell_type": "code",
   "execution_count": null,
   "metadata": {},
   "outputs": [],
   "source": [
    "#primary_group per district //nicht übersichtlich\n",
    "\n",
    "\n",
    "alt.Chart(df).mark_bar().encode(\n",
    "    x=alt.X('count(primary_group)', stack=\"normalize\"),\n",
    "    y='district:N',\n",
    "    color='primary_group',\n",
    "    tooltip=[\"primary_group\"]\n",
    ").properties(\n",
    "    title='Distribution of primary_group per district',\n",
    "    width=1000,\n",
    "    height=800\n",
    ").configure_axis(grid=False\n",
    ").configure_view(strokeOpacity=0)"
   ]
  },
  {
   "cell_type": "code",
   "execution_count": null,
   "metadata": {},
   "outputs": [],
   "source": [
    "# This graph shows again which district is the most violent. \n",
    "# filter per district\n",
    "districts = df['district'].unique() # get unique field values\n",
    "districts = list(filter(lambda d: d is not None, districts)) # filter out None values\n",
    "districts.sort() # sort alphabetically\n",
    "\n",
    "selectDistrict = alt.selection_single(\n",
    "    name='Select', # name the selection 'Select'\n",
    "    fields=['district'], # limit selection to the Major_Genre field\n",
    "    init={'district': districts[0]}, # use first genre entry as initial value\n",
    "    bind=alt.binding_select(options=districts) # bind to a menu of unique genre values\n",
    ")\n",
    "\n",
    "\n",
    "chart = alt.Chart(df).mark_bar().add_selection(\n",
    "    selectDistrict\n",
    ").encode(\n",
    "    x=alt.X(\"district:N\",\n",
    "    axis=alt.Axis(title=\"DISTRICT\",  \n",
    "                          titleAnchor=\"start\", \n",
    "                          labelAngle=0)),\n",
    "    y=alt.Y(\"count(primary_type)\",\n",
    "    axis=alt.Axis(title=\"COUNT\",  \n",
    "                          titleAnchor=\"end\")),\n",
    "    opacity=alt.condition(selectDistrict, alt.value(1.0), alt.value(0.10)),\n",
    "    tooltip=[\"district\", \"count(primary_type)\"]\n",
    ").properties(\n",
    "    title='Count of commited crime per district',\n",
    "    width=1000,\n",
    "    height=400\n",
    ").configure_title(\n",
    "    fontSize=16,\n",
    "    font='Arial',\n",
    "    color='black',\n",
    "    anchor='start'\n",
    ").configure_axis(grid=False\n",
    ").configure_view(strokeOpacity=0)\n",
    "\n",
    "\n",
    "\n",
    "chart"
   ]
  },
  {
   "cell_type": "code",
   "execution_count": null,
   "metadata": {},
   "outputs": [],
   "source": [
    "#Map of Chicago with Crimes as Dots on the Map\n",
    "\n",
    "choro = alt.Chart(gdf).mark_geoshape(\n",
    "    fill=\"black\", stroke='white'\n",
    ").encode()\n",
    "\n",
    "\n",
    "p = alt.Chart(df).mark_square(opacity=0.3).encode(\n",
    "    longitude='longitude',\n",
    "    latitude='latitude',\n",
    "    size=alt.value(10),\n",
    "    color=\"count(primary_group)\",\n",
    "    tooltip=[\"district\", \"block\"]\n",
    ").properties(\n",
    "    title=\"Location of crimes in Chicago City\",\n",
    "    width=1000,\n",
    "    height=1000\n",
    ")\n",
    "\n",
    "choro + p"
   ]
  },
  {
   "cell_type": "code",
   "execution_count": null,
   "metadata": {},
   "outputs": [],
   "source": [
    "brush = alt.selection(type='interval')\n",
    "\n",
    "points = alt.Chart(df).mark_square(opacity=0.3).encode(\n",
    "    longitude='longitude',\n",
    "    latitude='latitude',\n",
    "    size=alt.value(10),\n",
    "    color=alt.condition(brush, \"primary_group\", alt.value(\"lightgrey\")),\n",
    "    tooltip=[\"district\", \"block\"]\n",
    ").add_selection(\n",
    "    brush\n",
    ").properties(\n",
    "    title=\"Location of crimes in Chicago City\",\n",
    "    width=1000,\n",
    "    height=1000\n",
    ")\n",
    "\n",
    "bars = alt.Chart(df).mark_bar().encode(\n",
    "    y='primary_group:N',\n",
    "    color='primary_gropup:N',\n",
    "    x='count(primary_group):Q'\n",
    ").transform_filter(\n",
    "    brush\n",
    ")\n",
    "\n",
    "points & bars"
   ]
  },
  {
   "cell_type": "code",
   "execution_count": null,
   "metadata": {},
   "outputs": [],
   "source": [
    "#Map of Chicago with Crimes as Dots on the Map\n",
    "\n",
    "\n",
    "choro = alt.Chart(gdf).mark_geoshape(\n",
    "    fill=\"white\", stroke='grey'\n",
    ").encode()\n",
    "\n",
    "input_radio = alt.binding_radio(options=['group_1','group_2','group_3'], name='Select_Group: ')\n",
    "selection = alt.selection_single(fields=['primary_group'], bind=input_radio)\n",
    "\n",
    "p = alt.Chart(df).mark_square(opacity=0.3).encode(\n",
    "    longitude='longitude',\n",
    "    latitude='latitude',\n",
    "    size=alt.value(10),\n",
    "    color=\"primary_group:N\",\n",
    "    tooltip=[\"district\", \"block\", \"primary_type\"]\n",
    ").add_selection(\n",
    "    selection\n",
    ").transform_filter(\n",
    "    selection\n",
    ").properties(\n",
    "    title=\"Location of crimes in Chicago City\",\n",
    "    width=1000,\n",
    "    height=1000\n",
    ")\n",
    "\n",
    "\n",
    "layer = alt.layer(choro + p\n",
    ").configure_title(\n",
    "    fontSize=16,\n",
    "    font='Arial',\n",
    "    color='black',\n",
    "    anchor='start'\n",
    ").configure_axis(grid=False\n",
    ").configure_view(strokeOpacity=0)\n",
    "\n",
    "layer\n"
   ]
  },
  {
   "cell_type": "code",
   "execution_count": null,
   "metadata": {},
   "outputs": [],
   "source": [
    "district_5 = alt.Chart(df).mark_bar().encode(\n",
    "    x=alt.X(\"district:N\",\n",
    "    sort=\"-y\",\n",
    "    axis=alt.Axis(title=\"DISTRICT\",  \n",
    "                          titleAnchor=\"start\", \n",
    "                          labelAngle=0)),\n",
    "    y=alt.Y(\"count(primary_type):Q\",\n",
    "    axis=alt.Axis(title=\"COUNT\",  \n",
    "                          titleAnchor=\"end\")),\n",
    "    color=alt.condition(\n",
    "        alt.FieldOneOfPredicate('district', [11, 6, 8, 1, 18]),  # If the district is 11 this test returns True,\n",
    "        alt.value('orange'),     # which sets the bar orange.\n",
    "        alt.value('steelblue')   # And if it's not true it sets the bar steelblue.\n",
    "    ),\n",
    "    tooltip=[\"count(primary_type)\"]\n",
    ").properties(\n",
    "    title='Count of commited crime in the districts',\n",
    "    width=1000,\n",
    "    height=400\n",
    ").configure_title(\n",
    "    fontSize=16,\n",
    "    font='Arial',\n",
    "    color='black',\n",
    "    anchor='start'\n",
    ").configure_axis(grid=False\n",
    ").configure_view(strokeOpacity=0)\n",
    "\n",
    "district_5"
   ]
  },
  {
   "cell_type": "code",
   "execution_count": null,
   "metadata": {},
   "outputs": [],
   "source": [
    "#primary_type per district\n",
    "\n",
    "order_crime = [\"theft\", \"assault_and_battery\",\"criminal_damage\", \"deceptive_practice\", \"burglary\", \"other_offense\", \"robbery_and_weapons\", \"narcotics\", \"homicide\", \"sexual_crime\"]\n",
    "\n",
    "alt.Chart(df).mark_bar().encode(\n",
    "    x=alt.X('count(primary_type)', stack=\"normalize\",\n",
    "    axis=alt.Axis(format=\"%\",title = \"PERCENT\", \n",
    "                          titleAnchor=\"start\")),\n",
    "    y=alt.Y('district:N',\n",
    "    axis=alt.Axis(title = \"DISTRICT\", \n",
    "                          titleY=25)),\n",
    "    color=alt.Color('primary_type', sort=order_crime),\n",
    "    tooltip=[\"primary_type\", alt.Tooltip('count(primary_type)', title='count')]\n",
    ").properties(\n",
    "    title='Distribution of crime types per district',\n",
    "    width=1000,\n",
    "    height=800\n",
    ").configure_title(\n",
    "    fontSize=16,\n",
    "    font='Arial',\n",
    "    color='black',\n",
    "    anchor='start'\n",
    ").configure_axis(grid=False\n",
    ").configure_view(strokeOpacity=0)"
   ]
  },
  {
   "cell_type": "code",
   "execution_count": null,
   "metadata": {},
   "outputs": [],
   "source": [
    "display(df[(df['district']==1) & (df['block'] == \"state_st\") & (df['primary_group'] == \"group_1\")]) #951 Fälle für state street in district 1"
   ]
  },
  {
   "cell_type": "code",
   "execution_count": null,
   "metadata": {},
   "outputs": [],
   "source": [
    "display(df[(df['block'] == \"ashland_ave\")]) # kedzie_ave 92, pulaski_rd 213, western_ave 27, madison_st 274"
   ]
  }
 ],
 "metadata": {
  "kernelspec": {
   "display_name": "dst",
   "language": "python",
   "name": "python3"
  },
  "language_info": {
   "codemirror_mode": {
    "name": "ipython",
    "version": 3
   },
   "file_extension": ".py",
   "mimetype": "text/x-python",
   "name": "python",
   "nbconvert_exporter": "python",
   "pygments_lexer": "ipython3",
   "version": "3.9.13 | packaged by conda-forge | (main, May 27 2022, 17:01:00) \n[Clang 13.0.1 ]"
  },
  "orig_nbformat": 4,
  "vscode": {
   "interpreter": {
    "hash": "afb2be5e0fa59e7cc779d156738954d1f1d32fb360bdb57d692d068a241e7d01"
   }
  }
 },
 "nbformat": 4,
 "nbformat_minor": 2
}
