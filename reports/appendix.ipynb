{
 "cells": [
  {
   "attachments": {},
   "cell_type": "markdown",
   "metadata": {},
   "source": [
    "# Contains all graphs/data that could not fit into the report"
   ]
  },
  {
   "cell_type": "code",
   "execution_count": null,
   "metadata": {},
   "outputs": [],
   "source": [
    "from pathlib import Path\n",
    "\n",
    "PARENT_PATH = str(Path().resolve().parent) + \"/\"\n",
    "PATH = \"data/\"\n",
    "SUBPATH = \"processed/\"\n",
    "FILE = \"chicago_crimes-20230130-1108\"\n",
    "FORMAT = \".csv\""
   ]
  },
  {
   "cell_type": "code",
   "execution_count": null,
   "metadata": {},
   "outputs": [],
   "source": [
    "import altair as alt\n",
    "from vega_datasets import data\n",
    "alt.data_transformers.disable_max_rows()\n",
    "\n",
    "import warnings\n",
    "warnings.simplefilter(action='ignore', category=FutureWarning)"
   ]
  },
  {
   "cell_type": "code",
   "execution_count": null,
   "metadata": {},
   "outputs": [],
   "source": [
    "import pandas as pd\n",
    "\n",
    "df = pd.read_csv(PARENT_PATH + PATH + SUBPATH + FILE + FORMAT)"
   ]
  },
  {
   "cell_type": "code",
   "execution_count": null,
   "metadata": {},
   "outputs": [],
   "source": [
    "df.head()"
   ]
  },
  {
   "cell_type": "code",
   "execution_count": null,
   "metadata": {},
   "outputs": [],
   "source": [
    "#districts crosstab // nicht übersichtlich\n",
    "\n",
    "cross_table = pd.crosstab(df[\"district\"], df[\"district\"],\n",
    "    margins=True,\n",
    "    normalize=True,\n",
    "    rownames=[\"District\"],\n",
    "    colnames=[\"Ergebnis\"]\n",
    "    )* 100\n",
    "\n",
    "\n",
    "cross_table"
   ]
  },
  {
   "cell_type": "code",
   "execution_count": null,
   "metadata": {},
   "outputs": [],
   "source": [
    "#wards with most crime\n",
    "\n",
    "df[\"ward\"].value_counts().nlargest(5)"
   ]
  },
  {
   "cell_type": "code",
   "execution_count": null,
   "metadata": {},
   "outputs": [],
   "source": [
    "selection = alt.selection_multi(fields=['ward'])\n",
    "\n",
    "chart_2 = alt.Chart(df[~df['ward'].isna()]).mark_bar(size=20).encode(\n",
    "    x=alt.X('ward:N',\n",
    "            sort=\"-y\",\n",
    "            axis=alt.Axis(title=\"Ward\",\n",
    "                          titleAnchor=\"start\", \n",
    "                          labelAngle=0)),\n",
    "    y=alt.Y('count(primary_type)',\n",
    "            axis=alt.Axis(title = \"Count\", \n",
    "                          titleAnchor=\"end\")),\n",
    "    tooltip=\"ward\"\n",
    ").properties(\n",
    "    title='Count of commited crime in the wards',\n",
    "    width=1500,\n",
    "    height=400\n",
    ").add_selection(\n",
    "    selection\n",
    ")\n",
    "\n",
    "\n",
    "chart_2.configure_title(\n",
    "    fontSize=16,\n",
    "    font='Arial',\n",
    "    color='black',\n",
    "    anchor='start'\n",
    ").configure_axis(grid=False\n",
    ").configure_view(strokeOpacity=0)"
   ]
  },
  {
   "cell_type": "code",
   "execution_count": null,
   "metadata": {},
   "outputs": [],
   "source": [
    "ward_5 = alt.Chart(df[~df['ward'].isna()]).mark_bar(size=20).encode(\n",
    "    x=alt.X('ward:N',\n",
    "            sort=\"-y\",\n",
    "            axis=alt.Axis(title=\"Ward\",\n",
    "                          titleAnchor=\"start\", \n",
    "                          labelAngle=0)),\n",
    "    y=alt.Y('count(primary_type)',\n",
    "            axis=alt.Axis(title = \"Count\", \n",
    "                          titleAnchor=\"end\")),\n",
    "            color=alt.condition(\n",
    "        alt.FieldOneOfPredicate('ward', [42.0, 28.0, 24.0, 27.0, 6.0]),  # If the district is 11 this test returns True,\n",
    "        alt.value('orange'),     # which sets the bar orange.\n",
    "        alt.value('steelblue')   # And if it's not true it sets the bar steelblue.\n",
    "    )              \n",
    ").properties(\n",
    "    title='Count of commited crime in the wards',\n",
    "    width=1500,\n",
    "    height=400\n",
    ")\n",
    "\n",
    "\n",
    "ward_5.configure_title(\n",
    "    fontSize=16,\n",
    "    font='Arial',\n",
    "    color='black',\n",
    "    anchor='start'\n",
    ")"
   ]
  },
  {
   "cell_type": "code",
   "execution_count": null,
   "metadata": {},
   "outputs": [],
   "source": [
    "# nicht brauchbar wegen group_3\n",
    "alt.Chart(df).mark_area().encode(\n",
    "    x=\"hour:N\",\n",
    "    y=alt.Y(\"count(primary_group)\", stack=\"normalize\"),\n",
    "    color=\"primary_group:N\"\n",
    ").properties(\n",
    "    width=800,\n",
    "    height=600\n",
    ").configure_axis(grid=False\n",
    ").configure_view(strokeOpacity=0)"
   ]
  },
  {
   "cell_type": "code",
   "execution_count": null,
   "metadata": {},
   "outputs": [],
   "source": [
    "#primary_group per district //nicht übersichtlich\n",
    "\n",
    "\n",
    "alt.Chart(df).mark_bar().encode(\n",
    "    x=alt.X('count(primary_group)', stack=\"normalize\"),\n",
    "    y='district:N',\n",
    "    color='primary_group',\n",
    "    tooltip=[\"primary_group\"]\n",
    ").properties(\n",
    "    title='Distribution of primary_group per district',\n",
    "    width=1000,\n",
    "    height=800\n",
    ").configure_axis(grid=False\n",
    ").configure_view(strokeOpacity=0)"
   ]
  }
 ],
 "metadata": {
  "kernelspec": {
   "display_name": "dst",
   "language": "python",
   "name": "python3"
  },
  "language_info": {
   "codemirror_mode": {
    "name": "ipython",
    "version": 3
   },
   "file_extension": ".py",
   "mimetype": "text/x-python",
   "name": "python",
   "nbconvert_exporter": "python",
   "pygments_lexer": "ipython3",
   "version": "3.9.13"
  },
  "orig_nbformat": 4,
  "vscode": {
   "interpreter": {
    "hash": "afb2be5e0fa59e7cc779d156738954d1f1d32fb360bdb57d692d068a241e7d01"
   }
  }
 },
 "nbformat": 4,
 "nbformat_minor": 2
}
