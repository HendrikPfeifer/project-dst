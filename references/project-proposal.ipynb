{
 "cells": [
  {
   "cell_type": "markdown",
   "metadata": {},
   "source": [
    "# Project proposal\n",
    "\n",
    "---\n",
    "\n",
    "Group name: Group B\n",
    "\n",
    "---\n"
   ]
  },
  {
   "cell_type": "markdown",
   "metadata": {},
   "source": [
    "## Introduction\n",
    "\n",
    "The introduction section includes\n",
    "\n",
    "-   an introduction to the subject matter you're investigating\n",
    "-   the motivation for your question (citing any relevant literature/study results ...)\n",
    "-   the general (research) question you wish to explore\n",
    "-   your hypotheses regarding the (research) question of interest."
   ]
  },
  {
   "cell_type": "markdown",
   "metadata": {},
   "source": [
    "### Subject Matter:\n",
    "\n",
    "In the city of Chicago, many incidents/crimes happen every day, from minor thefts to murders. To reduce the violence in the city, the city wants to open a new crime prevention centre. Now the city is asking our team which crimes occur particularly frequently and where they happen. With this information, the **Crime Prevention Center** can be built in a particularly well-situated location. In addition, the specialised departments of the centre can be trained for the relevant criminal offences. This should make Chicago a safer city and ensure that measures are taken at an early stage to prevent crime.\n",
    "\n",
    "\n",
    "### Motivation:\n",
    "\n",
    "Various studies show that it is possible to prevent crime in cities with the help of specific actions. With the new **Crime Prevention Center**, we want to take a new approach in Chicago to prevent crime from the very beginning.\n",
    "\n",
    "* Crime Prevention and the Safer Cities Story\n",
    "https://onlinelibrary.wiley.com/doi/10.1111/j.1468-2311.1993.tb00758.x\n",
    "\n",
    "* Social Crime Prevention in South Africa's Major Cities \n",
    "http://csvr.org.za/docs/urbansafety/socialcrimeprevention.pdf\n",
    "\n",
    "\n",
    "\n",
    "\n",
    "### General Question:\n",
    "\n",
    "Which kind of crimes happen particularly frequently and where do they happen?\n",
    "\n",
    "### Hypotheses:\n",
    "\n",
    "There are places (districts/blocks) in Chicago where the most (dangerous) crimes/incidents happen."
   ]
  },
  {
   "cell_type": "markdown",
   "metadata": {},
   "source": [
    "\n",
    "## Data description\n",
    "\n",
    "In this section, you will describe the data set you wish to explore. This includes\n",
    "\n",
    "-   description of the observations in the data set,\n",
    "-   description of how the data was originally collected (not how you found the data but how the original curator of the data collected it)."
   ]
  },
  {
   "cell_type": "markdown",
   "metadata": {},
   "source": [
    "### Observations:\n",
    "\n",
    "* **ID** Unique identifier for the record.\t\n",
    "\n",
    "* **Case Number** The Chicago Police Department RD Number (Records Division Number), which is unique to the incident. \t\n",
    "\n",
    "* **Date** Date when the incident occurred. This is sometimes a best estimate. \n",
    "\n",
    "* **Block**\tThe partially redacted address where the incident occurred, placing it on the same block as the actual address.\n",
    "\n",
    "* **IUCR** The Illinois Unifrom Crime Reporting code. This is directly linked to the Primary Type and Description. See the list of IUCR codes at https://data.cityofchicago.org/d/c7ck-438e.\n",
    "\n",
    "* **Primary Type** The primary description of the IUCR code.\n",
    "\n",
    "* **Type** The primary description of the IUCR code.\t\n",
    "\n",
    "* **Description** The secondary description of the IUCR code, a subcategory of the primary description.\t\n",
    "\n",
    "* **Location Description** Description of the location where the incident occurred. \n",
    "\n",
    "* **Arrest** Indicates whether an arrest was made.\t\n",
    "\n",
    "* **Domestic** Indicates whether the incident was domestic-related as defined by the Illinois Domestic Violence Act.\t\n",
    "\n",
    "* **Beat** \tIndicates the beat where the incident occurred. A beat is the smallest police geographic area – each beat has a dedicated police beat car. Three to five beats make up a police sector, and three sectors make up a police district. The Chicago Police Department has 22 police districts. See the beats at https://data.cityofchicago.org/d/aerh-rz74. \t\n",
    "\n",
    "* **District** Indicates the police district where the incident occurred. See the districts at https://data.cityofchicago.org/d/fthy-xz3r.\t\n",
    "\n",
    "* **Ward** The ward (City Council district) where the incident occurred. See the wards at https://data.cityofchicago.org/d/sp34-6z76.\t\n",
    "\n",
    "* **Community Area** Indicates the community area where the incident occurred. Chicago has 77 community areas. See the community areas at https://data.cityofchicago.org/d/cauq-8yn6. \n",
    "\n",
    "* **Year** Year the incident occurred.\t\n",
    "\n",
    "* **Latitude** The longitude of the location where the incident occurred. This location is shifted from the actual location for partial redaction but falls on the same block.\t\n",
    "\n",
    "* **Longitude** The longitude of the location where the incident occurred. This location is shifted from the actual location for partial redaction but falls on the same block.\n",
    "\n",
    "### How the data was collected:\n",
    "\n",
    "**Note:** As the original dataset was too large, we have reduced it a little, so it only contains criminal cases from 2018 and 2019.\n",
    "\n",
    "Crimes - 2001 to Present\n",
    "\n",
    "This dataset reflects reported incidents of crime (with the exception of murders where data exists for each victim) that occurred in the City of Chicago from 2001 to present, minus the most recent seven days. Data is extracted from the Chicago Police Department's CLEAR (Citizen Law Enforcement Analysis and Reporting) system. In order to protect the privacy of crime victims, addresses are shown at the block level only and specific locations are not identified. Should you have questions about this dataset, you may contact the Data Fulfillment and Analysis Division of the Chicago Police Department at DFA@ChicagoPolice.org.\n",
    "\n",
    "Disclaimer: These crimes may be based upon preliminary information supplied to the Police Department by the reporting parties that have not been verified. The preliminary crime classifications may be changed at a later date based upon additional investigation and there is always the possibility of mechanical or human error. Therefore, the Chicago Police Department does not guarantee (either expressed or implied) the accuracy, completeness, timeliness, or correct sequencing of the information and the information should not be used for comparison purposes over time. The Chicago Police Department will not be responsible for any error or omission, or for the use of, or the results obtained from the use of this information. All data visualizations on maps should be considered approximate and attempts to derive specific addresses are strictly prohibited. The Chicago Police Department is not responsible for the content of any off-site pages that are referenced by or that reference this web page other than an official City of Chicago or Chicago Police Department web page. The user specifically acknowledges that the Chicago Police Department is not responsible for any defamatory, offensive, misleading, or illegal conduct of other users, links, or third parties and that the risk of injury from the foregoing rests entirely with the user. The unauthorized use of the words \"Chicago Police Department,\" \"Chicago Police,\" or any colorable imitation of these words or the unauthorized use of the Chicago Police Department logo is unlawful. This web page does not, in any way, authorize such use. Data are updated daily. To access a list of Chicago Police Department - Illinois Uniform Crime Reporting (IUCR) codes, go to http://data.cityofchicago.org/Public-Safety/Chicago-Police-Department-Illinois-Uniform-Crime-R/c7ck-438e\n",
    "\n"
   ]
  },
  {
   "cell_type": "markdown",
   "metadata": {},
   "source": [
    "## Analysis approach\n",
    "\n",
    "In this section, you will provide a brief overview of your analysis approach. This includes:\n",
    "\n",
    "-   Description of the relevant variable.\n",
    "-   Exploratory data analysis and summary statistics for the relevant variables.\n",
    "-   The visualization types (what kind of visualizations will you use)"
   ]
  },
  {
   "cell_type": "markdown",
   "metadata": {},
   "source": [
    "*Variables:*\n",
    "\n",
    "Information to figure out *when* the crime was commited:\n",
    "- Date\n",
    "- Year\n",
    "\n",
    "Information to figure out *where* the crime was commited:\n",
    "- Location Description\n",
    "- Block\n",
    "- Domestic\n",
    "- District\n",
    "- Ward\n",
    "- Community Area\n",
    "- Latitude\n",
    "- Longitude\n",
    "\n",
    "Information whether an arrest was made:\n",
    "- Arrest\n",
    "\n",
    "*Data:*\n",
    "\n",
    "\n",
    "\n",
    "*Visualization types:*\n",
    "- Choropleth Map: A map that will show where the most crimes are commited in Chicago. (https://altair-viz.github.io/gallery/choropleth.html)\n",
    "- Bar Chart with rounded edges: A bar charts that will sum up the different types of crime and violence in every district. (https://altair-viz.github.io/gallery/bar_rounded.html)"
   ]
  },
  {
   "cell_type": "markdown",
   "metadata": {},
   "source": [
    "Exploratory Data Analysis:"
   ]
  },
  {
   "cell_type": "code",
   "execution_count": 3,
   "metadata": {},
   "outputs": [],
   "source": [
    "from pathlib import Path\n",
    "\n",
    "PARENT_PATH = str(Path().resolve().parent) + \"/\"\n",
    "PATH = \"data/\"\n",
    "SUBPATH = \"interim/\"\n",
    "FILE = \"chicago_crimes-20221130-0952\"\n",
    "FORMAT = \".csv\""
   ]
  },
  {
   "cell_type": "code",
   "execution_count": 4,
   "metadata": {},
   "outputs": [],
   "source": [
    "import pandas as pd\n",
    "\n",
    "df = pd.read_csv(PARENT_PATH + PATH + SUBPATH + FILE + FORMAT)"
   ]
  },
  {
   "cell_type": "code",
   "execution_count": 5,
   "metadata": {},
   "outputs": [
    {
     "data": {
      "text/html": [
       "<div>\n",
       "<style scoped>\n",
       "    .dataframe tbody tr th:only-of-type {\n",
       "        vertical-align: middle;\n",
       "    }\n",
       "\n",
       "    .dataframe tbody tr th {\n",
       "        vertical-align: top;\n",
       "    }\n",
       "\n",
       "    .dataframe thead th {\n",
       "        text-align: right;\n",
       "    }\n",
       "</style>\n",
       "<table border=\"1\" class=\"dataframe\">\n",
       "  <thead>\n",
       "    <tr style=\"text-align: right;\">\n",
       "      <th></th>\n",
       "      <th>id</th>\n",
       "      <th>date</th>\n",
       "      <th>block</th>\n",
       "      <th>primary_type</th>\n",
       "      <th>arrest</th>\n",
       "      <th>domestic</th>\n",
       "      <th>beat</th>\n",
       "      <th>district</th>\n",
       "      <th>ward</th>\n",
       "      <th>community_area</th>\n",
       "      <th>year</th>\n",
       "      <th>latitude</th>\n",
       "      <th>longitude</th>\n",
       "      <th>month</th>\n",
       "      <th>day</th>\n",
       "      <th>hour</th>\n",
       "      <th>arrest__False</th>\n",
       "      <th>arrest__True</th>\n",
       "      <th>domestic__False</th>\n",
       "      <th>domestic__True</th>\n",
       "    </tr>\n",
       "  </thead>\n",
       "  <tbody>\n",
       "    <tr>\n",
       "      <th>0</th>\n",
       "      <td>11452981</td>\n",
       "      <td>2018-09-15 23:00:00</td>\n",
       "      <td>045XX S FAIRFIELD AVE</td>\n",
       "      <td>sexual_crime</td>\n",
       "      <td>False</td>\n",
       "      <td>False</td>\n",
       "      <td>922</td>\n",
       "      <td>9.0</td>\n",
       "      <td>12.0</td>\n",
       "      <td>58.0</td>\n",
       "      <td>2018</td>\n",
       "      <td>41.811058</td>\n",
       "      <td>-87.693066</td>\n",
       "      <td>9</td>\n",
       "      <td>15</td>\n",
       "      <td>23</td>\n",
       "      <td>1</td>\n",
       "      <td>0</td>\n",
       "      <td>1</td>\n",
       "      <td>0</td>\n",
       "    </tr>\n",
       "    <tr>\n",
       "      <th>1</th>\n",
       "      <td>11370943</td>\n",
       "      <td>2018-07-05 22:00:00</td>\n",
       "      <td>022XX S MICHIGAN AVE</td>\n",
       "      <td>theft</td>\n",
       "      <td>False</td>\n",
       "      <td>False</td>\n",
       "      <td>131</td>\n",
       "      <td>1.0</td>\n",
       "      <td>2.0</td>\n",
       "      <td>33.0</td>\n",
       "      <td>2018</td>\n",
       "      <td>41.852410</td>\n",
       "      <td>-87.623792</td>\n",
       "      <td>7</td>\n",
       "      <td>5</td>\n",
       "      <td>22</td>\n",
       "      <td>1</td>\n",
       "      <td>0</td>\n",
       "      <td>1</td>\n",
       "      <td>0</td>\n",
       "    </tr>\n",
       "    <tr>\n",
       "      <th>2</th>\n",
       "      <td>11805144</td>\n",
       "      <td>2019-08-24 01:00:00</td>\n",
       "      <td>084XX S KENNETH AVE</td>\n",
       "      <td>theft</td>\n",
       "      <td>False</td>\n",
       "      <td>False</td>\n",
       "      <td>834</td>\n",
       "      <td>8.0</td>\n",
       "      <td>18.0</td>\n",
       "      <td>70.0</td>\n",
       "      <td>2019</td>\n",
       "      <td>41.739312</td>\n",
       "      <td>-87.732509</td>\n",
       "      <td>8</td>\n",
       "      <td>24</td>\n",
       "      <td>1</td>\n",
       "      <td>1</td>\n",
       "      <td>0</td>\n",
       "      <td>1</td>\n",
       "      <td>0</td>\n",
       "    </tr>\n",
       "    <tr>\n",
       "      <th>3</th>\n",
       "      <td>11208069</td>\n",
       "      <td>2018-01-19 11:44:00</td>\n",
       "      <td>0000X N LATROBE AVE</td>\n",
       "      <td>narcotics</td>\n",
       "      <td>True</td>\n",
       "      <td>False</td>\n",
       "      <td>1522</td>\n",
       "      <td>15.0</td>\n",
       "      <td>28.0</td>\n",
       "      <td>25.0</td>\n",
       "      <td>2018</td>\n",
       "      <td>41.880998</td>\n",
       "      <td>-87.756304</td>\n",
       "      <td>1</td>\n",
       "      <td>19</td>\n",
       "      <td>11</td>\n",
       "      <td>0</td>\n",
       "      <td>1</td>\n",
       "      <td>1</td>\n",
       "      <td>0</td>\n",
       "    </tr>\n",
       "    <tr>\n",
       "      <th>4</th>\n",
       "      <td>11352516</td>\n",
       "      <td>2018-06-18 23:00:00</td>\n",
       "      <td>009XX W BARRY AVE</td>\n",
       "      <td>criminal_damage</td>\n",
       "      <td>False</td>\n",
       "      <td>False</td>\n",
       "      <td>1933</td>\n",
       "      <td>19.0</td>\n",
       "      <td>44.0</td>\n",
       "      <td>6.0</td>\n",
       "      <td>2018</td>\n",
       "      <td>41.938104</td>\n",
       "      <td>-87.653157</td>\n",
       "      <td>6</td>\n",
       "      <td>18</td>\n",
       "      <td>23</td>\n",
       "      <td>1</td>\n",
       "      <td>0</td>\n",
       "      <td>1</td>\n",
       "      <td>0</td>\n",
       "    </tr>\n",
       "  </tbody>\n",
       "</table>\n",
       "</div>"
      ],
      "text/plain": [
       "         id                 date                  block     primary_type  \\\n",
       "0  11452981  2018-09-15 23:00:00  045XX S FAIRFIELD AVE     sexual_crime   \n",
       "1  11370943  2018-07-05 22:00:00   022XX S MICHIGAN AVE            theft   \n",
       "2  11805144  2019-08-24 01:00:00    084XX S KENNETH AVE            theft   \n",
       "3  11208069  2018-01-19 11:44:00    0000X N LATROBE AVE        narcotics   \n",
       "4  11352516  2018-06-18 23:00:00      009XX W BARRY AVE  criminal_damage   \n",
       "\n",
       "   arrest  domestic  beat  district  ward  community_area  year   latitude  \\\n",
       "0   False     False   922       9.0  12.0            58.0  2018  41.811058   \n",
       "1   False     False   131       1.0   2.0            33.0  2018  41.852410   \n",
       "2   False     False   834       8.0  18.0            70.0  2019  41.739312   \n",
       "3    True     False  1522      15.0  28.0            25.0  2018  41.880998   \n",
       "4   False     False  1933      19.0  44.0             6.0  2018  41.938104   \n",
       "\n",
       "   longitude  month  day  hour  arrest__False  arrest__True  domestic__False  \\\n",
       "0 -87.693066      9   15    23              1             0                1   \n",
       "1 -87.623792      7    5    22              1             0                1   \n",
       "2 -87.732509      8   24     1              1             0                1   \n",
       "3 -87.756304      1   19    11              0             1                1   \n",
       "4 -87.653157      6   18    23              1             0                1   \n",
       "\n",
       "   domestic__True  \n",
       "0               0  \n",
       "1               0  \n",
       "2               0  \n",
       "3               0  \n",
       "4               0  "
      ]
     },
     "execution_count": 5,
     "metadata": {},
     "output_type": "execute_result"
    }
   ],
   "source": [
    "df.head()"
   ]
  },
  {
   "cell_type": "code",
   "execution_count": 6,
   "metadata": {},
   "outputs": [
    {
     "name": "stdout",
     "output_type": "stream",
     "text": [
      "<class 'pandas.core.frame.DataFrame'>\n",
      "RangeIndex: 76204 entries, 0 to 76203\n",
      "Data columns (total 20 columns):\n",
      " #   Column           Non-Null Count  Dtype  \n",
      "---  ------           --------------  -----  \n",
      " 0   id               76204 non-null  int64  \n",
      " 1   date             76204 non-null  object \n",
      " 2   block            76204 non-null  object \n",
      " 3   primary_type     76204 non-null  object \n",
      " 4   arrest           76204 non-null  bool   \n",
      " 5   domestic         76204 non-null  bool   \n",
      " 6   beat             76204 non-null  int64  \n",
      " 7   district         76204 non-null  float64\n",
      " 8   ward             76202 non-null  float64\n",
      " 9   community_area   76204 non-null  float64\n",
      " 10  year             76204 non-null  int64  \n",
      " 11  latitude         76204 non-null  float64\n",
      " 12  longitude        76204 non-null  float64\n",
      " 13  month            76204 non-null  int64  \n",
      " 14  day              76204 non-null  int64  \n",
      " 15  hour             76204 non-null  int64  \n",
      " 16  arrest__False    76204 non-null  int64  \n",
      " 17  arrest__True     76204 non-null  int64  \n",
      " 18  domestic__False  76204 non-null  int64  \n",
      " 19  domestic__True   76204 non-null  int64  \n",
      "dtypes: bool(2), float64(5), int64(10), object(3)\n",
      "memory usage: 10.6+ MB\n"
     ]
    }
   ],
   "source": [
    "df.info()"
   ]
  },
  {
   "cell_type": "code",
   "execution_count": 7,
   "metadata": {},
   "outputs": [
    {
     "data": {
      "text/plain": [
       "theft                  21637\n",
       "assault_and_battery    21004\n",
       "criminal_damage         8151\n",
       "deceptive_practice      5404\n",
       "burglary                5260\n",
       "other_offense           5136\n",
       "robbery_and_weapons     4415\n",
       "narcotics               4170\n",
       "sexual_crime            1027\n",
       "Name: primary_type, dtype: int64"
      ]
     },
     "execution_count": 7,
     "metadata": {},
     "output_type": "execute_result"
    }
   ],
   "source": [
    "#Welches Verbrechen wie oft vorkam\n",
    "df.primary_type.value_counts()"
   ]
  },
  {
   "cell_type": "code",
   "execution_count": 8,
   "metadata": {},
   "outputs": [
    {
     "data": {
      "text/plain": [
       "count     76204\n",
       "unique        9\n",
       "top       theft\n",
       "freq      21637\n",
       "Name: primary_type, dtype: object"
      ]
     },
     "execution_count": 8,
     "metadata": {},
     "output_type": "execute_result"
    }
   ],
   "source": [
    "df[\"primary_type\"].describe()"
   ]
  },
  {
   "cell_type": "code",
   "execution_count": 11,
   "metadata": {},
   "outputs": [
    {
     "data": {
      "text/plain": [
       "11.0    5400\n",
       "6.0     4698\n",
       "8.0     4578\n",
       "1.0     4559\n",
       "18.0    4483\n",
       "7.0     4093\n",
       "4.0     3984\n",
       "25.0    3821\n",
       "12.0    3780\n",
       "10.0    3617\n",
       "19.0    3593\n",
       "3.0     3501\n",
       "2.0     3403\n",
       "5.0     3396\n",
       "9.0     3203\n",
       "15.0    2876\n",
       "14.0    2724\n",
       "16.0    2503\n",
       "22.0    2298\n",
       "24.0    2274\n",
       "17.0    2058\n",
       "20.0    1361\n",
       "31.0       1\n",
       "Name: district, dtype: int64"
      ]
     },
     "execution_count": 11,
     "metadata": {},
     "output_type": "execute_result"
    }
   ],
   "source": [
    "#Verbrechen pro Uhrzeit\n",
    "df.district.value_counts()"
   ]
  },
  {
   "cell_type": "code",
   "execution_count": 13,
   "metadata": {},
   "outputs": [
    {
     "data": {
      "text/plain": [
       "31.0"
      ]
     },
     "execution_count": 13,
     "metadata": {},
     "output_type": "execute_result"
    }
   ],
   "source": [
    "df[\"district\"].max()"
   ]
  },
  {
   "cell_type": "code",
   "execution_count": 10,
   "metadata": {},
   "outputs": [
    {
     "data": {
      "text/plain": [
       "DataTransformerRegistry.enable('default')"
      ]
     },
     "execution_count": 10,
     "metadata": {},
     "output_type": "execute_result"
    }
   ],
   "source": [
    "import altair as alt\n",
    "alt.data_transformers.disable_max_rows()"
   ]
  },
  {
   "cell_type": "code",
   "execution_count": null,
   "metadata": {},
   "outputs": [],
   "source": []
  },
  {
   "cell_type": "markdown",
   "metadata": {},
   "source": [
    "## Data dictionary\n",
    "\n",
    "*Create a data dictionary for all the variables in your data set. You may fill out the data description table or create your own table with Pandas:*\n",
    "\n",
    "<br>\n",
    "\n",
    "\n",
    "| Name  |   Description\t   \t| Type   \t|  Format \t|\n",
    "|---\t|---\t          \t|---\t    |---\t|\n",
    "|ID   \t|Unique identifier for the record.   \t            |numeric   \t    |category   \t|\n",
    "|Case Number   \t|The Chicago Police Department RD Number (Records Division Number), which is unique to the incident.   \t       \t    |numeric   \t    |category   \t|\n",
    "|Date   \t|Date when the incident occurred.   \t       \t    |oridnal   \t    |date   \t|\n",
    "|Block   \t|The partially redacted address where the incident occurred.   \t            |numeric   \t    |category   \t|\n",
    "|IUCR   \t|The Illinois Unifrom Crime Reporting code.   \t       \t    |numeric   \t    |category   \t|\n",
    "|Primary Type   \t|The primary description of the IUCR code.   \t       \t    |nominal   \t    |category   \t|\n",
    "|Type   \t|The primary description of the IUCR code.   \t            |nominal   \t    |category   \t|\n",
    "|Description   \t|The secondary description of the IUCR code.   \t       \t    |nominal   \t    |category   \t|\n",
    "|Location Description   \t|Description of the location where the incident occurred.   \t       \t    |nominal   \t    |category   \t|\n",
    "|Arrest   \t|Indicates whether an arrest was made.   \t            |nominal   \t    |category   \t|\n",
    "|Domestic   \t|Indicates whether the incident was domestic-related as defined by the Illinois Domestic Violence Act.   \t       \t    |nominal   \t    |category   \t|\n",
    "|Beat   \t|Indicates the beat where the incident occurred.   \t       \t    |numeric, dicsrete   \t    |category   \t|\n",
    "|District   \t|Indicates the police district where the incident occurred.   \t       \t    |numeric, dicsrete   \t    |category   \t|\n",
    "|Ward   \t|The ward (City Council district) where the incident occurred.   \t       \t    |numeric, discrete   \t    |category   \t|\n",
    "|Community Area   \t|Indicates the community area where the incident occurred.   \t       \t    |numeric, discrete   \t    |category   \t|\n",
    "|Year   \t|Year the incident occurred.   \t       \t    |nominal   \t    |category   \t|\n",
    "|Latitude   \t|The longitude of the location where the incident occurred.   \t       \t    |numeric   \t    |float   \t|\n",
    "|Longitude   \t|The longitude of the location where the incident occurred.   \t       \t    |numeric   \t    |float   \t|\n",
    "\n",
    "\n",
    "\n",
    "<br>\n",
    "\n",
    "\n",
    "- `Type`: nominal, ordinal or numeric\n",
    "\n",
    "- `Format`: int, float, string, category, date or object"
   ]
  },
  {
   "cell_type": "code",
   "execution_count": null,
   "metadata": {},
   "outputs": [],
   "source": []
  }
 ],
 "metadata": {
  "kernelspec": {
   "display_name": "Python 3.9.13 ('dst')",
   "language": "python",
   "name": "python3"
  },
  "language_info": {
   "codemirror_mode": {
    "name": "ipython",
    "version": 3
   },
   "file_extension": ".py",
   "mimetype": "text/x-python",
   "name": "python",
   "nbconvert_exporter": "python",
   "pygments_lexer": "ipython3",
   "version": "3.9.13"
  },
  "orig_nbformat": 4,
  "vscode": {
   "interpreter": {
    "hash": "d2f2d2082dad434e9227570e7053f7112e7d2c1e0982d1c6c76272549d47fe44"
   }
  }
 },
 "nbformat": 4,
 "nbformat_minor": 2
}
