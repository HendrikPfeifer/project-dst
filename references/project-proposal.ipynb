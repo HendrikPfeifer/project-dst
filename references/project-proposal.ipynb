{
 "cells": [
  {
   "cell_type": "markdown",
   "metadata": {},
   "source": [
    "# Project proposal\n",
    "\n",
    "---\n",
    "\n",
    "Group name: Group B\n",
    "\n",
    "---\n"
   ]
  },
  {
   "cell_type": "markdown",
   "metadata": {},
   "source": [
    "## Introduction\n",
    "\n",
    "The introduction section includes\n",
    "\n",
    "-   an introduction to the subject matter you're investigating\n",
    "-   the motivation for your question (citing any relevant literature/study results ...)\n",
    "-   the general (research) question you wish to explore\n",
    "-   your hypotheses regarding the (research) question of interest."
   ]
  },
  {
   "cell_type": "markdown",
   "metadata": {},
   "source": [
    "### Subject Matter:\n",
    "\n",
    "In the city of Chicago, many incidents/crimes happen every day, from minor thefts to murders. To reduce the violence in the city, the city wants to open a new crime prevention centre. Now the city is asking our team which crimes occur particularly frequently and where they happen. With this information, the **Crime Prevention Center** can be built in a particularly well-situated location. In addition, the specialised departments of the centre can be trained for the relevant criminal offences. This should make Chicago a safer city and ensure that measures are taken at an early stage to prevent crime.\n",
    "\n",
    "\n",
    "### Motivation:\n",
    "\n",
    "Various studies show that it is possible to prevent crime in cities with the help of specific actions. With the new **Crime Prevention Center**, we want to take a new approach in Chicago to prevent crime from the very beginning.\n",
    "\n",
    "* Crime Prevention and the Safer Cities Story\n",
    "https://onlinelibrary.wiley.com/doi/10.1111/j.1468-2311.1993.tb00758.x\n",
    "\n",
    "* Social Crime Prevention in South Africa's Major Cities \n",
    "http://csvr.org.za/docs/urbansafety/socialcrimeprevention.pdf\n",
    "\n",
    "\n",
    "\n",
    "\n",
    "### General Question:\n",
    "\n",
    "Which kind of crimes happen particularly frequently and where do they happen?\n",
    "\n",
    "### Hypotheses:\n",
    "\n",
    "There are places (districts/blocks) in Chicago where the most (dangerous) crimes/incidents happen."
   ]
  },
  {
   "cell_type": "markdown",
   "metadata": {},
   "source": [
    "\n",
    "## Data description\n",
    "\n",
    "In this section, you will describe the data set you wish to explore. This includes\n",
    "\n",
    "-   description of the observations in the data set,\n",
    "-   description of how the data was originally collected (not how you found the data but how the original curator of the data collected it)."
   ]
  },
  {
   "cell_type": "markdown",
   "metadata": {},
   "source": [
    "### Observations:\n",
    "\n",
    "* **ID** Unique identifier for the record.\t\n",
    "\n",
    "* **Case Number** The Chicago Police Department RD Number (Records Division Number), which is unique to the incident. \t\n",
    "\n",
    "* **Date** Date when the incident occurred. This is sometimes a best estimate. \n",
    "\n",
    "* **Block**\tThe partially redacted address where the incident occurred, placing it on the same block as the actual address.\n",
    "\n",
    "* **IUCR** The Illinois Unifrom Crime Reporting code. This is directly linked to the Primary Type and Description. See the list of IUCR codes at https://data.cityofchicago.org/d/c7ck-438e.\n",
    "\n",
    "* **Primary Type** The primary description of the IUCR code.\n",
    "\n",
    "* **Type** The primary description of the IUCR code.\t\n",
    "\n",
    "* **Description** The secondary description of the IUCR code, a subcategory of the primary description.\t\n",
    "\n",
    "* **Location Description** Description of the location where the incident occurred. \n",
    "\n",
    "* **Arrest** Indicates whether an arrest was made.\t\n",
    "\n",
    "* **Domestic** Indicates whether the incident was domestic-related as defined by the Illinois Domestic Violence Act.\t\n",
    "\n",
    "* **Beat** \tIndicates the beat where the incident occurred. A beat is the smallest police geographic area – each beat has a dedicated police beat car. Three to five beats make up a police sector, and three sectors make up a police district. The Chicago Police Department has 22 police districts. See the beats at https://data.cityofchicago.org/d/aerh-rz74. \t\n",
    "\n",
    "* **District** Indicates the police district where the incident occurred. See the districts at https://data.cityofchicago.org/d/fthy-xz3r.\t\n",
    "\n",
    "* **Ward** The ward (City Council district) where the incident occurred. See the wards at https://data.cityofchicago.org/d/sp34-6z76.\t\n",
    "\n",
    "* **Community Area** Indicates the community area where the incident occurred. Chicago has 77 community areas. See the community areas at https://data.cityofchicago.org/d/cauq-8yn6. \n",
    "\n",
    "* **Year** Year the incident occurred.\t\n",
    "\n",
    "* **Latitude** The longitude of the location where the incident occurred. This location is shifted from the actual location for partial redaction but falls on the same block.\t\n",
    "\n",
    "* **Longitude** The longitude of the location where the incident occurred. This location is shifted from the actual location for partial redaction but falls on the same block.\n",
    "\n",
    "### How the data was collected:\n",
    "\n",
    "**Note:** As the original dataset was too large, we have reduced it a little, so it only contains criminal cases from 2018 and 2019.\n",
    "\n",
    "Crimes - 2001 to Present\n",
    "\n",
    "This dataset reflects reported incidents of crime (with the exception of murders where data exists for each victim) that occurred in the City of Chicago from 2001 to present, minus the most recent seven days. Data is extracted from the Chicago Police Department's CLEAR (Citizen Law Enforcement Analysis and Reporting) system. In order to protect the privacy of crime victims, addresses are shown at the block level only and specific locations are not identified. Should you have questions about this dataset, you may contact the Data Fulfillment and Analysis Division of the Chicago Police Department at DFA@ChicagoPolice.org.\n",
    "\n",
    "Disclaimer: These crimes may be based upon preliminary information supplied to the Police Department by the reporting parties that have not been verified. The preliminary crime classifications may be changed at a later date based upon additional investigation and there is always the possibility of mechanical or human error. Therefore, the Chicago Police Department does not guarantee (either expressed or implied) the accuracy, completeness, timeliness, or correct sequencing of the information and the information should not be used for comparison purposes over time. The Chicago Police Department will not be responsible for any error or omission, or for the use of, or the results obtained from the use of this information. All data visualizations on maps should be considered approximate and attempts to derive specific addresses are strictly prohibited. The Chicago Police Department is not responsible for the content of any off-site pages that are referenced by or that reference this web page other than an official City of Chicago or Chicago Police Department web page. The user specifically acknowledges that the Chicago Police Department is not responsible for any defamatory, offensive, misleading, or illegal conduct of other users, links, or third parties and that the risk of injury from the foregoing rests entirely with the user. The unauthorized use of the words \"Chicago Police Department,\" \"Chicago Police,\" or any colorable imitation of these words or the unauthorized use of the Chicago Police Department logo is unlawful. This web page does not, in any way, authorize such use. Data are updated daily. To access a list of Chicago Police Department - Illinois Uniform Crime Reporting (IUCR) codes, go to http://data.cityofchicago.org/Public-Safety/Chicago-Police-Department-Illinois-Uniform-Crime-R/c7ck-438e\n",
    "\n"
   ]
  },
  {
   "cell_type": "markdown",
   "metadata": {},
   "source": [
    "## Analysis approach\n",
    "\n",
    "In this section, you will provide a brief overview of your analysis approach. This includes:\n",
    "\n",
    "-   Description of the relevant variable.\n",
    "-   Exploratory data analysis and summary statistics for the relevant variables.\n",
    "-   The visualization types (what kind of visualizations will you use)"
   ]
  },
  {
   "cell_type": "markdown",
   "metadata": {},
   "source": [
    "*Variables:*\n",
    "\n",
    "Information to figure out *when* the crime was commited:\n",
    "- Date\n",
    "- Year\n",
    "\n",
    "Information to figure out *where* the crime was commited:\n",
    "- Location Description\n",
    "- Block\n",
    "- Domestic\n",
    "- District\n",
    "- Ward\n",
    "- Community Area\n",
    "- Latitude\n",
    "- Longitude\n",
    "\n",
    "Information whether an arrest was made:\n",
    "- Arrest\n",
    "\n",
    "*Data:*\n",
    "\n",
    "\n",
    "\n",
    "*Visualization types:*\n",
    "- Point Maps: A map that will show where the most crimes are commited in Chicago. (https://uwdata.github.io/visualization-curriculum/altair_cartographic.html#geoshape-marks)\n",
    "- Bar Chart with rounded edges: A bar charts that will sum up the different types of crime and violence in every district. (https://altair-viz.github.io/gallery/bar_rounded.html)"
   ]
  },
  {
   "cell_type": "markdown",
   "metadata": {},
   "source": [
    "Exploratory Data Analysis:"
   ]
  },
  {
   "cell_type": "code",
   "execution_count": null,
   "metadata": {},
   "outputs": [],
   "source": [
    "from pathlib import Path\n",
    "\n",
    "PARENT_PATH = str(Path().resolve().parent) + \"/\"\n",
    "PATH = \"data/\"\n",
    "SUBPATH = \"interim/\"\n",
    "FILE = \"chicago_crimes-20221130-1405\"\n",
    "FORMAT = \".csv\""
   ]
  },
  {
   "cell_type": "code",
   "execution_count": null,
   "metadata": {},
   "outputs": [],
   "source": [
    "import pandas as pd\n",
    "\n",
    "df = pd.read_csv(PARENT_PATH + PATH + SUBPATH + FILE + FORMAT)"
   ]
  },
  {
   "cell_type": "code",
   "execution_count": null,
   "metadata": {},
   "outputs": [],
   "source": [
    "df.head()"
   ]
  },
  {
   "cell_type": "code",
   "execution_count": null,
   "metadata": {},
   "outputs": [],
   "source": [
    "df.info()"
   ]
  },
  {
   "cell_type": "code",
   "execution_count": null,
   "metadata": {},
   "outputs": [],
   "source": [
    "#Welches Verbrechen wie oft vorkam\n",
    "df.primary_type.value_counts()"
   ]
  },
  {
   "cell_type": "code",
   "execution_count": null,
   "metadata": {},
   "outputs": [],
   "source": [
    "df[\"primary_type\"].describe()"
   ]
  },
  {
   "cell_type": "code",
   "execution_count": null,
   "metadata": {},
   "outputs": [],
   "source": [
    "#Verbrechen pro District\n",
    "df.district.value_counts()"
   ]
  },
  {
   "cell_type": "code",
   "execution_count": null,
   "metadata": {},
   "outputs": [],
   "source": [
    "df[\"district\"].max()"
   ]
  },
  {
   "cell_type": "code",
   "execution_count": null,
   "metadata": {},
   "outputs": [],
   "source": [
    "import altair as alt\n",
    "from vega_datasets import data\n",
    "alt.data_transformers.disable_max_rows()"
   ]
  },
  {
   "cell_type": "code",
   "execution_count": null,
   "metadata": {},
   "outputs": [],
   "source": [
    "import warnings\n",
    "warnings.simplefilter(action='ignore', category=FutureWarning)"
   ]
  },
  {
   "cell_type": "code",
   "execution_count": null,
   "metadata": {},
   "outputs": [],
   "source": [
    "var_list = ['primary_type']\n",
    "\n",
    "source = df[var_list]"
   ]
  },
  {
   "cell_type": "code",
   "execution_count": null,
   "metadata": {},
   "outputs": [],
   "source": [
    "#Barchart with different types of crime\n",
    "\n",
    "ch = alt.Chart(source).mark_bar().encode(\n",
    "    x=alt.X(\"primary_type\", sort=\"-y\",\n",
    "            axis=alt.Axis(title=\"district\",\n",
    "\n",
    "                          titleAnchor=\"start\", \n",
    "                          labelAngle=0)),\n",
    "    y=alt.Y('count(primary_type)', \n",
    "            axis=alt.Axis(title = \"Count\", \n",
    "                        titleAnchor=\"end\")),\n",
    ").properties(\n",
    "    title='Count of commited crimes per type',\n",
    "    width=1000,\n",
    "    height=400\n",
    ")\n",
    "\n",
    "txt = ch.mark_text(\n",
    "    baseline = 'middle',\n",
    "    dy= - 15\n",
    ").encode(\n",
    "    text='count(primary_type)'\n",
    ")\n",
    "\n",
    "ch+txt"
   ]
  },
  {
   "cell_type": "code",
   "execution_count": null,
   "metadata": {},
   "outputs": [],
   "source": [
    "chart = alt.Chart(df).mark_bar().encode(\n",
    "    x=alt.X('district',\n",
    "            bin=alt.BinParams(maxbins=50),\n",
    "            axis=alt.Axis(title=\"district\",  \n",
    "                          titleAnchor=\"start\", \n",
    "                          labelAngle=0)),\n",
    "    y=alt.Y('count(primary_type)',\n",
    "            axis=alt.Axis(title = \"Count\", \n",
    "                          titleAnchor=\"end\")),\n",
    ").properties(\n",
    "    title='Count of commited crime in the districts',\n",
    "    width=1000,\n",
    "    height=400\n",
    ")\n",
    "\n",
    "text = chart.mark_text(\n",
    "    baseline='middle',\n",
    "    dy=30\n",
    ").encode(\n",
    "    text='count(primary_type)'\n",
    ")\n",
    "\n",
    "chart + text"
   ]
  },
  {
   "cell_type": "code",
   "execution_count": null,
   "metadata": {},
   "outputs": [],
   "source": [
    "#wards are like districts\n",
    "#there are 50 wards in Chicago\n",
    "df[\"ward\"].unique()"
   ]
  },
  {
   "cell_type": "code",
   "execution_count": null,
   "metadata": {},
   "outputs": [],
   "source": [
    "#change float to int\n",
    "import numpy as np\n",
    "\n",
    "df['ward'] = df['ward'].dropna().astype(\"Int64\") #pandas int"
   ]
  },
  {
   "cell_type": "code",
   "execution_count": null,
   "metadata": {},
   "outputs": [],
   "source": [
    "df[\"ward\"].head()"
   ]
  },
  {
   "cell_type": "code",
   "execution_count": null,
   "metadata": {},
   "outputs": [],
   "source": [
    "df[\"ward\"].unique()"
   ]
  },
  {
   "cell_type": "code",
   "execution_count": null,
   "metadata": {},
   "outputs": [],
   "source": [
    "df['ward'] = df['ward'].astype(\"category\")\n"
   ]
  },
  {
   "cell_type": "code",
   "execution_count": null,
   "metadata": {},
   "outputs": [],
   "source": [
    "chart_2 = alt.Chart(df).mark_bar(size=20).encode(\n",
    "    x=alt.X('ward',\n",
    "            sort=\"-y\",\n",
    "            axis=alt.Axis(title=\"Ward\",\n",
    "                          titleAnchor=\"start\", \n",
    "                          labelAngle=0)),\n",
    "    y=alt.Y('count(primary_type)',\n",
    "            axis=alt.Axis(title = \"Count\", \n",
    "                          titleAnchor=\"end\")),\n",
    ").properties(\n",
    "    title='Count of commited crime in the wards',\n",
    "    width=1500,\n",
    "    height=400\n",
    ")\n",
    "\n",
    "\n",
    "chart_2.configure_title(\n",
    "    fontSize=16,\n",
    "    font='Arial',\n",
    "    color='black',\n",
    "    anchor='start'\n",
    ")"
   ]
  },
  {
   "cell_type": "code",
   "execution_count": null,
   "metadata": {},
   "outputs": [],
   "source": [
    "df['year'] = df['year'].astype(\"category\")\n"
   ]
  },
  {
   "cell_type": "code",
   "execution_count": null,
   "metadata": {},
   "outputs": [],
   "source": [
    "chart_3 = alt.Chart(df).mark_bar().encode(\n",
    "    x=alt.X('year',\n",
    "            axis=alt.Axis(title=\"Year\",\n",
    "                          titleAnchor=\"start\", \n",
    "                          labelAngle=0)),\n",
    "    y=alt.Y('count(primary_type)',\n",
    "            axis=alt.Axis(title = \"Count\", \n",
    "                          titleAnchor=\"end\")),\n",
    ").properties(\n",
    "    title='Count of commited crime per year',\n",
    "    width=200,\n",
    "    height=400\n",
    ")\n",
    "\n",
    "\n",
    "chart_3.configure_title(\n",
    "    fontSize=16,\n",
    "    font='Arial',\n",
    "    color='black',\n",
    "    anchor='start'\n",
    ")"
   ]
  },
  {
   "cell_type": "code",
   "execution_count": null,
   "metadata": {},
   "outputs": [],
   "source": [
    "df['month'] = df['month'].astype(\"category\")\n"
   ]
  },
  {
   "cell_type": "code",
   "execution_count": null,
   "metadata": {},
   "outputs": [],
   "source": [
    "chart_4 = alt.Chart(df).mark_bar(size=30).encode(\n",
    "    x=alt.X('month',\n",
    "            axis=alt.Axis(title=\"Month\",\n",
    "                          titleAnchor=\"start\", \n",
    "                          labelAngle=0)),\n",
    "    y=alt.Y('count(primary_type)',\n",
    "            axis=alt.Axis(title = \"Count\", \n",
    "                          titleAnchor=\"end\")),\n",
    ").properties(\n",
    "    title='Count of commited crime per month',\n",
    "    width=500,\n",
    "    height=400\n",
    ")\n",
    "\n",
    "\n",
    "chart_4.configure_title(\n",
    "    fontSize=16,\n",
    "    font='Arial',\n",
    "    color='black',\n",
    "    anchor='start'\n",
    ")"
   ]
  },
  {
   "cell_type": "code",
   "execution_count": null,
   "metadata": {},
   "outputs": [],
   "source": [
    "df['hour'] = df['hour'].astype(\"category\")"
   ]
  },
  {
   "cell_type": "code",
   "execution_count": null,
   "metadata": {},
   "outputs": [],
   "source": [
    "chart_5 = alt.Chart(df).mark_bar(size=15).encode(\n",
    "    x=alt.X('hour',\n",
    "            axis=alt.Axis(title=\"Hour\",\n",
    "                          titleAnchor=\"start\",\n",
    "                          labelAngle=0)),\n",
    "    y=alt.Y('count(primary_type)',\n",
    "            axis=alt.Axis(title = \"Count\", \n",
    "                          titleAnchor=\"end\")),\n",
    ").properties(\n",
    "    title='Count of commited crime per hour',\n",
    "    width=600,\n",
    "    height=400\n",
    ")\n",
    "\n",
    "\n",
    "chart_5.configure_title(\n",
    "    fontSize=16,\n",
    "    font='Arial',\n",
    "    color='black',\n",
    "    anchor='start'\n",
    ")"
   ]
  },
  {
   "cell_type": "code",
   "execution_count": null,
   "metadata": {},
   "outputs": [],
   "source": [
    "#Geopandas library to work with Chicago map\n",
    "import geopandas as gpd"
   ]
  },
  {
   "cell_type": "code",
   "execution_count": null,
   "metadata": {},
   "outputs": [],
   "source": [
    "PARENT_PATH = str(Path().resolve().parent) + \"/\"\n",
    "PATH = \"data/\"\n",
    "SUBPATH = \"external/\"\n",
    "FILE = \"wards\"\n",
    "FORMAT = \".shp\"\n",
    "\n",
    "gdf = gpd.read_file(PARENT_PATH + PATH + SUBPATH + FILE + FORMAT)"
   ]
  },
  {
   "cell_type": "code",
   "execution_count": null,
   "metadata": {},
   "outputs": [],
   "source": [
    "gdf.head()"
   ]
  },
  {
   "cell_type": "code",
   "execution_count": null,
   "metadata": {},
   "outputs": [],
   "source": [
    "gdf.info()"
   ]
  },
  {
   "cell_type": "code",
   "execution_count": null,
   "metadata": {},
   "outputs": [],
   "source": [
    "#Map of Chicago with Crimes as Dots on the Map\n",
    "\n",
    "choro = alt.Chart(gdf).mark_geoshape(\n",
    "    fill=\"lightgrey\", stroke='grey'\n",
    ").encode()\n",
    "\n",
    "\n",
    "p = alt.Chart(df).mark_circle().encode(\n",
    "    longitude='longitude',\n",
    "    latitude='latitude',\n",
    "    size=alt.value(10)\n",
    ").properties(\n",
    "    title=\"Location of crimes in Chicago City\",\n",
    "    width=1000,\n",
    "    height=1000\n",
    ")\n",
    "\n",
    "choro + p"
   ]
  },
  {
   "cell_type": "markdown",
   "metadata": {},
   "source": [
    "## Data dictionary\n",
    "\n",
    "*Create a data dictionary for all the variables in your data set. You may fill out the data description table or create your own table with Pandas:*\n",
    "\n",
    "<br>\n",
    "\n",
    "\n",
    "| Name  |   Description\t   \t| Type   \t|  Format \t|\n",
    "|---\t|---\t          \t|---\t    |---\t|\n",
    "|id   \t|Unique identifier for the record.   \t            |numeric   \t    |category   \t|\n",
    "|date   \t|Date when the incident occurred.   \t       \t    |oridnal   \t    |date   \t|\n",
    "|block   \t|The partially redacted address where the incident occurred.   \t            |numeric   \t    |category   \t|\n",
    "|primary_type   \t|The primary description of the IUCR code.   \t       \t    |nominal   \t    |category   \t|\n",
    "|arrest   \t|Indicates whether an arrest was made.   \t            |nominal   \t    |category   \t|\n",
    "|domestic   \t|Indicates whether the incident was domestic-related as defined by the Illinois Domestic Violence Act.   \t       \t    |nominal   \t    |category   \t|\n",
    "|beat   \t|Indicates the beat where the incident occurred.   \t       \t    |numeric, dicsrete   \t    |category   \t|\n",
    "|district   \t|Indicates the police district where the incident occurred.   \t       \t    |numeric, dicsrete   \t    |category   \t|\n",
    "|ward   \t|The ward (City Council district) where the incident occurred.   \t       \t    |numeric, discrete   \t    |category   \t|\n",
    "|community_area   \t|Indicates the community area where the incident occurred.   \t       \t    |numeric, discrete   \t    |category   \t|\n",
    "|year   \t|Year the incident occurred.   \t       \t    |nominal   \t    |category   \t|\n",
    "|month   \t|Month the incident occurred.   \t       \t    |nominal   \t    |category   \t|\n",
    "|day   \t|Day the incident occurred.   \t       \t    |nominal   \t    |category   \t|\n",
    "|hour   \t|Hour the incident occurred.   \t       \t    |nominal   \t    |category   \t|\n",
    "|latitude   \t|The longitude of the location where the incident occurred.   \t       \t    |numeric   \t    |float   \t|\n",
    "|longitude   \t|The longitude of the location where the incident occurred.   \t       \t    |numeric   \t    |float   \t|\n",
    "|arrest__False   \t|Indicates whether an arrest was made. 0 means False   \t            |nominal   \t    |category   \t|\n",
    "|arrest__True   \t|Indicates whether an arrest was made. 1 means True   \t            |nominal   \t    |category   \t|\n",
    "|domestic__False   \t|Indicates whether the incident was domestic-related as defined by the Illinois Domestic Violence Act. 0 means False  \t       \t    |nominal   \t    |category   \t|\n",
    "|domestic__True   \t|Indicates whether the incident was domestic-related as defined by the Illinois Domestic Violence Act. 1 means True   \t       \t    |nominal   \t    |category   \t|\n",
    "\n",
    "<br>\n",
    "\n",
    "\n",
    "- `Type`: nominal, ordinal or numeric\n",
    "\n",
    "- `Format`: int, float, string, category, date or object"
   ]
  }
 ],
 "metadata": {
  "kernelspec": {
   "display_name": "Python 3.9.13 ('dst')",
   "language": "python",
   "name": "python3"
  },
  "language_info": {
   "codemirror_mode": {
    "name": "ipython",
    "version": 3
   },
   "file_extension": ".py",
   "mimetype": "text/x-python",
   "name": "python",
   "nbconvert_exporter": "python",
   "pygments_lexer": "ipython3",
   "version": "3.9.13"
  },
  "orig_nbformat": 4,
  "vscode": {
   "interpreter": {
    "hash": "afb2be5e0fa59e7cc779d156738954d1f1d32fb360bdb57d692d068a241e7d01"
   }
  }
 },
 "nbformat": 4,
 "nbformat_minor": 2
}
